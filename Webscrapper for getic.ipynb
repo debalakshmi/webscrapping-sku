{
 "cells": [
  {
   "cell_type": "code",
   "execution_count": 1,
   "id": "2045a959",
   "metadata": {},
   "outputs": [],
   "source": [
    "from bs4 import BeautifulSoup\n",
    "import requests\n",
    "import time\n",
    "import datetime"
   ]
  },
  {
   "cell_type": "code",
   "execution_count": 2,
   "id": "72199774",
   "metadata": {},
   "outputs": [],
   "source": [
    "#connect to website\n",
    "\n",
    "url = 'https://www.getic.com/shop/airfiber'\n",
    "headers ={\"User-Agent\": \"Mozilla/5.0 (Windows NT 10.0; Win64; x64) AppleWebKit/537.36 (KHTML, like Gecko) Chrome/118.0.0.0 Safari/537.36\", \"Accept-Encoding\":\"gzip, deflate\", \"Accept\":\"text/html,application/xhtml+xml,application/xml;q=0.9,*/*;q=0.8\", \"DNT\":\"1\",\"Connection\":\"close\", \"Upgrade-Insecure-Requests\":\"1\"} \n",
    "page = requests.get(url,headers=headers)\n",
    "soup1 =BeautifulSoup(page.content,\"html.parser\")\n",
    "soup2= BeautifulSoup(soup1.prettify(),\"html.parser\")\n"
   ]
  },
  {
   "cell_type": "code",
   "execution_count": 80,
   "id": "2b2f33b7",
   "metadata": {},
   "outputs": [
    {
     "name": "stdout",
     "output_type": "stream",
     "text": [
      "Ubiquiti AirFiber\n"
     ]
    },
    {
     "ename": "IndexError",
     "evalue": "list index out of range",
     "output_type": "error",
     "traceback": [
      "\u001b[1;31m---------------------------------------------------------------------------\u001b[0m",
      "\u001b[1;31mIndexError\u001b[0m                                Traceback (most recent call last)",
      "Cell \u001b[1;32mIn[80], line 3\u001b[0m\n\u001b[0;32m      1\u001b[0m title1 \u001b[38;5;241m=\u001b[39msoup2\u001b[38;5;241m.\u001b[39mfind(\u001b[38;5;124m'\u001b[39m\u001b[38;5;124mh1\u001b[39m\u001b[38;5;124m'\u001b[39m,class_ \u001b[38;5;241m=\u001b[39m \u001b[38;5;124m\"\u001b[39m\u001b[38;5;124mproduct-heading text-center page-heading w-100\u001b[39m\u001b[38;5;124m\"\u001b[39m)\u001b[38;5;241m.\u001b[39mget_text()\u001b[38;5;241m.\u001b[39mstrip()\n\u001b[0;32m      2\u001b[0m \u001b[38;5;28mprint\u001b[39m(title1)\n\u001b[1;32m----> 3\u001b[0m partNo \u001b[38;5;241m=\u001b[39msoup2\u001b[38;5;241m.\u001b[39mfind_all(\u001b[38;5;124m'\u001b[39m\u001b[38;5;124mdiv\u001b[39m\u001b[38;5;124m'\u001b[39m,class_\u001b[38;5;241m=\u001b[39m\u001b[38;5;124m\"\u001b[39m\u001b[38;5;124mcell-content\u001b[39m\u001b[38;5;124m\"\u001b[39m)[\u001b[38;5;241m1\u001b[39m]\u001b[38;5;241m.\u001b[39mget_text()\u001b[38;5;241m.\u001b[39mstrip()\n\u001b[0;32m      4\u001b[0m \u001b[38;5;28mprint\u001b[39m(partNo)\n\u001b[0;32m      5\u001b[0m EAN \u001b[38;5;241m=\u001b[39msoup2\u001b[38;5;241m.\u001b[39mfind_all(\u001b[38;5;124m'\u001b[39m\u001b[38;5;124mdiv\u001b[39m\u001b[38;5;124m'\u001b[39m,class_\u001b[38;5;241m=\u001b[39m\u001b[38;5;124m\"\u001b[39m\u001b[38;5;124mcell-content\u001b[39m\u001b[38;5;124m\"\u001b[39m)[\u001b[38;5;241m3\u001b[39m]\u001b[38;5;241m.\u001b[39mget_text()\u001b[38;5;241m.\u001b[39mstrip()\n",
      "\u001b[1;31mIndexError\u001b[0m: list index out of range"
     ]
    }
   ],
   "source": [
    "title1 =soup2.find('h1',class_ = \"product-heading text-center page-heading w-100\").get_text().strip()\n",
    "print(title1)\n",
    "partNo =soup2.find_all('div',class_=\"cell-content\")[1].get_text().strip()\n",
    "print(partNo)\n",
    "EAN =soup2.find_all('div',class_=\"cell-content\")[3].get_text().strip()\n",
    "print(EAN)\n",
    "Currency =soup2.find_all('span',class_=\"product-price-currency\")[1].get_text().strip()+' ' +soup2.find_all('span',class_=\"product-price-value\")[0].get_text().strip()\n",
    "print(Currency)\n",
    "\n"
   ]
  },
  {
   "cell_type": "code",
   "execution_count": 80,
   "id": "7b3ad022",
   "metadata": {},
   "outputs": [],
   "source": [
    "import csv\n",
    "header = ['Product Name',' Part Number','EAN','Currency']\n",
    "data =[title1,partNo,EAN,Currency]\n",
    "\n",
    "with open('GeticWebScrapperDataSet.csv','w',newline='',encoding ='UTF8') as f:\n",
    "    writer=csv.writer(f)\n",
    "    writer.writerow(header)\n",
    "    writer.writerow(data)\n",
    "   "
   ]
  },
  {
   "cell_type": "code",
   "execution_count": 79,
   "id": "edec57b9",
   "metadata": {},
   "outputs": [
    {
     "ename": "IndexError",
     "evalue": "list index out of range",
     "output_type": "error",
     "traceback": [
      "\u001b[1;31m---------------------------------------------------------------------------\u001b[0m",
      "\u001b[1;31mIndexError\u001b[0m                                Traceback (most recent call last)",
      "Cell \u001b[1;32mIn[79], line 1\u001b[0m\n\u001b[1;32m----> 1\u001b[0m Title \u001b[38;5;241m=\u001b[39msoup2\u001b[38;5;241m.\u001b[39mfind_all(\u001b[38;5;124m'\u001b[39m\u001b[38;5;124mdiv\u001b[39m\u001b[38;5;124m'\u001b[39m,class_\u001b[38;5;241m=\u001b[39m\u001b[38;5;124m\"\u001b[39m\u001b[38;5;124mcell-content\u001b[39m\u001b[38;5;124m\"\u001b[39m)[\u001b[38;5;241m1\u001b[39m]\u001b[38;5;241m.\u001b[39mget_text()\u001b[38;5;241m.\u001b[39mstrip()\n\u001b[0;32m      2\u001b[0m \u001b[38;5;28mprint\u001b[39m(Title)\n",
      "\u001b[1;31mIndexError\u001b[0m: list index out of range"
     ]
    }
   ],
   "source": [
    "Title =soup2.find_all('div',class_=\"cell-content\")[1].get_text().strip()\n",
    "print(Title)\n",
    "\n",
    "#price_value= soup2.find_all('span',class_=\"product-price-value\")[1].get_text()"
   ]
  },
  {
   "cell_type": "code",
   "execution_count": null,
   "id": "91893308",
   "metadata": {},
   "outputs": [],
   "source": []
  },
  {
   "cell_type": "code",
   "execution_count": 118,
   "id": "ebfd4096",
   "metadata": {},
   "outputs": [
    {
     "data": {
      "text/plain": [
       "[{'product_name': 'AirFiber 11 (no duplexers)',\n",
       "  'product_link': '/product/airfiber-11',\n",
       "  'original_link': 'https://www.getic.com/product/airfiber-11'},\n",
       " {'product_name': 'AirFiber 11 High Band Duplexer',\n",
       "  'product_link': '/product/airfiber-11-high-band-duplexer',\n",
       "  'original_link': 'https://www.getic.com/product/airfiber-11-high-band-duplexer'},\n",
       " {'product_name': 'AirFiber 11 Low Band Duplexer',\n",
       "  'product_link': '/product/airfiber-11-low-band-duplexer',\n",
       "  'original_link': 'https://www.getic.com/product/airfiber-11-low-band-duplexer'},\n",
       " {'product_name': 'AirFiber 11FX (no duplexers)',\n",
       "  'product_link': '/product/airfiber-11fx',\n",
       "  'original_link': 'https://www.getic.com/product/airfiber-11fx'},\n",
       " {'product_name': 'AirFiber 24',\n",
       "  'product_link': '/product/airfiber',\n",
       "  'original_link': 'https://www.getic.com/product/airfiber'},\n",
       " {'product_name': 'AirFiber 5G23-S45',\n",
       "  'product_link': '/product/airfiber-5g23-s45',\n",
       "  'original_link': 'https://www.getic.com/product/airfiber-5g23-s45'},\n",
       " {'product_name': 'AirFiber 5G30-S45',\n",
       "  'product_link': '/product/airfiber-5g30-s45',\n",
       "  'original_link': 'https://www.getic.com/product/airfiber-5g30-s45'},\n",
       " {'product_name': 'AirFiber 5G34-S45',\n",
       "  'product_link': '/product/airfiber-5g34-s45',\n",
       "  'original_link': 'https://www.getic.com/product/airfiber-5g34-s45'},\n",
       " {'product_name': 'AirFiber 5XHD',\n",
       "  'product_link': '/product/airfiber-5xhd',\n",
       "  'original_link': 'https://www.getic.com/product/airfiber-5xhd'},\n",
       " {'product_name': 'AirFiber 60 HD',\n",
       "  'product_link': '/product/ubiquiti-airfiber-60-hd',\n",
       "  'original_link': 'https://www.getic.com/product/ubiquiti-airfiber-60-hd'},\n",
       " {'product_name': 'AirFiber 60 LR',\n",
       "  'product_link': '/product/airfiber-60-lr',\n",
       "  'original_link': 'https://www.getic.com/product/airfiber-60-lr'},\n",
       " {'product_name': 'AirFiber 60 XG',\n",
       "  'product_link': '/product/airfiber-60-xg',\n",
       "  'original_link': 'https://www.getic.com/product/airfiber-60-xg'},\n",
       " {'product_name': 'AirFiber 60 XR',\n",
       "  'product_link': '/product/airfiber-60-xr',\n",
       "  'original_link': 'https://www.getic.com/product/airfiber-60-xr'},\n",
       " {'product_name': 'AirFiber AF11-Complete-HB',\n",
       "  'product_link': '/product/airfiber-af-11-complete-hb',\n",
       "  'original_link': 'https://www.getic.com/product/airfiber-af-11-complete-hb'},\n",
       " {'product_name': 'AirFiber AF11-Complete-LB',\n",
       "  'product_link': '/product/airfiber-af-11-complete-lb',\n",
       "  'original_link': 'https://www.getic.com/product/airfiber-af-11-complete-lb'},\n",
       " {'product_name': 'AirFiber OMT RD Conversion Kit, Slant 45',\n",
       "  'product_link': '/product/airfiber-omt-rd-conversion-kit-slant-45',\n",
       "  'original_link': 'https://www.getic.com/product/airfiber-omt-rd-conversion-kit-slant-45'},\n",
       " {'product_name': 'airMAX IsoBeam 620',\n",
       "  'product_link': '/product/isolator-ring-620',\n",
       "  'original_link': 'https://www.getic.com/product/isolator-ring-620'}]"
      ]
     },
     "execution_count": 118,
     "metadata": {},
     "output_type": "execute_result"
    }
   ],
   "source": [
    "product_data"
   ]
  },
  {
   "cell_type": "code",
   "execution_count": null,
   "id": "7b87656a",
   "metadata": {},
   "outputs": [],
   "source": [
    "title1=soup2.find_all(\"a\", attrs={'class':'a-link-normal s-no-outline'})"
   ]
  },
  {
   "cell_type": "code",
   "execution_count": 47,
   "id": "dfa419ff",
   "metadata": {},
   "outputs": [
    {
     "name": "stdout",
     "output_type": "stream",
     "text": [
      "Product Title: AirFiber 11 (no duplexers)\n",
      "Product Link: https://www.getic.com/product/airfiber-11\n",
      "--------------------------------------------------\n",
      "Product Title: AirFiber 11 High Band Duplexer\n",
      "Product Link: https://www.getic.com/product/airfiber-11-high-band-duplexer\n",
      "--------------------------------------------------\n",
      "Product Title: AirFiber 11 Low Band Duplexer\n",
      "Product Link: https://www.getic.com/product/airfiber-11-low-band-duplexer\n",
      "--------------------------------------------------\n",
      "Product Title: AirFiber 11FX (no duplexers)\n",
      "Product Link: https://www.getic.com/product/airfiber-11fx\n",
      "--------------------------------------------------\n",
      "Product Title: AirFiber 24\n",
      "Product Link: https://www.getic.com/product/airfiber\n",
      "--------------------------------------------------\n",
      "Product Title: AirFiber 5G23-S45\n",
      "Product Link: https://www.getic.com/product/airfiber-5g23-s45\n",
      "--------------------------------------------------\n",
      "Product Title: AirFiber 5G30-S45\n",
      "Product Link: https://www.getic.com/product/airfiber-5g30-s45\n",
      "--------------------------------------------------\n",
      "Product Title: AirFiber 5G34-S45\n",
      "Product Link: https://www.getic.com/product/airfiber-5g34-s45\n",
      "--------------------------------------------------\n",
      "Product Title: AirFiber 5XHD\n",
      "Product Link: https://www.getic.com/product/airfiber-5xhd\n",
      "--------------------------------------------------\n",
      "Product Title: AirFiber 60 HD\n",
      "Product Link: https://www.getic.com/product/ubiquiti-airfiber-60-hd\n",
      "--------------------------------------------------\n",
      "Product Title: AirFiber 60 LR\n",
      "Product Link: https://www.getic.com/product/airfiber-60-lr\n",
      "--------------------------------------------------\n",
      "Product Title: AirFiber 60 XG\n",
      "Product Link: https://www.getic.com/product/airfiber-60-xg\n",
      "--------------------------------------------------\n",
      "Product Title: AirFiber 60 XR\n",
      "Product Link: https://www.getic.com/product/airfiber-60-xr\n",
      "--------------------------------------------------\n",
      "Product Title: AirFiber AF11-Complete-HB\n",
      "Product Link: https://www.getic.com/product/airfiber-af-11-complete-hb\n",
      "--------------------------------------------------\n",
      "Product Title: AirFiber AF11-Complete-LB\n",
      "Product Link: https://www.getic.com/product/airfiber-af-11-complete-lb\n",
      "--------------------------------------------------\n",
      "Product Title: AirFiber OMT RD Conversion Kit, Slant 45\n",
      "Product Link: https://www.getic.com/product/airfiber-omt-rd-conversion-kit-slant-45\n",
      "--------------------------------------------------\n",
      "Product Title: airMAX IsoBeam 620\n",
      "Product Link: https://www.getic.com/product/isolator-ring-620\n",
      "--------------------------------------------------\n"
     ]
    }
   ],
   "source": [
    "import requests\n",
    "from bs4 import BeautifulSoup\n",
    "\n",
    "# The URL of the website you want to scrape\n",
    "url = \"https://www.getic.com/shop/airfiber\"\n",
    "\n",
    "# Send a GET request to the website\n",
    "response = requests.get(url)\n",
    "\n",
    "# Parse the HTML content of the page using BeautifulSoup\n",
    "soup = BeautifulSoup(response.content, \"html.parser\")\n",
    "\n",
    "# Find all product titles and links\n",
    "product_cards = soup.find_all(\"h3\", class_=\"product-card-header\")\n",
    "\n",
    "# Extract product titles and links\n",
    "for product_card in product_cards:\n",
    "    title = product_card.text.strip()  # Get the text of the product title\n",
    "    link = product_card.a.get(\"href\")  # Get the href attribute of the <a> tag inside the product card\n",
    "    full_link = f\"https://www.getic.com{link}\"  # Create the complete product link\n",
    "    print(f\"Product Title: {title}\")\n",
    "    print(f\"Product Link: {full_link}\")\n",
    "    print(\"-\" * 50)\n"
   ]
  },
  {
   "cell_type": "code",
   "execution_count": 110,
   "id": "9b149772",
   "metadata": {},
   "outputs": [
    {
     "ename": "AttributeError",
     "evalue": "ResultSet object has no attribute 'a'. You're probably treating a list of elements like a single element. Did you call find_all() when you meant to call find()?",
     "output_type": "error",
     "traceback": [
      "\u001b[1;31m---------------------------------------------------------------------------\u001b[0m",
      "\u001b[1;31mAttributeError\u001b[0m                            Traceback (most recent call last)",
      "Cell \u001b[1;32mIn[110], line 1\u001b[0m\n\u001b[1;32m----> 1\u001b[0m link \u001b[38;5;241m=\u001b[39mtitle1\u001b[38;5;241m.\u001b[39ma\u001b[38;5;241m.\u001b[39mget(\u001b[38;5;124m\"\u001b[39m\u001b[38;5;124mhref\u001b[39m\u001b[38;5;124m\"\u001b[39m)\n\u001b[0;32m      2\u001b[0m \u001b[38;5;28mprint\u001b[39m(link)\n",
      "File \u001b[1;32m~\\anaconda3\\Lib\\site-packages\\bs4\\element.py:2428\u001b[0m, in \u001b[0;36mResultSet.__getattr__\u001b[1;34m(self, key)\u001b[0m\n\u001b[0;32m   2426\u001b[0m \u001b[38;5;28;01mdef\u001b[39;00m \u001b[38;5;21m__getattr__\u001b[39m(\u001b[38;5;28mself\u001b[39m, key):\n\u001b[0;32m   2427\u001b[0m \u001b[38;5;250m    \u001b[39m\u001b[38;5;124;03m\"\"\"Raise a helpful exception to explain a common code fix.\"\"\"\u001b[39;00m\n\u001b[1;32m-> 2428\u001b[0m     \u001b[38;5;28;01mraise\u001b[39;00m \u001b[38;5;167;01mAttributeError\u001b[39;00m(\n\u001b[0;32m   2429\u001b[0m         \u001b[38;5;124m\"\u001b[39m\u001b[38;5;124mResultSet object has no attribute \u001b[39m\u001b[38;5;124m'\u001b[39m\u001b[38;5;132;01m%s\u001b[39;00m\u001b[38;5;124m'\u001b[39m\u001b[38;5;124m. You\u001b[39m\u001b[38;5;124m'\u001b[39m\u001b[38;5;124mre probably treating a list of elements like a single element. Did you call find_all() when you meant to call find()?\u001b[39m\u001b[38;5;124m\"\u001b[39m \u001b[38;5;241m%\u001b[39m key\n\u001b[0;32m   2430\u001b[0m     )\n",
      "\u001b[1;31mAttributeError\u001b[0m: ResultSet object has no attribute 'a'. You're probably treating a list of elements like a single element. Did you call find_all() when you meant to call find()?"
     ]
    }
   ],
   "source": [
    "link =title1.a.get(\"href\")\n",
    "print(link)\n",
    "\n",
    "\n",
    "links = [a['href'] for a in soup.find_all('a', href=True)]\n",
    "\n",
    "# Print the links\n",
    "for link in links:\n",
    "    print(link)"
   ]
  },
  {
   "cell_type": "code",
   "execution_count": 56,
   "id": "0f69ec90",
   "metadata": {},
   "outputs": [
    {
     "data": {
      "text/plain": [
       "'https://www.getic.com/product/airfiber-11'"
      ]
     },
     "execution_count": 56,
     "metadata": {},
     "output_type": "execute_result"
    }
   ],
   "source": [
    "product_list ='https://www.getic.com'+link\n",
    "product_list"
   ]
  },
  {
   "cell_type": "code",
   "execution_count": 57,
   "id": "9c5e8590",
   "metadata": {},
   "outputs": [],
   "source": [
    "new_page = requests.get(product_list,headers=headers)"
   ]
  },
  {
   "cell_type": "code",
   "execution_count": 58,
   "id": "b6440424",
   "metadata": {},
   "outputs": [
    {
     "data": {
      "text/plain": [
       "<Response [200]>"
      ]
     },
     "execution_count": 58,
     "metadata": {},
     "output_type": "execute_result"
    }
   ],
   "source": [
    "new_page"
   ]
  },
  {
   "cell_type": "code",
   "execution_count": 59,
   "id": "a7aa44b3",
   "metadata": {
    "scrolled": true
   },
   "outputs": [
    {
     "name": "stdout",
     "output_type": "stream",
     "text": [
      "/product/airfiber-11\n",
      "/product/airfiber-11-high-band-duplexer\n",
      "/product/airfiber-11-low-band-duplexer\n",
      "/product/airfiber-11fx\n",
      "/product/airfiber\n",
      "/product/airfiber-5g23-s45\n",
      "/product/airfiber-5g30-s45\n",
      "/product/airfiber-5g34-s45\n",
      "/product/airfiber-5xhd\n",
      "/product/ubiquiti-airfiber-60-hd\n",
      "/product/airfiber-60-lr\n",
      "/product/airfiber-60-xg\n",
      "/product/airfiber-60-xr\n",
      "/product/airfiber-af-11-complete-hb\n",
      "/product/airfiber-af-11-complete-lb\n",
      "/product/airfiber-omt-rd-conversion-kit-slant-45\n",
      "/product/isolator-ring-620\n"
     ]
    }
   ],
   "source": [
    "# title1 =soup2.find_all('h3',class_='product-card-header')\n",
    "# print(title1)\n",
    "# links = [a['href'] for a in soup.find_all('a', href=True)]\n",
    "\n",
    "# # Print the links\n",
    "# for link in links:\n",
    "#     print(link)\n",
    "    \n",
    "    \n",
    "    \n",
    "    \n",
    "    \n",
    "titles = soup.find_all('h3', class_=\"product-card-header\")\n",
    "\n",
    "# Extract product name and product link from each title\n",
    "product_data = []\n",
    "for title in titles:\n",
    "    #product_name = title.a.string.strip()\n",
    "    product_link = title.a['href'].strip()\n",
    "#     print(title)\n",
    "    print(product_link)\n",
    "\n",
    "#     product_data.append({\n",
    "#         'product_link': product_link,\n",
    "#     })\n",
    "\n",
    "# # Convert the extracted data to a pandas DataFrame\n",
    "# df = pd.DataFrame(product_data)\n",
    "\n",
    "\n",
    "# # Display the DataFrame\n",
    "# df.head()"
   ]
  },
  {
   "cell_type": "code",
   "execution_count": 60,
   "id": "49a534e0",
   "metadata": {},
   "outputs": [],
   "source": [
    "new_soup =BeautifulSoup(new_page.content,'html.parser')"
   ]
  },
  {
   "cell_type": "code",
   "execution_count": 61,
   "id": "9dbeda33",
   "metadata": {},
   "outputs": [
    {
     "data": {
      "text/plain": [
       "<!DOCTYPE html>\n",
       "<html lang=\"en\"><head><meta charset=\"utf-8\"/><link href=\"/favicon.ico\" rel=\"icon\"/><link href=\"/favicon-16x16.png\" rel=\"icon\" sizes=\"16x16\" type=\"image/png\"/><link href=\"/favicon-32x32.png\" rel=\"icon\" sizes=\"32x32\" type=\"image/png\"/><link href=\"/android-chrome-192x192.png\" rel=\"icon\" sizes=\"192x192\" type=\"image/png\"/><link href=\"/favicon_384x384.png\" rel=\"icon\" sizes=\"384x384\" type=\"image/png\"/><link href=\"/apple-touch-icon.png\" rel=\"apple-touch-icon\" sizes=\"180x180\"/><link href=\"/apple-touch-icon.png\" rel=\"mask-icon\"/><meta content=\"#FF8200\" name=\"msapplication-TileColor\"/><meta content=\"/mstile-150x150.png\" name=\"msapplication-TileImage\"/><meta content=\"/browserconfig.xml\" name=\"msapplication-config\"/><meta content=\"width=device-width,height=device-height,initial-scale=1\" name=\"viewport\"><meta content=\"#000000\" name=\"theme-color\"><link href=\"/manifest.json\" rel=\"manifest\"><link as=\"script\" href=\"https://consent.cookiebot.com/uc.js\" rel=\"preload\"><script>!function(e,t,a,c,o,n,i){let r=e.scripts[0],s=e.createElement(\"script\"),l=[/^\\/([a-z]{2})([_-][a-z]{2})?(\\/.*)?$/g.exec(a),/^([a-z]{2})\\./.exec(t),/\\.([a-z]{2,})$/.exec(t)],d={de:\"de\",lv:\"lv\",ee:\"et\",ru:\"ru\",lt:\"lt\",fr:\"fr\",fi:\"fi\",eu:\"es\",it:\"it\"},f=0;for(f of l)if(l=f?f[1]:\"en\",f)break;l=2!=l.length?\"en\":l,l=d[l]?d[l]:l,s.id=\"Cookiebot\",s.src=\"https://consent.cookiebot.com/uc.js\",s.async=!1,s.dataset.cbid=\"45624256-278e-40a6-aae8-bc3d618e0c50\",s.dataset.culture=l,r.parentNode.insertBefore(s,r)}(document,location.hostname,location.pathname)</script><link as=\"script\" href=\"//widget.trustpilot.com/bootstrap/v5/tp.widget.bootstrap.min.js\" rel=\"preload\"><link as=\"script\" href=\"https://invitejs.trustpilot.com/tp.min.js\" rel=\"preload\"><script src=\"//widget.trustpilot.com/bootstrap/v5/tp.widget.bootstrap.min.js\" type=\"text/javascript\"></script><script>!function(t,e,n,s,i){t.TrustpilotObject=i,t[i]=t[i]||function(){(t[i].q=t[i].q||[]).push(arguments)},a=e.createElement(n),a.async=0,a.src=\"https://invitejs.trustpilot.com/tp.min.js\",a.type=\"text/java\"+n,f=e.getElementsByTagName(n)[0],f.parentNode.insertBefore(a,f)}(window,document,\"script\",0,\"tp\"),tp(\"register\",\"JeOS6HCPCcSk0FZN\")</script>\n",
       "<link as=\"font\" crossorigin=\"true\" data-rh=\"true\" href=\"/static/media/subset-BoxedRegular.2d41f815.woff2\" rel=\"preload\" type=\"font/woff2\"/><link as=\"font\" crossorigin=\"true\" data-rh=\"true\" href=\"/static/media/subset-BoxedSemibold.c7d95c7a.woff2\" rel=\"preload\" type=\"font/woff2\"/><link as=\"font\" crossorigin=\"true\" data-rh=\"true\" href=\"/static/media/subset-Montserrat-Regular.f5b4864f.woff2\" rel=\"preload\" type=\"font/woff2\"/><link as=\"font\" crossorigin=\"true\" data-rh=\"true\" href=\"/static/media/subset-Montserrat-Medium.828b095a.woff2\" rel=\"preload\" type=\"font/woff2\"/><link as=\"font\" crossorigin=\"true\" data-rh=\"true\" href=\"/static/media/subset-Montserrat-SemiBold.89de0a55.woff2\" rel=\"preload\" type=\"font/woff2\"/><link as=\"image\" data-rh=\"true\" fetchpriority=\"high\" href=\"/images/catalogue/2604/af11_front_angle-602fa66e14105-medium.jpg\" rel=\"preload\"/><link as=\"image\" data-rh=\"true\" fetchpriority=\"high\" href=\"/images/catalogue/2604/af11_front-602fa66ae6217-medium.jpg\" rel=\"preload\"/><meta content=\"Buy AirFiber 11 (no duplexers). Price from 911.94 USD. Worldwide delivery! Full description, specifications, reviews, extended warranty option. ☎ +371 60 000 888.\" data-rh=\"true\" name=\"description\"><meta content=\"AirFiber 11 (no duplexers) | Getic\" data-rh=\"true\" name=\"og:title\"/><meta content=\"product\" data-rh=\"true\" name=\"og:type\"/><meta content=\"/images/catalogue/2604/af11_front_angle-602fa66e14105-medium.jpg\" data-rh=\"true\" name=\"og:image\"/><title data-rh=\"true\">AirFiber 11 (no duplexers) | Getic</title>\n",
       "<style>@media (max-width:1199.98px){.images-carousel__inner{padding:0;background-color:rgba(0,0,0,0);box-shadow:none}}@media (max-width:575.98px){.images-carousel__inner .image-wrapper{min-width:300px}.images-carousel__inner .image-wrapper img{max-width:300px}}.radio-button-card .title{border-bottom:dotted 1px #818181}.radio-button-card .description{border-bottom:dotted 1px #818181}.breadcrumbs-container .breadcrumbs-item .breadcrumbs-delimiter{-webkit-mask-image:url(/static/media/arrow_ico_4.fdf609a5.svg);mask-image:url(/static/media/arrow_ico_4.fdf609a5.svg)}@media (max-width:991.98px){.breadcrumbs-container{margin-left:0;width:100%;height:3.75rem;justify-content:flex-start}.breadcrumbs-container .breadcrumbs-wrapper{width:100%;justify-content:flex-start;padding:0}.breadcrumbs-container .breadcrumbs-wrapper .breadcrumbs-item{width:-webkit-min-content;width:min-content;min-width:0;flex:1 1;padding-left:40px;margin-left:-40px}.breadcrumbs-container .breadcrumbs-wrapper .breadcrumbs-item:first-of-type{margin-left:0}.breadcrumbs-container .breadcrumbs-wrapper .breadcrumbs-item:last-of-type{padding-right:40px}.breadcrumbs-container .breadcrumbs-wrapper .breadcrumbs-item a{width:248px;font-size:.875rem;height:2.5rem}.breadcrumbs-container .breadcrumbs-wrapper .breadcrumbs-item .breadcrumbs-delimiter{height:2.5rem;width:2.5rem;-webkit-mask-image:url(/static/media/arrow_ico_3.2717bfd9.svg);mask-image:url(/static/media/arrow_ico_3.2717bfd9.svg);-webkit-mask-repeat:no-repeat;mask-repeat:no-repeat;-webkit-mask-position:center;mask-position:center;background-color:#fff;flex:1 1}}@media (max-width:575.98px){.breadcrumbs-container .breadcrumbs-wrapper .breadcrumbs-item{padding-left:20px;margin-left:-20px}.breadcrumbs-container .breadcrumbs-wrapper .breadcrumbs-item:first-of-type{margin-left:0}.breadcrumbs-container .breadcrumbs-wrapper .breadcrumbs-item:last-of-type{padding-right:20px}}.product-page .product-page-row .product-short-description .product-short-description-heading .new-used-switch{margin-left:auto;max-width:20rem}.product-page .product-page-row .product-short-description .product-short-description-heading .new-used-switch label{min-width:10rem}.product-page .product-page-row .product-left .showModel{padding:6px 10px;font-size:18px;color:#131515;border:1px solid #131515;border-radius:4px;outline:0;background:rgba(0,0,0,0)}.product-page .product-page-row .product-left .showModel{margin:-.5rem 0 0 -.5rem}@media (max-width:1199.98px){.product-page .product-left{overflow:hidden}.product-page .product-left .showModel{z-index:9;position:absolute;top:1rem;left:1rem}}@media (max-width:991.98px){.product-page .product-page-section .product-page-section-header{font-size:1.125rem}.product-page .product-page-section .product-page-section-content{font-size:.875rem}.product-page .product-page-row{display:flex;flex-flow:row wrap}.product-page .product-page-row .product-left,.product-page .product-page-row .product-short-description{width:100%;margin-left:0;float:none}.product-page .product-page-row .product-left{overflow:hidden}.product-page .product-page-row .product-left .showModel{top:0;left:auto;margin:.75rem}.product-page .product-page-row .product-short-description{margin-bottom:20px}.product-page .product-page-row .product-short-description .product-short-description-heading .new-used-switch{margin:0 auto}.product-page .product-page-row .product-short-description .product-short-description-heading .new-used-switch label{min-width:9.375rem}.product-page .product-page-row .product-short-description .plugs-list{max-width:10rem}}@media (max-width:767.98px){.product-page .product-page-section .product-page-section-content,.product-page .product-page-section .product-page-section-header{padding:0}.product-page .product-page-row .product-short-description .product-short-description-heading{margin-bottom:1.875rem;flex-wrap:nowrap;flex-direction:column-reverse}.product-page .product-page-row .product-short-description .product-short-description-heading .new-used-switch{max-width:16rem;margin-bottom:.75rem}.product-page .product-page-row .product-short-description .product-short-description-heading .new-used-switch label{min-width:8rem}}@media (max-width:991.98px){.product-page-section .section-cells-wrapper .cell-heading{margin-bottom:1.5rem}.product-page-section .section-cells-wrapper .cell-heading h3,.product-page-section .section-cells-wrapper .cell-heading h4{font-size:1rem}.product-page-section .section-cells-wrapper .cell-heading h4 .tooltip-heading{top:-2px;right:-35px}.product-page-section .section-cells-wrapper .cell-content{font-size:.875rem}}.product-card-loader .product-card-image-loader{-webkit-animation:shine-1 3s infinite linear;animation:shine-1 3s infinite linear}.product-card-loader .product-card-header-loader{-webkit-animation:shine-1 3s infinite linear;animation:shine-1 3s infinite linear}.product-card-loader .product-card-mpn-loader{-webkit-animation:shine-1 3s infinite linear;animation:shine-1 3s infinite linear}@media (max-width:991.98px){.product-card .product-card-footer .btn-compare{margin-left:1rem}}@media (max-width:991.98px){.page-heading{padding:2.5rem 1.25rem}}.page-heading{padding:3.75rem 0 3.75rem 0}@media (max-width:991.98px){.page-heading{font-size:1.875rem;padding:3.125rem 0 3.125rem 0}}@media (max-width:767.98px){.page-heading{font-size:1.625rem;padding:2.5rem 0 2.5rem 0}}@media (max-width:991.98px){.site-settings-wrapper .country-name{margin-right:0!important}}@media (max-width:767.98px){.footer .local-info-footer{margin-bottom:2.5rem}}@media (max-width:991.98px){.dropdown-wrapper{font-size:.875rem}.dropdown-wrapper .dropdown-input,.dropdown-wrapper .dropdown-select{height:2.5rem;padding-left:.938rem}.dropdown-select{margin:0;box-sizing:border-box;-webkit-appearance:none;appearance:none;background-color:#fff;background-repeat:no-repeat}.dropdown-select option{font-size:.875rem;min-height:1.5rem!important;overflow-wrap:break-word;color:#131515;background-color:#fff}.dropdown-wrapper.small select{background-image:url(/static/media/dropd_ico.49094bde.svg);background-position:calc(100% - .6rem) center;background-size:.938rem .5rem;background-repeat:no-repeat;padding-left:.938rem;padding-right:3.251rem;font-size:.875rem}.dropdown-wrapper.small:after{content:\"\";display:inline-block;position:absolute;top:0;height:2.5rem;right:2.313rem;border-left:1px solid #e7e7e7}}@media (max-width:767.98px){.dropdown-wrapper .dropdown-item{min-height:1rem}}.radio-button{border-radius:4px;background-color:#fff;border:1px solid #e7e7e7;color:#131515;font-family:var(--secondary-font-family);font-size:1rem;-webkit-appearance:none;appearance:none}.radio-button{height:3.125rem;display:flex;flex-wrap:nowrap;align-items:center;justify-content:center}.radio-button.active{background-color:#ff8200;border-color:#ff8200;color:#fff}.radio-button input[type=radio]{height:0;width:0;visibility:hidden;position:absolute;left:10000px}.input-group.combined .radio-button{border-right:none;border-radius:0}.input-group.combined .radio-button:last-child{border-right:1px solid #e7e7e7;border-top-right-radius:4px;border-bottom-right-radius:4px}.input-group.combined .radio-button:first-child{border-top-left-radius:4px;border-bottom-left-radius:4px}@media (max-width:991.98px){.radio-button{font-size:.875rem;letter-spacing:-.2px}.radio-button{height:2.5rem}}@media (min-width:768px){.d-md-block{display:block!important}.d-md-flex{display:flex!important}.d-md-none{display:none!important}}@media (min-width:992px){.d-lg-block{display:block!important}.d-lg-flex{display:flex!important}.d-lg-none{display:none!important}.d-lg-inline{display:inline!important}}@media (min-width:992px){.me-lg-2{margin-right:.5rem!important}}@media (max-width:767.98px){.pl-main{padding-left:2.1875rem!important}.pr-main{padding-right:2.1875rem!important}}.delimiter{margin:1rem 0 0 0}.btn-compare-wrapper .btn-compare{-webkit-mask:url(/static/media/compare_ico_2.9a9c0222.svg) no-repeat center;mask:url(/static/media/compare_ico_2.9a9c0222.svg) no-repeat center}@media (max-width:767.98px){.header-search-bar>input{height:3.125rem}}@media (max-width:767.98px){.header .header-top-bar{margin-bottom:1rem}.header .header-cart-btn{padding:0 1rem}}@media (max-width:767.98px){.header{padding-top:1rem}.header .btn{font-size:.875rem}.header .btn.menu{margin-right:.625rem}}@media (max-width:767.98px){.header{padding-top:1rem;grid-template-rows:2.8125rem 2.8125rem;grid-template-columns:1fr 1fr;grid-template-areas:\"logo top-bar\" \"bottom-bar bottom-bar\";-webkit-column-gap:0;column-gap:0;row-gap:1.5rem}.header .logo{padding-bottom:0}.header .header-catalogue-btn{padding:0 .75rem}.header .header-catalogue-btn .catalogue_ico{margin:0}.header .header-bottom-bar button{height:3.125rem}}.chat-placeholder-btn .chat-icon{-webkit-mask-image:url(/static/media/chat_ico.5c15f3e5.svg);mask-image:url(/static/media/chat_ico.5c15f3e5.svg)}@media (max-width:767.98px){.chat-placeholder-btn{right:1rem;bottom:1.125rem}}@media (max-width:767.98px){.cart-container .cart-product-card .product-card-footer .product-card-stock-wrapper{grid-area:unset;display:flex;flex-direction:row;flex-wrap:wrap;justify-content:flex-start;padding:0}.cart-container .cart-product-card .product-card-footer .product-card-stock-wrapper .counter{grid-area:counter;justify-content:flex-start;align-self:center;margin-right:.625rem}.cart-container .cart-product-card .product-card-footer .product-card-stock-wrapper .stock-amount{grid-area:amount;flex-direction:row;align-items:center;font-size:.75rem;margin-left:0;margin-top:.625rem;margin-right:1.625rem}.cart-container .cart-product-card .product-card-footer .price-cart-wrapper{display:flex;flex-direction:row;flex-wrap:nowrap;grid-area:prices-row;margin-top:-1rem}.cart-container .cart-product-card .product-card-footer .product-card-add-cart-wrapper{grid-area:cart;flex-direction:column;justify-content:flex-start;margin-left:auto}}label{display:inline-block}:root{--bs-heading-color: }.btn{--bs-btn-font-family: }.nav{--bs-nav-link-font-weight: }.dropdown-wrapper .dropdown-input{height:3.125rem;padding-left:1.25rem;background-color:#fff;color:#131515;letter-spacing:-.013rem;border:1px solid #e7e7e7;text-overflow:ellipsis}.text-end{text-align:right!important}@media (max-width:991.98px){.product-page .product-page-row .product-short-description .plugs-list{max-width:10rem}.dropdown-wrapper{font-size:.875rem}.dropdown-wrapper .dropdown-input{height:2.5rem;padding-left:.938rem}.dropdown-select option{font-size:.875rem;min-height:1.5rem!important;overflow-wrap:break-word;color:#131515;background-color:#fff}}h1,h3{margin-top:0;margin-bottom:.5rem;font-weight:500;line-height:1.2;color:var(--bs-heading-color)}button,input{margin:0;font-family:inherit;font-size:inherit;line-height:inherit}button{text-transform:none}.thumbnail-navigation{margin-top:1rem}.thumbnail-navigation .thumbnail-bar{width:300px}.thumbnail-navigation .thumb-container{background-color:#fff;height:100px;flex:1 1;border:1px solid #e7e7e7;border-right:none}.thumbnail-navigation .thumb-container:last-child{border-right:1px solid #e7e7e7}.thumbnail-navigation .thumb-container.no-nav:first-child{border-top-left-radius:4px;border-bottom-left-radius:4px}.thumbnail-navigation .thumb-container.no-nav:first-child.current:before{border-top-left-radius:4px;border-bottom-left-radius:4px}.thumbnail-navigation .thumb-container.no-nav:last-child{border-top-right-radius:4px;border-bottom-right-radius:4px}.thumbnail-navigation .thumb-container.current{position:relative;box-sizing:border-box}.thumbnail-navigation .thumb-container.current:before{content:\"\";position:absolute;top:-1px;left:-1px;right:-1px;bottom:-1px;border:1px solid #b4b4b4;z-index:10}.images-carousel{position:relative;z-index:3;padding-right:1rem;margin-bottom:2.5rem}.images-carousel__inner{padding:1.25rem;box-shadow:.3125rem .3125rem .625rem 0 rgba(19,21,21,.05);background-color:#fff;border-radius:4px}.images-carousel .own-swiper{width:calc(100% + 20px);max-width:calc(100% + 20px);margin:0 -10px}.images-carousel .own-swiper-slide{max-width:100%;width:100%}.images-carousel .image-wrapper{padding:0}.images-carousel .image-wrapper img{height:auto;max-width:100%;min-width:0}@media (max-width:991.98px){.images-carousel .own-swiper{margin:0 -5px}.images-carousel .own-swiper-slide{width:auto}.images-carousel .image-wrapper{padding:0 5px 10px;min-width:400px}.images-carousel .image-wrapper img{border-radius:4px;box-shadow:3px 3px 8px 0 rgba(19,21,21,.05);max-width:400px}}.breadcrumbs-container{display:flex;flex-flow:row nowrap;justify-content:center;align-items:center;height:4.375rem}.breadcrumbs-container .breadcrumbs-wrapper{display:flex;align-items:center;flex-flow:row nowrap}.breadcrumbs-container .breadcrumbs-item{display:flex;flex-flow:row nowrap;justify-content:space-between;align-items:center;text-align:center}.breadcrumbs-container .breadcrumbs-item a{text-decoration:none;display:flex;align-items:center;text-align:center;justify-content:center;position:relative;width:16.5rem;color:#000;font-family:var(--secondary-font-family);font-size:1rem;letter-spacing:-.2px;background-color:#fff;border-radius:4px;height:3.125rem}.breadcrumbs-container .breadcrumbs-item .breadcrumbs-delimiter{height:3.125rem;width:3.125rem;-webkit-mask-image:url('/static/media/arrow_ico_4.fdf609a5.svg');mask-image:url('/static/media/arrow_ico_4.fdf609a5.svg');-webkit-mask-repeat:no-repeat;mask-repeat:no-repeat;-webkit-mask-position:center;mask-position:center;background-color:#131515}@media (max-width:991.98px){.breadcrumbs-container{margin-left:0;width:100%;height:3.75rem;justify-content:flex-start}.breadcrumbs-container .breadcrumbs-wrapper{width:100%;justify-content:flex-start;padding:0}.breadcrumbs-container .breadcrumbs-wrapper .breadcrumbs-item{width:-webkit-min-content;width:min-content;min-width:0;flex:1 1;padding-left:40px;margin-left:-40px}.breadcrumbs-container .breadcrumbs-wrapper .breadcrumbs-item:first-of-type{margin-left:0}.breadcrumbs-container .breadcrumbs-wrapper .breadcrumbs-item:last-of-type{padding-right:40px}.breadcrumbs-container .breadcrumbs-wrapper .breadcrumbs-item a{width:248px;font-size:.875rem;height:2.5rem}.breadcrumbs-container .breadcrumbs-wrapper .breadcrumbs-item .breadcrumbs-delimiter{height:2.5rem;width:2.5rem;-webkit-mask-image:url('/static/media/arrow_ico_3.2717bfd9.svg');mask-image:url('/static/media/arrow_ico_3.2717bfd9.svg');-webkit-mask-repeat:no-repeat;mask-repeat:no-repeat;-webkit-mask-position:center;mask-position:center;background-color:#fff;flex:1 1}}@media (max-width:767.98px){.breadcrumbs-container .breadcrumbs-wrapper .breadcrumbs-item{padding-left:35px;margin-left:-35px;flex:none}.breadcrumbs-container .breadcrumbs-wrapper .breadcrumbs-item:first-of-type{margin-left:0}.breadcrumbs-container .breadcrumbs-wrapper .breadcrumbs-item:last-of-type{padding-right:35px}}@media (max-width:575.98px){.images-carousel__inner .image-wrapper{min-width:300px}.images-carousel__inner .image-wrapper img{max-width:300px}.breadcrumbs-container .breadcrumbs-wrapper .breadcrumbs-item{padding-left:20px;margin-left:-20px}.breadcrumbs-container .breadcrumbs-wrapper .breadcrumbs-item:first-of-type{margin-left:0}.breadcrumbs-container .breadcrumbs-wrapper .breadcrumbs-item:last-of-type{padding-right:20px}}.product-page .product-page-row{display:block}.product-page .product-page-row .enlarged-image{margin-left:calc(41.6666% + 1rem);z-index:1030}.product-page .product-page-row .product-short-description{padding:1.875rem;width:58.33333%;float:right;margin-left:-1px}.product-page .product-page-row .product-short-description .product-short-description-heading{display:flex;justify-content:space-between;margin-bottom:1.875rem;flex-wrap:wrap}.product-page .product-page-row .product-short-description .plugs-list{max-width:11.25rem}.product-page .product-page-row .product-card-labels{position:absolute;left:3.625rem;width:calc(41.6666% - 3.625rem);display:flex;flex-flow:wrap row-reverse;-webkit-column-gap:.313rem;column-gap:.313rem;margin-left:auto;padding-right:1.625rem;z-index:4;grid-area:labels;margin-right:-.375rem;margin-top:.625rem}.product-page .product-page-row .product-left{overflow-y:hidden;box-sizing:border-box}.product-page .product-page-row .product-left{width:41.6666%;float:left}.product-page .product-page-row .product-short-description{box-shadow:.313rem .313rem .625rem 0 rgba(19,21,21,.05)}.product-page .product-heading{font-size:40px;font-weight:500;letter-spacing:0;line-height:49px}@media (max-width:1199.98px){.images-carousel__inner{padding:0;background-color:rgba(0,0,0,0);box-shadow:none}.product-page .product-left{overflow:hidden}}@media (max-width:991.98px){.product-page .product-page-section .product-page-section-header{font-size:1.125rem}.product-page .product-page-section .product-page-section-content{font-size:.875rem}.product-page .product-page-row{display:flex;flex-flow:row wrap}.product-page .product-page-row .product-left,.product-page .product-page-row .product-short-description{width:100%;margin-left:0;float:none}.product-page .product-page-row .product-left{overflow:hidden}.product-page .product-page-row .product-short-description{margin-bottom:20px}.product-page .product-page-row .product-short-description .plugs-list{max-width:10rem}}@media (max-width:767.98px){.product-page .product-page-section .product-page-section-content,.product-page .product-page-section .product-page-section-header{padding:0}.product-page .product-page-row .product-short-description .product-short-description-heading{margin-bottom:1.875rem;flex-wrap:nowrap;flex-direction:column-reverse}}.product-page-section .product-page-section-content,.product-page-section .product-page-section-header{padding:0 1.25rem}.product-page-section .product-page-section-header{margin-bottom:1.25rem;font-family:var(--primary-font-family);font-size:1.375rem;font-weight:600;letter-spacing:0;line-height:27px}.product-page-section .product-page-section-content{font-family:var(--primary-font-family);font-size:1rem}.product-page-section .section-cells-wrapper{display:flex;flex-wrap:wrap;margin-bottom:0}.product-page-section .section-cells-wrapper .section-cell{min-width:50%;flex:1 1;padding-top:1.25rem}.product-page-section .section-cells-wrapper .section-cell.availability{padding:0 1.25rem;margin-top:1.875rem;border:1px solid #e7e7e7;border-radius:.25rem}.product-page-section .section-cells-wrapper .section-cell.availability .cell-content{flex-wrap:wrap;min-height:0}.product-page-section .section-cells-wrapper .cell-heading{display:flex;flex-direction:row;flex-wrap:nowrap;align-items:center;margin-bottom:.9375rem;min-height:1.375rem}.product-page-section .section-cells-wrapper .cell-heading h3,.product-page-section .section-cells-wrapper .cell-heading h4{position:relative;font-family:var(--primary-font-family);font-size:16px;font-weight:600;letter-spacing:0;line-height:19px;margin-bottom:0}.product-page-section .section-cells-wrapper .cell-heading h4 .tooltip-heading{position:absolute;top:-5px;right:-40px}.product-page-section .section-cells-wrapper .cell-content{font-family:var(--secondary-font-family);font-size:1rem;letter-spacing:-.2px;display:flex;align-items:center;justify-content:flex-start;min-height:1.1875rem;line-height:1.2}.product-page-section .section-cells-wrapper .cell-content .cell-content-value{margin-right:1rem}@media (max-width:767.98px){.product-page-section .section-cells-wrapper .section-cell{min-width:100%}.product-page-section .section-cells-wrapper .section-cell.availability{padding:0 1.875rem;margin-bottom:.875rem}.product-page-section .section-cells-wrapper .cell-content{justify-content:space-between}}.radio-button-card .title{grid-area:title;display:flex;height:100%;align-items:center;justify-content:center;padding:0 1.25rem;font-family:var(--primary-font-family);font-size:.875rem;font-weight:700;border-bottom:1px dotted #818181}.radio-button-card .description{grid-area:description;height:100%;display:flex;justify-content:center;align-items:center;align-content:center;padding:0;font-family:var(--secondary-font-family);font-size:.75rem;font-weight:400;border-bottom:1px dotted #818181}.radio-button-card .additionalData{grid-area:additionalData;margin:0 1.25rem;font-family:var(--secondary-font-family)}@-webkit-keyframes shine-1{0%{background-position:calc(-80px - 0vw - 10vw)}100%,40%{background-position:calc(0px - 0vw + 240vw)}}@keyframes shine-1{0%{background-position:calc(-80px - 0vw - 10vw)}100%,40%{background-position:calc(0px - 0vw + 240vw)}}@-webkit-keyframes shine-8{0%{background-position:calc(-80px - 14vw - 10vw)}100%,40%{background-position:calc(0px - 14vw + 240vw)}}@keyframes shine-8{0%{background-position:calc(-80px - 14vw - 10vw)}100%,40%{background-position:calc(0px - 14vw + 240vw)}}.product-card-loader .product-card-image-loader{grid-area:image;margin:16px;min-width:100px;max-width:100%;padding-top:85.5%;height:0;background:#eaeaea;background-image:linear-gradient(90deg,#eaeaea 0,#fff 40px,#eaeaea 80px);background-size:1000px;background-color:#eaeaea;border-radius:4px;-webkit-animation:3s linear infinite shine-1;animation:3s linear infinite shine-1;background-repeat:no-repeat}.product-card-loader .product-card-labels-loader{-webkit-column-gap:.313rem;column-gap:.313rem;margin:0;display:flex;flex-flow:row-reverse wrap;grid-area:labels;flex-wrap:nowrap;width:200px}.product-card-loader .product-card-content-loader{display:flex;flex-direction:column;grid-area:title;padding:0 .875rem .5rem 0;width:100%;word-break:break-word}.product-card-loader .product-card-header-loader{grid-area:title;margin:1rem 0 .5rem .5rem;width:220px;min-width:100px;height:23px;background-image:linear-gradient(90deg,#eaeaea 0,#fff 40px,#eaeaea 80px);background-size:1000px;background-repeat:no-repeat;background-color:#eaeaea;border-radius:4px;-webkit-animation:3s linear infinite shine-1;animation:3s linear infinite shine-1;-webkit-animation-name:shine-8;animation-name:shine-8}.product-card-loader .product-card-mpn-loader{grid-area:title;margin:1rem 0 0 .5rem;max-width:100%;width:100px;min-width:100px;height:20px;background-image:linear-gradient(90deg,#eaeaea 0,#fff 40px,#eaeaea 80px);background-size:1000px;background-repeat:no-repeat;background-color:#eaeaea;border-radius:4px;-webkit-animation:3s linear infinite shine-1;animation:3s linear infinite shine-1;-webkit-animation-name:shine-8;animation-name:shine-8}.product-card-loader .stock-amount-loader{align-items:flex-end;color:#818181;display:flex;padding:0 .875rem 0 0;flex-direction:column;font-family:var(--secondary-font-family);font-size:.875rem;grid-area:amount;letter-spacing:-.2px;margin-left:auto}.product-card-loader .product-card-footer-loader{align-items:center;justify-content:flex-end;align-self:flex-end;display:flex;grid-area:prices;margin-top:auto;padding-right:.875rem;width:100%}.product-card .product-card-labels{grid-area:labels;display:flex;flex-flow:wrap row-reverse}@media (min-width:768px){.products-list.list-view .product-card .product-price-container{grid-area:price;justify-content:flex-end;display:flex;margin-right:0;margin-bottom:0}}@media (min-width:992px){.products-list.list-view .product-card .product-card-footer .product-price-container{grid-area:price;justify-content:flex-end;display:flex;margin-right:0;margin-bottom:.625rem}}.product-card-image{grid-area:image;padding:.5rem;margin-top:1.688rem}.product-card-labels{grid-area:labels;display:flex;flex-flow:wrap row-reverse;-webkit-column-gap:.313rem;column-gap:.313rem;margin-top:.625rem;margin-right:-.375rem;margin-left:-2rem}.product-card-content{grid-area:title;display:flex;flex-direction:column;width:100%;padding:1.875rem .875rem .5rem 0;word-break:break-word}.product-card .stock-amount{grid-area:amount;display:flex;flex-direction:column;align-items:flex-end;justify-content:flex-end;margin-left:auto;padding-right:.875rem;padding-bottom:.938rem;font-family:var(--secondary-font-family);font-size:.875rem;color:#818181;letter-spacing:-.2px}.product-card-footer{grid-area:prices;display:flex;align-self:flex-end;align-items:center;margin-top:auto;padding-right:.875rem;width:100%;background-color:#fff}@media (max-width:767.98px){.product-card .product-card-image{margin-top:-.625rem;padding-top:0;grid-area:image;display:flex;justify-content:center;align-items:center}}@media (max-width:991.98px){.product-page-section .section-cells-wrapper .cell-heading{margin-bottom:1.5rem}.product-page-section .section-cells-wrapper .cell-heading h3,.product-page-section .section-cells-wrapper .cell-heading h4{font-size:1rem}.product-page-section .section-cells-wrapper .cell-heading h4 .tooltip-heading{top:-2px;right:-35px}.product-page-section .section-cells-wrapper .cell-content{font-size:.875rem}.product-card .product-card-footer .btn-compare{margin-left:1rem}.page-heading{padding:2.5rem 1.25rem}}.own-swiper{position:relative;width:100%;max-width:100%;overflow:hidden;z-index:1}.own-swiper-wrap{width:100%;z-index:1}.own-swiper-body{position:relative;width:100%;height:100%;display:flex;flex-wrap:nowrap;z-index:1;-webkit-transform:translateZ(0);transform:translateZ(0)}.own-swiper-slide{-webkit-backface-visibility:hidden;backface-visibility:hidden;-webkit-transform:translateZ(0);transform:translateZ(0);flex-shrink:0;height:100%;z-index:1}.arrow-navbar-wrapper{padding-left:2.5rem;padding-right:2.5rem;z-index:11}.arrow-navbar-wrapper .arrow-navbar-container{border-radius:4px;position:relative;display:block;width:100%;z-index:15}.arrow-navbar-wrapper .arrow-navbar-container.arrow-up{margin-top:1.5rem}@media (max-width:991.98px){.arrow-navbar-wrapper{padding:0}.arrow-navbar-wrapper .arrow-navbar-container{padding:0;border-radius:0;margin-right:0;margin-left:0}}.page-heading{font-size:2.5rem;font-weight:400;padding:3.75rem 0;font-family:var(--primary-font-family)}@media (max-width:991.98px){.page-heading{font-size:1.875rem;padding:3.125rem 0}.site-settings-wrapper .country-name{margin-right:0!important}}.site-settings-wrapper{display:inline-flex;align-items:center;flex-wrap:wrap;max-width:320px}.site-settings-wrapper .country-name{display:inline-block;max-width:320px;overflow:hidden;white-space:nowrap;text-overflow:ellipsis}.footer .footer-list-header{font-family:var(--primary-font-family);font-size:1.25rem;margin-bottom:1.25rem;font-weight:700;color:#ff8200}.footer .site-settings-btn{color:#fff}.footer .local-info-footer{border:3px solid #fff;border-radius:6px;padding:.625rem 2rem;letter-spacing:-.2px;line-height:1rem;margin-bottom:3.125rem}@media (max-width:991.98px){.footer .footer-list-header{font-size:1rem}.footer .local-info-footer{padding:.9375rem 1.875rem;border-width:2px}}@media (max-width:767.98px){.page-heading{font-size:1.625rem;padding:2.5rem 0}.footer .local-info-footer{margin-bottom:2.5rem}.dropdown-wrapper .dropdown-item{min-height:1rem}}.site-settings-btn{font-size:.875rem!important;color:#131515;padding:.375rem 0!important}.dropdown-wrapper{position:relative;width:100%;color:#131515;font-family:var(--secondary-font-family);font-size:1rem;letter-spacing:-.2px}.dropdown-wrapper .dropdown-item{white-space:normal}.dropdown-wrapper .dropdown-input,.dropdown-wrapper .dropdown-select{height:3.125rem;padding-left:1.25rem;background-color:#fff;color:#131515;letter-spacing:-.013rem;border:1px solid #e7e7e7;text-overflow:ellipsis}.dropdown-wrapper .dropdown-button{height:100%;padding:0;border:1px solid #e7e7e7;border-radius:0 4px 4px 0;box-shadow:none;background-color:#fff}@media (max-width:991.98px){.dropdown-wrapper{font-size:.875rem}.dropdown-wrapper .dropdown-input,.dropdown-wrapper .dropdown-select{height:2.5rem;padding-left:.938rem}.dropdown-select{margin:0;box-sizing:border-box;-webkit-appearance:none;appearance:none;background-color:#fff;background-repeat:no-repeat}.dropdown-select option{font-size:.875rem;min-height:1.5rem!important;overflow-wrap:break-word;color:#131515;background-color:#fff}.dropdown-wrapper.small select{background-image:url('/static/media/dropd_ico.49094bde.svg');background-position:calc(100% - .6rem) center;background-size:.938rem .5rem;background-repeat:no-repeat;padding-left:.938rem;padding-right:3.251rem;font-size:.875rem}.dropdown-wrapper.small:after{content:\"\";display:inline-block;position:absolute;top:0;height:2.5rem;right:2.313rem;border-left:1px solid #e7e7e7}}input[type=text]{-webkit-appearance:none;appearance:none}.question-mark{font-family:var(--secondary-font-family);font-weight:600;font-size:1rem;height:1.875rem;width:1.875rem;color:#5c068c;border:1px solid #5c068c;border-radius:.9375rem;display:flex;align-items:center;justify-content:center;margin-left:.5rem}@media (max-width:991.98px){.question-mark{height:1.5rem;width:1.5rem;border-radius:.75rem;font-size:.75rem}}.overflow-hidden{overflow:hidden!important}.d-block{display:block}.d-flex{display:flex!important}.d-none{display:none!important}.d-inline-block{display:inline-block!important}@media (min-width:768px){.d-md-flex{display:flex!important}.d-md-none{display:none!important}}.position-relative{position:relative!important}.position-absolute{position:absolute!important}.w-100{width:100%!important}.flex-nowrap{flex-wrap:nowrap!important}.flex-wrap{flex-wrap:wrap}.justify-content-center{justify-content:center}.justify-content-start{justify-content:flex-start}.justify-content-between{justify-content:space-between}.align-items-center{align-items:center}.mx-auto{margin-left:auto;margin-right:auto}.me-1{margin-right:.25rem!important}.me-2{margin-right:.5rem}.ms-auto{margin-left:auto}@media (min-width:992px){.d-lg-flex{display:flex!important}.d-lg-none{display:none!important}.d-lg-inline{display:inline!important}.me-lg-2{margin-right:.5rem!important}}.p-0{padding:0!important}.text-center{text-align:center!important}.text-lowercase{text-transform:lowercase!important}.text-capitalize{text-transform:capitalize!important}.order-1{order:1!important}.order-2{order:2!important}.order-3{order:3!important}.order-4{order:4!important}.order-5{order:5!important}@media (min-width:768px){.order-md-2{order:2!important}.order-md-3{order:3!important}}.text-charcoal{color:#131515!important}.background-white{background-color:#fff!important}.text-white{color:#fff!important}.background-purplish-blue{background-color:#5c068c!important}.text-brown-grey{color:#818181!important}.background-grey{background-color:#f2f2f2!important}.border-radius{border-radius:4px!important}.border-none{border:none!important}.pl-main{padding-left:2.5rem!important}.pr-main{padding-right:2.5rem!important}@media (max-width:767.98px){.pl-main{padding-left:2.1875rem!important}.pr-main{padding-right:2.1875rem!important}.header-search-bar>input{height:3.125rem}}@media (max-width:575.98px){.pl-main{padding-left:1.25rem!important}.pr-main{padding-right:1.25rem!important}}:root{--app-height:100%}html{margin-left:0;margin-right:calc(100% - 100vw);overflow-x:hidden}body,html{background-color:#fff;font-size:16px;font-family:var(--primary-font-family),-apple-system,BlinkMacSystemFont,Roboto,\"Noto Sans\",sans-serif,\"Apple Color Emoji\",\"Segoe UI Emoji\",\"Segoe UI Symbol\",\"Noto Color Emoji\";height:100%;height:var(--app-height)}body .main-container,html .main-container{background-color:#f9f9f9}body a,html a{color:#5c068c}main{min-height:calc(100% - 8rem);min-height:calc(var(--app-height) - 8rem)}select{font-size:16px!important}.main-container{margin:0 auto}.main-content-container{max-width:1280px;margin:0 auto}.dropdown-item{padding:.25rem 1.5rem!important}.delimiter{position:relative;height:.75rem;width:100%;margin:1rem 0 0}.delimiter:before{content:\"\";position:absolute;top:0;left:0;right:0;border-bottom:1px solid #e7e7e7}.delimiter:after{content:\"\";position:absolute;top:-.45rem;left:calc(50% - .5rem);width:1rem;height:1rem;-webkit-transform:rotate(45deg);transform:rotate(45deg);background-color:#fff;border-bottom:1px solid #e7e7e7;border-right:1px solid #e7e7e7}.btn-compare-wrapper{display:flex;flex-direction:row;flex-wrap:nowrap;justify-content:flex-start;align-items:center;text-transform:lowercase}.btn-compare-wrapper .btn-compare{display:flex;flex-direction:row;flex-wrap:nowrap;justify-content:flex-start;align-items:center;border:1px solid transparent;background-color:#131515;box-shadow:none;z-index:18;outline:0;-webkit-mask:url('/static/media/compare_ico_2.9a9c0222.svg') no-repeat center;mask:url('/static/media/compare_ico_2.9a9c0222.svg') no-repeat center;-webkit-mask-size:16px 18px;mask-size:16px 18px;width:18px;height:16px}.btn-compare-wrapper .add-to-compare{margin-right:0!important}.product-card .btn-compare{margin-left:0}.header-search-bar{display:flex;flex:1 1;min-width:0;background-color:#fff}.header-search-bar .input-group-text{height:100%;padding-left:1.25rem;padding-right:0}.header-search-bar>input{flex:1 1;padding:0 .75rem;height:3.125rem;min-width:0}.header-search-bar>input::-webkit-input-placeholder{color:#131515}@media (max-width:991.98px){.header-search-bar .input-group-text{padding-left:.938rem}.header-search-bar>input{font-size:1rem;padding:0 .75rem 0 .625rem}}.header{display:grid;grid-template-rows:3.75rem 3.125rem;grid-template-columns:200px calc(100% - 210px);grid-template-areas:\"logo top-bar\" \"logo bottom-bar\";grid-column-gap:.625rem;-webkit-column-gap:.625rem;column-gap:.625rem;width:100%;z-index:20;font-family:var(--secondary-font-family);padding-top:1rem}.header .logo{grid-area:logo;display:flex;align-items:flex-end;width:100%;padding-bottom:0;margin-bottom:-.625rem}.header .logo.getic{padding-bottom:0;position:relative}.header .logo .animated-logo{height:77px;width:200px;-webkit-animation:none;animation:none}@media (max-width:767.98px){.header .logo{margin-bottom:0}.header .logo .animated-logo{height:52px;width:135px;justify-content:flex-end;align-self:center}}.header .header-bottom-bar #catalogue-button{background-color:#ff8200;border-radius:.25rem 0 0 .25rem}.header .header-top-bar{grid-area:top-bar;align-self:flex-start;font-size:.875rem;display:flex}.header .header-bottom-bar{grid-area:bottom-bar;align-self:flex-end;box-shadow:5px 5px 10px 0 rgba(19,21,21,.05)}.header .header-bottom-bar .btn,.header .header-bottom-bar button{height:3.125rem;padding-right:1.25rem;box-shadow:none;border:none}.header .header-cart-btn,.header .header-catalogue-btn{border-top-right-radius:.25rem;border-bottom-right-radius:.25rem;padding:0 1.875rem}.header .header-catalogue-btn{color:#fff}.header .header-catalogue-btn .catalogue_ico{margin-right:.625rem}.header .top-menu li a.nav-link{padding-left:.9375rem;padding-right:.9375rem}.header .top-menu li:last-child a{padding-right:0}@media (max-width:767.98px){.header .header-top-bar{margin-bottom:1rem}.header .header-cart-btn{padding:0 1rem}.header .btn{font-size:.875rem}.header .btn.menu{margin-right:.625rem}.header{padding-top:1rem;grid-template-rows:2.8125rem 2.8125rem;grid-template-columns:1fr 1fr;grid-template-areas:\"logo top-bar\" \"bottom-bar bottom-bar\";-webkit-column-gap:0;column-gap:0;row-gap:1.5rem}.header .logo{padding-bottom:0}.header .header-catalogue-btn{padding:0 .75rem}.header .header-catalogue-btn .catalogue_ico{margin:0}.header .header-bottom-bar button{height:3.125rem}}@media (-webkit-min-device-pixel-ratio:2),(min-resolution:192dpi){.header .header-bottom-bar #catalogue-button{padding-left:1.25rem}}.chat-placeholder-btn{position:fixed;display:flex!important;justify-content:center;align-items:center;bottom:1rem;right:1rem;width:3.125rem;height:3.125rem;padding:0!important;color:#fff;background-color:#818181!important;border:none!important;border-radius:4px!important;box-shadow:none;z-index:101101}.chat-placeholder-btn .chat-icon{background-color:#fff!important;width:1.75rem;height:1.68rem;-webkit-mask-size:cover;mask-size:cover;-webkit-mask-repeat:no-repeat;mask-repeat:no-repeat;-webkit-mask-image:url('/static/media/chat_ico.5c15f3e5.svg');mask-image:url('/static/media/chat_ico.5c15f3e5.svg')}@media (max-width:991.98px){.chat-placeholder-btn{width:3.75rem!important;height:3.75rem;bottom:1.25rem}}.cart-container .cart-product-card .product-card-image{grid-area:image;display:flex;flex:1 1;justify-content:center;align-items:center;max-width:6.25rem;height:6.25rem;margin-top:0;border:1px solid #e7e7e7;border-radius:4px}.cart-container .cart-product-card .product-card-content{grid-area:title;padding:0;display:flex;flex-wrap:wrap;justify-content:center;width:70%}.cart-container .cart-product-card .product-card-labels{grid-area:labels;display:flex;flex-flow:wrap row-reverse;margin-top:0}.cart-container .cart-product-card .product-card-footer{grid-area:footer;display:grid;width:100%;grid-template-columns:1.5fr .5fr;grid-template-areas:\"stock price cart\"}.cart-container .cart-product-card .product-card-footer .product-card-stock-wrapper{grid-area:stock;padding:1rem 0;display:flex;flex-wrap:nowrap}.cart-container .cart-product-card .product-card-footer .product-card-stock-wrapper .stock-amount{grid-area:amount;display:flex;flex-direction:column;flex-wrap:nowrap;align-items:flex-start;justify-content:center;margin-left:1.25rem;max-height:2.5rem;font-family:var(--secondary-font-family)}.cart-container .cart-product-card .product-card-footer .product-card-stock-wrapper .plug-label{grid-area:plug;margin-left:1.25rem;padding-right:.25rem;padding-left:.25rem;width:6.875rem;border:none;text-align:center}@media (max-width:991.98px){.cart-container .cart-product-card .product-card-footer .product-card-stock-wrapper .product-arrivals{grid-area:delivery;align-self:center;width:100%}}@media (max-width:767.98px){.chat-placeholder-btn{right:1rem;bottom:1.125rem}.cart-container .cart-product-card .product-card-footer .product-card-stock-wrapper{grid-area:unset;display:flex;flex-direction:row;flex-wrap:wrap;justify-content:flex-start;padding:0}.cart-container .cart-product-card .product-card-footer .product-card-stock-wrapper .counter{grid-area:counter;justify-content:flex-start;align-self:center;margin-right:.625rem}.cart-container .cart-product-card .product-card-footer .product-card-stock-wrapper .stock-amount{grid-area:amount;flex-direction:row;align-items:center;font-size:.75rem;margin-left:0;margin-top:.625rem;margin-right:1.625rem}.cart-container .cart-product-card .product-card-footer .price-cart-wrapper{display:flex;flex-direction:row;flex-wrap:nowrap;grid-area:prices-row;margin-top:-1rem}.cart-container .cart-product-card .product-card-footer .product-card-add-cart-wrapper{grid-area:cart;flex-direction:column;justify-content:flex-start;margin-left:auto}}.scroll-top-hidden{display:none;margin:0}*,::after,::before{box-sizing:border-box}@media (prefers-reduced-motion:no-preference){:root{scroll-behavior:smooth}}body{margin:0;font-family:var(--bs-font-sans-serif);font-family:var(--bs-body-font-family);font-size:1rem;font-size:var(--bs-body-font-size);font-weight:400;font-weight:var(--bs-body-font-weight);line-height:1.5;line-height:var(--bs-body-line-height);color:#212529;color:var(--bs-body-color);text-align:var(--bs-body-text-align);background-color:#fff;background-color:var(--bs-body-bg);-webkit-text-size-adjust:100%}h1,h2,h3,h4{margin-top:0;margin-bottom:.5rem;font-weight:500;line-height:1.2;color:var(--bs-heading-color)}h1{font-size:calc(1.375rem + 1.5vw)}@media (min-width:1200px){h1{font-size:2.5rem}}h2{font-size:calc(1.325rem + .9vw)}@media (min-width:1200px){h2{font-size:2rem}}h3{font-size:calc(1.3rem + .6vw)}@media (min-width:1200px){h3{font-size:1.75rem}}h4{font-size:calc(1.275rem + .3vw)}@media (min-width:1200px){h4{font-size:1.5rem}}p{margin-top:0;margin-bottom:1rem}ul{padding-left:2rem}ul{margin-top:0;margin-bottom:1rem}a{color:#0d6efd;color:var(--bs-link-color);text-decoration:none}img{vertical-align:middle}button{border-radius:0}button,input,select{margin:0;font-family:inherit;font-size:inherit;line-height:inherit}button,select{text-transform:none}select{word-wrap:normal}[type=button],button{-webkit-appearance:button}::-moz-focus-inner{padding:0;border-style:none}::-webkit-datetime-edit-day-field,::-webkit-datetime-edit-fields-wrapper,::-webkit-datetime-edit-hour-field,::-webkit-datetime-edit-minute,::-webkit-datetime-edit-month-field,::-webkit-datetime-edit-text,::-webkit-datetime-edit-year-field{padding:0}::-webkit-inner-spin-button{height:auto}::-webkit-search-decoration{-webkit-appearance:none}::-webkit-color-swatch-wrapper{padding:0}::-webkit-file-upload-button{font:inherit;-webkit-appearance:button}::file-selector-button{font:inherit;-webkit-appearance:button}iframe{border:0}[hidden]{display:none!important}.row>*{flex-shrink:0;width:100%;max-width:100%;padding-right:calc(var(--bs-gutter-x)*.5);padding-left:calc(var(--bs-gutter-x)*.5);margin-top:var(--bs-gutter-y)}@media (min-width:576px){.col-sm-12{flex:0 0 auto;width:100%}}:root{--bs-white-rgb:to-rgb(#fff);--bs-black-rgb:to-rgb(#000);--bs-body-color-rgb:to-rgb(#212529);--bs-body-bg-rgb:to-rgb(#fff);--bs-body-font-family:var(--bs-font-sans-serif);--bs-body-font-size:1rem;--bs-body-font-weight:400;--bs-body-line-height:1.5;--bs-body-color:#212529;--bs-body-bg:#fff;--bs-link-color:#0d6efd;--bs-link-hover-color:shift-color(#0d6efd, 20%)}.clearfix::after{display:block;clear:both;content:\"\"}.form-control{display:block;width:100%;padding:.375rem .75rem;font-size:1rem;font-weight:400;line-height:1.5;color:#212529;background-color:#fff;background-clip:padding-box;border:1px solid #ced4da;-webkit-appearance:none;appearance:none;border-radius:.25rem}.form-control::-webkit-date-and-time-value{height:1.5em}.form-control::-webkit-input-placeholder{color:#6c757d;opacity:1}.form-control::-webkit-file-upload-button{padding:.375rem .75rem;margin:-.375rem -.75rem;-webkit-margin-end:.75rem;margin-inline-end:.75rem;color:#212529;background-color:#e9ecef;border-color:inherit;border-style:solid;border-width:0;border-inline-end-width:1px;border-radius:0}.input-group{position:relative;display:flex;flex-wrap:wrap;align-items:stretch;width:100%}.input-group>.form-control{position:relative;flex:1 1 auto;width:1%;min-width:0}.input-group .btn{position:relative;z-index:2}.input-group-text{display:flex;align-items:center;padding:.375rem .75rem;font-size:1rem;font-weight:400;line-height:1.5;color:#212529;text-align:center;white-space:nowrap;background-color:#e9ecef;border:1px solid #ced4da;border-radius:.25rem}.input-group:not(.has-validation)>:not(:last-child):not(.dropdown-toggle):not(.dropdown-menu){border-top-right-radius:0!important;border-bottom-right-radius:0!important}.input-group>:not(:first-child):not(.dropdown-menu):not(.valid-tooltip):not(.valid-feedback):not(.invalid-tooltip):not(.invalid-feedback){margin-left:-1px;border-top-left-radius:0!important;border-bottom-left-radius:0!important}.container-fluid{--bs-gutter-x:1.875rem;--bs-gutter-y:0;width:100%;padding-right:calc(1.875rem*.5);padding-right:calc(var(--bs-gutter-x)*.5);padding-left:calc(1.875rem*.5);padding-left:calc(var(--bs-gutter-x)*.5);margin-right:auto;margin-left:auto}.dropdown-item{display:block;width:100%;padding:var(--bs-dropdown-item-padding-y) var(--bs-dropdown-item-padding-x);clear:both;font-weight:400;color:var(--bs-dropdown-link-color);text-align:inherit;white-space:nowrap;background-color:rgba(0,0,0,0);border:0}.btn{--bs-btn-padding-x:0.75rem;--bs-btn-padding-y:0.375rem;--bs-btn-font-size:1rem;--bs-btn-font-weight:400;--bs-btn-line-height:1.5;--bs-btn-color:#212529;--bs-btn-bg:transparent;--bs-btn-border-width:1px;--bs-btn-border-color:transparent;--bs-btn-border-radius:0.25rem;--bs-btn-box-shadow:inset 0 1px 0 rgba(255, 255, 255, 0.15),0 1px 1px rgba(0, 0, 0, 0.075);--bs-btn-disabled-opacity:0.65;--bs-btn-focus-box-shadow:0 0 0 0.25rem rgba(var(--bs-btn-focus-shadow-rgb), .5);display:inline-block;padding:.375rem .75rem;padding:var(--bs-btn-padding-y) var(--bs-btn-padding-x);font-family:var(--bs-btn-font-family);font-size:1rem;font-size:var(--bs-btn-font-size);font-weight:400;font-weight:var(--bs-btn-font-weight);line-height:1.5;line-height:var(--bs-btn-line-height);color:#212529;color:var(--bs-btn-color);text-align:center;vertical-align:middle;border:1px solid transparent;border:var(--bs-btn-border-width) solid var(--bs-btn-border-color);border-radius:.25rem;border-radius:var(--bs-btn-border-radius);background-color:transparent;background-color:var(--bs-btn-bg)}.nav{--bs-nav-link-padding-x:1rem;--bs-nav-link-padding-y:0.5rem;--bs-nav-link-color:var(--bs-link-color);--bs-nav-link-hover-color:var(--bs-link-hover-color);--bs-nav-link-disabled-color:#6c757d;display:flex;flex-wrap:wrap;padding-left:0;margin-bottom:0;list-style:none}.nav-link{display:block;padding:var(--bs-nav-link-padding-y) var(--bs-nav-link-padding-x);font-size:var(--bs-nav-link-font-size);font-weight:var(--bs-nav-link-font-weight);color:var(--bs-nav-link-color)}.fresnel-container{margin:0;padding:0}@media not all and (max-width:991.98px){.fresnel-lessThan-md{display:none!important}}\n",
       "</style>\n",
       "<style>\n",
       "                    .fresnel-container{margin:0;padding:0;}\n",
       "@media not all and (min-width:0px) and (max-width:767.98px){.fresnel-at-xs{display:none!important;}}\n",
       "@media not all and (min-width:768px) and (max-width:991.98px){.fresnel-at-sm{display:none!important;}}\n",
       "@media not all and (min-width:992px) and (max-width:1199.98px){.fresnel-at-md{display:none!important;}}\n",
       "@media not all and (min-width:1200px){.fresnel-at-lg{display:none!important;}}\n",
       "@media not all and (max-width:767.98px){.fresnel-lessThan-sm{display:none!important;}}\n",
       "@media not all and (max-width:991.98px){.fresnel-lessThan-md{display:none!important;}}\n",
       "@media not all and (max-width:1199.98px){.fresnel-lessThan-lg{display:none!important;}}\n",
       "@media not all and (min-width:768px){.fresnel-greaterThan-xs{display:none!important;}}\n",
       "@media not all and (min-width:992px){.fresnel-greaterThan-sm{display:none!important;}}\n",
       "@media not all and (min-width:1200px){.fresnel-greaterThan-md{display:none!important;}}\n",
       "@media not all and (min-width:0px){.fresnel-greaterThanOrEqual-xs{display:none!important;}}\n",
       "@media not all and (min-width:768px){.fresnel-greaterThanOrEqual-sm{display:none!important;}}\n",
       "@media not all and (min-width:992px){.fresnel-greaterThanOrEqual-md{display:none!important;}}\n",
       "@media not all and (min-width:1200px){.fresnel-greaterThanOrEqual-lg{display:none!important;}}\n",
       "@media not all and (min-width:0px) and (max-width:767.98px){.fresnel-between-xs-sm{display:none!important;}}\n",
       "@media not all and (min-width:0px) and (max-width:991.98px){.fresnel-between-xs-md{display:none!important;}}\n",
       "@media not all and (min-width:0px) and (max-width:1199.98px){.fresnel-between-xs-lg{display:none!important;}}\n",
       "@media not all and (min-width:768px) and (max-width:991.98px){.fresnel-between-sm-md{display:none!important;}}\n",
       "@media not all and (min-width:768px) and (max-width:1199.98px){.fresnel-between-sm-lg{display:none!important;}}\n",
       "@media not all and (min-width:992px) and (max-width:1199.98px){.fresnel-between-md-lg{display:none!important;}}\n",
       "                    :root {\n",
       "                        --primary-font-family: \"en Montserrat\", Arial, sans-serif, \"Apple Color Emoji\", \"Segoe UI Emoji\", \"Segoe UI Symbol\", \"Noto Color Emoji\", Helvetica Neue;\n",
       "--secondary-font-family: \"en Boxed\", Tahoma, sans-serif, \"Apple Color Emoji\", \"Segoe UI Emoji\", \"Segoe UI Symbol\", \"Noto Color Emoji\", Helvetica Neue;\n",
       "--travels-next-font-family: \"en Travels\", Tahoma, sans-serif, \"Apple Color Emoji\", \"Segoe UI Emoji\", \"Segoe UI Symbol\", \"Noto Color Emoji\", Helvetica Neue;\n",
       "\n",
       "                    }\n",
       "                </style>\n",
       "</meta></link></link></link></link></meta></meta></head><body><noscript>You need to enable JavaScript to run this app.</noscript><noscript><iframe height=\"0\" src=\"https://www.googletagmanager.com/ns.html?id=GTM-5ZRFFW8\" style=\"display:none;visibility:hidden\" width=\"0\"></iframe></noscript><script>\n",
       "                    window.__PRELOADED_STATE__ = {\"productPrices\":{\"productCondition\":\"000000001\",\"plug\":null,\"items\":1,\"price\":911.94,\"productPlug\":null,\"defaultCondition\":\"000000001\",\"variation\":null,\"addon\":null,\"conditions\":[{\"id\":\"000000001\",\"title\":{\"en\":\"new\"},\"default\":true,\"name\":\"new\",\"value\":\"000000001\",\"label\":\"new\"},{\"id\":\"000000002\",\"title\":{\"en\":\"used\"},\"default\":false,\"name\":\"used\",\"value\":\"000000002\",\"label\":\"used\"}]},\"siteInitials\":{\"loaded\":true,\"domainSettings\":{\"id\":198,\"domain\":\"www.getic.com\",\"defaultCountry\":{\"id\":221,\"uid2\":\"US\",\"vat\":false,\"code\":\"1\",\"flag\":\"/images/countries/united-states\",\"title\":{\"en\":\"United States\"},\"taxes\":[{\"legal\":0,\"individual\":0,\"legalWarranty\":12,\"individualWarranty\":12}],\"defaultCurrency\":{\"id\":1,\"uid3\":\"USD\",\"sign\":\"$\",\"signSide\":\"LEFT\",\"name\":\"United States dollar\",\"default\":false},\"buyerCustomId\":null},\"vatState\":true,\"googleAnalyticsCode\":\"GTM-5ZRFFW8\",\"languages\":[{\"id\":1,\"uid\":\"en\",\"title\":{\"en\":\"english\"},\"default\":true}],\"currencies\":[{\"id\":2,\"uid3\":\"EUR\",\"sign\":\"€\",\"signSide\":\"RIGHT\",\"name\":\"Euro\",\"default\":true},{\"id\":1,\"uid3\":\"USD\",\"sign\":\"$\",\"signSide\":\"LEFT\",\"name\":\"United States dollar\",\"default\":false},{\"id\":3,\"uid3\":\"GBP\",\"sign\":\"£\",\"signSide\":\"RIGHT\",\"name\":\"British pound\",\"default\":false}],\"defaultLanguageId\":1,\"originalDomainId\":198},\"geoInfo\":{\"country\":{\"id\":2,\"uid2\":\"AE\",\"vat\":false,\"code\":\"971\",\"flag\":\"/images/countries/united-arab-emirates\",\"title\":{\"en\":\"United Arab Emirates\"},\"taxes\":[{\"legal\":0,\"individual\":0,\"legalWarranty\":12,\"individualWarranty\":12}],\"regions\":[{\"id\":3026,\"code31662\":\"AE-UQ\",\"title\":{\"en\":\"Umm al Qaywayn\"}},{\"id\":3027,\"code31662\":\"AE-RK\",\"title\":{\"en\":\"Ra's al Khaymah\"}},{\"id\":3028,\"code31662\":\"AE-DU\",\"title\":{\"en\":\"Dubayy\"}},{\"id\":3029,\"code31662\":\"AE-SH\",\"title\":{\"en\":\"Ash Shariqah\"}},{\"id\":3030,\"code31662\":\"AE-FU\",\"title\":{\"en\":\"Al Fujayrah\"}},{\"id\":3031,\"code31662\":\"AE-AZ\",\"title\":{\"en\":\"Abu Zaby\"}},{\"id\":3032,\"code31662\":\"AE-AJ\",\"title\":{\"en\":\"'Ajman\"}}],\"defaultCurrency\":{\"id\":1,\"uid3\":\"USD\",\"sign\":\"$\",\"signSide\":\"LEFT\",\"name\":\"United States dollar\",\"default\":false},\"buyerCustomId\":null}},\"paymentMethods\":[{\"id\":1,\"name\":{\"en\":\"PayPal\"},\"text\":{\"en\":\"You will be redirected to the PayPal website for payment. \"},\"shortDescription\":{\"en\":\"PayPal fee\"}},{\"id\":2,\"name\":{\"en\":\"Credit Card\"},\"text\":{\"en\":\"Your transactions are completely secure. We do not store your credit card information.\"},\"shortDescription\":{\"en\":\"card fee\"}},{\"id\":3,\"name\":{\"en\":\"Wire transfer\"},\"text\":{\"en\":\"The invoice will be sent to the specified email address. Order will be dispatched as soon as payment is received.\"},\"shortDescription\":{\"en\":\"no fees\"}}],\"spamCampaigns\":[{\"id\":1,\"checkboxLabel\":{\"en\":\"Incomplete orders\"}},{\"id\":2,\"checkboxLabel\":{\"en\":\"Abandoned cart\"}}],\"strings\":{\"cookie_text\":{\"en\":\"GETIC website uses cookies for a more convenient online shopping experience. By using our site, you agree to this use of cookies.\"},\"announcement_text\":{\"en\":\"\"},\"conversionString\":{\"en\":\"Оплата кредитной картой будет произведена в долларах США. Для оплаты заказа в той валюте, которая выбрана Вами  в Настройках сайта, смените метод оплаты на  PayPal или Банковский перевод\"},\"msrp\":{\"en\":\"Better prices after login\"},\"bulk\":{\"en\":\"Better price in bulk\"},\"used\":{\"title\":{\"en\":\"Note\"},\"text\":{\"en\":\"The item was either used as a sample for demonstration or returned by a customer after few days of use. The item might have slight scratches but is not worn-out or heavily used. The device is fully functional. Also, the original packaging of the item might be damaged or, rarely, absent at all.All used units come with EU power plug if applicable or not specified otherwise.Warranty terms for used items are the same as for new items.\"},\"collapse\":{\"en\":\"View Note for Used products\"}}},\"productLabels\":[{\"id\":\"955cbcda-1f55-4d35-b967-ffdafd26a065\",\"name\":{\"en\":\"Getic's choice\"},\"cssClass\":\"purplish-blue\",\"priority\":0,\"templateVars\":{\"en\":[]}},{\"id\":\"19893438-5832-4111-8fc8-729291acda11\",\"name\":{\"en\":\"new product\"},\"cssClass\":\"vitalize\",\"priority\":1,\"templateVars\":{\"en\":[]}},{\"id\":\"2afed015-3c39-4eac-bbe5-1ec77787f572\",\"name\":{\"en\":\"best from %brand%\"},\"cssClass\":\"azure\",\"priority\":10,\"templateVars\":{\"en\":[\"%brand%\"]}}],\"conditions\":[{\"id\":\"000000001\",\"title\":{\"en\":\"new\"},\"default\":true,\"name\":\"new\",\"value\":\"000000001\",\"label\":\"new\"},{\"id\":\"000000002\",\"title\":{\"en\":\"used\"},\"default\":false,\"name\":\"used\",\"value\":\"000000002\",\"label\":\"used\"}],\"variations\":[{\"id\":\"cfbb89b0-7217-11eb-ed9f-fa163e4a2e20\",\"name\":{\"en\":\"EU\"},\"default\":true},{\"id\":\"d26ea1e2-7217-11eb-ed9f-fa163e4a2e20\",\"name\":{\"en\":\"UK\"},\"default\":false},{\"id\":\"d4b5f02c-7217-11eb-ed9f-fa163e4a2e20\",\"name\":{\"en\":\"US\"},\"default\":false}],\"vatValidationStatuses\":[{\"value\":0,\"name\":{\"en\":\"pending\"}},{\"value\":1,\"name\":{\"en\":\"approved\"}},{\"value\":2,\"name\":{\"en\":\"rejected\"}}],\"currenciesList\":[{\"id\":2,\"uid3\":\"EUR\",\"sign\":\"€\",\"signSide\":\"RIGHT\",\"name\":\"Euro\",\"default\":true},{\"id\":1,\"uid3\":\"USD\",\"sign\":\"$\",\"signSide\":\"LEFT\",\"name\":\"United States dollar\",\"default\":false},{\"id\":3,\"uid3\":\"GBP\",\"sign\":\"£\",\"signSide\":\"RIGHT\",\"name\":\"British pound\",\"default\":false}],\"deliveryTypes\":[{\"uid\":\"PICKUP\",\"title\":{\"en\":\"Pickup point\"},\"priority\":1},{\"uid\":\"STANDARD\",\"title\":{\"en\":\"Standard\"},\"priority\":2},{\"uid\":\"EXPRESS\",\"title\":{\"en\":\"Express\"},\"priority\":3}],\"addons\":[{\"id\":\"5ba624c6-be84-454b-b0a8-a7a3d0164e7f\",\"title\":{\"en\":\"US\"}},{\"id\":\"04c18a84-24f5-4fc9-8803-29895be27fbe\",\"title\":{\"en\":\"UK\"}}],\"orderStatuses\":[{\"uid\":\"ORDER_STATUS_NEW\",\"id\":1,\"types\":[\"history\"],\"name\":{\"en\":\"New order\"},\"color\":\"000000\"},{\"uid\":\"ORDER_STATUS_INVOICE_SENT\",\"id\":2,\"types\":[\"history\"],\"name\":{\"en\":\"Invoice sent\"},\"color\":\"0000FF\"},{\"uid\":\"ORDER_STATUS_MONEY_RECEIVED\",\"id\":3,\"types\":[\"active\",\"archive\"],\"name\":{\"en\":\"Approved\"},\"color\":\"EE82EE\"},{\"uid\":\"ORDER_STATUS_READY_TO_SHIP\",\"id\":4,\"types\":[\"active\",\"archive\"],\"name\":{\"en\":\"Ready to Ship\"},\"color\":\"FF8C00\"},{\"uid\":\"ORDER_STATUS_INCOMPLETE\",\"id\":5,\"types\":[\"history\"],\"name\":{\"en\":\"Incomplete\"},\"color\":\"808080\"},{\"uid\":\"ORDER_STATUS_PENDING\",\"id\":6,\"types\":[\"active\",\"archive\"],\"name\":{\"en\":\"Pending\"},\"color\":\"990000\"},{\"uid\":\"ORDER_STATUS_RESERVED\",\"id\":7,\"types\":[\"active\",\"archive\"],\"name\":{\"en\":\"Reserved\"},\"color\":\"5B0697\"},{\"uid\":\"ORDER_STATUS_GOODS_SHIPPED\",\"id\":8,\"types\":[\"history\",\"archive\"],\"name\":{\"en\":\"Goods Shipped\"},\"color\":\"008000\"},{\"uid\":\"ORDER_STATUS_PREORDER\",\"id\":9,\"types\":[\"active\"],\"name\":{\"en\":\"PreOrder\"},\"color\":\"25A9B0\"},{\"uid\":\"ORDER_STATUS_CANCELLED\",\"id\":10,\"types\":[\"history\"],\"name\":{\"en\":\"Cancelled\"},\"color\":\"000000\"}],\"host\":\"https://www.getic.com\",\"canonicalPrefix\":\"https://www.getic.com\",\"lngPrefix\":\"\"},\"siteSettings\":{\"country\":{\"id\":2,\"uid2\":\"AE\",\"vat\":false,\"code\":\"971\",\"flag\":\"/images/countries/united-arab-emirates\",\"title\":{\"en\":\"United Arab Emirates\"},\"taxes\":[{\"legal\":0,\"individual\":0,\"legalWarranty\":12,\"individualWarranty\":12}],\"regions\":[{\"id\":3026,\"code31662\":\"AE-UQ\",\"title\":{\"en\":\"Umm al Qaywayn\"}},{\"id\":3027,\"code31662\":\"AE-RK\",\"title\":{\"en\":\"Ra's al Khaymah\"}},{\"id\":3028,\"code31662\":\"AE-DU\",\"title\":{\"en\":\"Dubayy\"}},{\"id\":3029,\"code31662\":\"AE-SH\",\"title\":{\"en\":\"Ash Shariqah\"}},{\"id\":3030,\"code31662\":\"AE-FU\",\"title\":{\"en\":\"Al Fujayrah\"}},{\"id\":3031,\"code31662\":\"AE-AZ\",\"title\":{\"en\":\"Abu Zaby\"}},{\"id\":3032,\"code31662\":\"AE-AJ\",\"title\":{\"en\":\"'Ajman\"}}],\"defaultCurrency\":{\"id\":1,\"uid3\":\"USD\",\"sign\":\"$\",\"signSide\":\"LEFT\",\"name\":\"United States dollar\",\"default\":false},\"buyerCustomId\":null},\"currency\":\"USD\",\"defaultVariation\":{\"id\":\"cfbb89b0-7217-11eb-ed9f-fa163e4a2e20\",\"name\":{\"en\":\"EU\"},\"default\":true},\"defaultCondition\":\"000000001\",\"tax\":{\"legal\":0,\"individual\":0,\"legalWarranty\":12,\"individualWarranty\":12},\"withVat\":true,\"convertCurrency\":false,\"domainSettings\":{\"domainDefault\":\"www.getic.com\",\"currencies\":[{\"id\":2,\"uid3\":\"EUR\",\"sign\":\"€\",\"signSide\":\"RIGHT\",\"name\":\"Euro\",\"default\":true},{\"id\":1,\"uid3\":\"USD\",\"sign\":\"$\",\"signSide\":\"LEFT\",\"name\":\"United States dollar\",\"default\":false},{\"id\":3,\"uid3\":\"GBP\",\"sign\":\"£\",\"signSide\":\"RIGHT\",\"name\":\"British pound\",\"default\":false}],\"languages\":[{\"id\":1,\"uid\":\"en\",\"title\":{\"en\":\"english\"},\"default\":true}],\"taxes\":[{\"legal\":0,\"individual\":0,\"legalWarranty\":12,\"individualWarranty\":12}],\"defaultCountry\":{\"id\":221,\"uid2\":\"US\",\"vat\":false,\"code\":\"1\",\"flag\":\"/images/countries/united-states\",\"title\":{\"en\":\"United States\"},\"taxes\":[{\"legal\":0,\"individual\":0,\"legalWarranty\":12,\"individualWarranty\":12}],\"defaultCurrency\":{\"id\":1,\"uid3\":\"USD\",\"sign\":\"$\",\"signSide\":\"LEFT\",\"name\":\"United States dollar\",\"default\":false},\"buyerCustomId\":null}},\"additionalSettings\":{\"insurancePercent\":\"1\",\"settings3d\":{\"light\":\"0x333333\",\"ambient\":\"0xFFFFFF\",\"metallnes\":\"0.7\",\"roughness\":\"1\"},\"starCoinSettings\":{\"registrationBonus\":100}},\"lng\":\"en\"},\"productInfo\":{\"productId\":2604,\"product\":{\"id\":2604,\"uid\":\"airfiber-11\",\"bulkMessage\":false,\"title\":\"AirFiber 11 (no duplexers)\",\"commentsCount\":0,\"productRating\":0,\"images\":[{\"id\":16695,\"order\":0,\"variants\":[{\"variant\":\"large\",\"path\":\"/images/catalogue/2604/af11_front_angle-602fa66e14105-large.jpg\",\"dimensions\":\"1500X1500\"},{\"variant\":\"tiny\",\"path\":\"/images/catalogue/2604/af11_front_angle-602fa66e14105-tiny.jpg\",\"dimensions\":\"160X160\"},{\"variant\":\"small\",\"path\":\"/images/catalogue/2604/af11_front_angle-602fa66e14105-small.jpg\",\"dimensions\":\"480X480\"},{\"variant\":\"medium\",\"path\":\"/images/catalogue/2604/af11_front_angle-602fa66e14105-medium.jpg\",\"dimensions\":\"920X920\"}]},{\"id\":16691,\"order\":1,\"variants\":[{\"variant\":\"small\",\"path\":\"/images/catalogue/2604/af11_front-602fa66ae6217-small.jpg\",\"dimensions\":\"480X480\"},{\"variant\":\"medium\",\"path\":\"/images/catalogue/2604/af11_front-602fa66ae6217-medium.jpg\",\"dimensions\":\"920X920\"},{\"variant\":\"large\",\"path\":\"/images/catalogue/2604/af11_front-602fa66ae6217-large.jpg\",\"dimensions\":\"1500X1500\"},{\"variant\":\"tiny\",\"path\":\"/images/catalogue/2604/af11_front-602fa66ae6217-tiny.jpg\",\"dimensions\":\"160X160\"}]},{\"id\":16694,\"order\":2,\"variants\":[{\"variant\":\"medium\",\"path\":\"/images/catalogue/2604/af11_back_angle-602fa66d4cdf8-medium.jpg\",\"dimensions\":\"920X920\"},{\"variant\":\"large\",\"path\":\"/images/catalogue/2604/af11_back_angle-602fa66d4cdf8-large.jpg\",\"dimensions\":\"1500X1500\"},{\"variant\":\"tiny\",\"path\":\"/images/catalogue/2604/af11_back_angle-602fa66d4cdf8-tiny.jpg\",\"dimensions\":\"160X160\"},{\"variant\":\"small\",\"path\":\"/images/catalogue/2604/af11_back_angle-602fa66d4cdf8-small.jpg\",\"dimensions\":\"480X480\"}]},{\"id\":16693,\"order\":3,\"variants\":[{\"variant\":\"large\",\"path\":\"/images/catalogue/2604/af11_back-602fa66c87ca7-large.jpg\",\"dimensions\":\"1500X1500\"},{\"variant\":\"tiny\",\"path\":\"/images/catalogue/2604/af11_back-602fa66c87ca7-tiny.jpg\",\"dimensions\":\"160X160\"},{\"variant\":\"small\",\"path\":\"/images/catalogue/2604/af11_back-602fa66c87ca7-small.jpg\",\"dimensions\":\"480X480\"},{\"variant\":\"medium\",\"path\":\"/images/catalogue/2604/af11_back-602fa66c87ca7-medium.jpg\",\"dimensions\":\"920X920\"}]},{\"id\":16689,\"order\":4,\"variants\":[{\"variant\":\"small\",\"path\":\"/images/catalogue/2604/af11_side-602fa66961dfb-small.jpg\",\"dimensions\":\"480X480\"},{\"variant\":\"medium\",\"path\":\"/images/catalogue/2604/af11_side-602fa66961dfb-medium.jpg\",\"dimensions\":\"920X920\"},{\"variant\":\"large\",\"path\":\"/images/catalogue/2604/af11_side-602fa66961dfb-large.jpg\",\"dimensions\":\"1500X1500\"},{\"variant\":\"tiny\",\"path\":\"/images/catalogue/2604/af11_side-602fa66961dfb-tiny.jpg\",\"dimensions\":\"160X160\"}]},{\"id\":16692,\"order\":5,\"variants\":[{\"variant\":\"medium\",\"path\":\"/images/catalogue/2604/af11_chip-602fa66bb203d-medium.jpg\",\"dimensions\":\"920X920\"},{\"variant\":\"large\",\"path\":\"/images/catalogue/2604/af11_chip-602fa66bb203d-large.jpg\",\"dimensions\":\"1500X1500\"},{\"variant\":\"tiny\",\"path\":\"/images/catalogue/2604/af11_chip-602fa66bb203d-tiny.jpg\",\"dimensions\":\"160X160\"},{\"variant\":\"small\",\"path\":\"/images/catalogue/2604/af11_chip-602fa66bb203d-small.jpg\",\"dimensions\":\"480X480\"}]},{\"id\":16690,\"order\":6,\"variants\":[{\"variant\":\"medium\",\"path\":\"/images/catalogue/2604/af11_ports-602fa66a25e67-medium.jpg\",\"dimensions\":\"920X920\"},{\"variant\":\"large\",\"path\":\"/images/catalogue/2604/af11_ports-602fa66a25e67-large.jpg\",\"dimensions\":\"1500X1500\"},{\"variant\":\"tiny\",\"path\":\"/images/catalogue/2604/af11_ports-602fa66a25e67-tiny.jpg\",\"dimensions\":\"160X160\"},{\"variant\":\"small\",\"path\":\"/images/catalogue/2604/af11_ports-602fa66a25e67-small.jpg\",\"dimensions\":\"480X480\"}]},{\"id\":16688,\"order\":7,\"variants\":[{\"variant\":\"large\",\"path\":\"/images/catalogue/2604/af11_top-602fa668a1aba-large.jpg\",\"dimensions\":\"1500X1500\"},{\"variant\":\"tiny\",\"path\":\"/images/catalogue/2604/af11_top-602fa668a1aba-tiny.jpg\",\"dimensions\":\"160X160\"},{\"variant\":\"small\",\"path\":\"/images/catalogue/2604/af11_top-602fa668a1aba-small.jpg\",\"dimensions\":\"480X480\"},{\"variant\":\"medium\",\"path\":\"/images/catalogue/2604/af11_top-602fa668a1aba-medium.jpg\",\"dimensions\":\"920X920\"}]}],\"variations\":[],\"addons\":[{\"id\":\"04c18a84-24f5-4fc9-8803-29895be27fbe\",\"title\":\"UK\"},{\"id\":\"5ba624c6-be84-454b-b0a8-a7a3d0164e7f\",\"title\":\"US\"}],\"prices\":[{\"conditionId\":\"000000001\",\"addonId\":null,\"prices\":[{\"from\":1,\"till\":500,\"price\":911.94,\"oldPrice\":null,\"msrp\":false,\"selected\":true},{\"from\":500,\"till\":1000,\"price\":911.94,\"oldPrice\":null,\"msrp\":false,\"selected\":false},{\"from\":1000,\"till\":5000,\"price\":903.54,\"oldPrice\":null,\"msrp\":false,\"selected\":false},{\"from\":5000,\"till\":10000,\"price\":895.13,\"oldPrice\":null,\"msrp\":false,\"selected\":false},{\"from\":10000,\"till\":4294967295,\"price\":885.89,\"oldPrice\":null,\"msrp\":false,\"selected\":false}]},{\"conditionId\":\"000000001\",\"addonId\":\"5ba624c6-be84-454b-b0a8-a7a3d0164e7f\",\"prices\":[{\"from\":1,\"till\":500,\"price\":913.19,\"oldPrice\":null,\"msrp\":false,\"selected\":true},{\"from\":500,\"till\":1000,\"price\":913.19,\"oldPrice\":null,\"msrp\":false,\"selected\":false},{\"from\":1000,\"till\":5000,\"price\":904.79,\"oldPrice\":null,\"msrp\":false,\"selected\":false},{\"from\":5000,\"till\":10000,\"price\":896.38,\"oldPrice\":null,\"msrp\":false,\"selected\":false},{\"from\":10000,\"till\":4294967295,\"price\":887.14,\"oldPrice\":null,\"msrp\":false,\"selected\":false}]},{\"conditionId\":\"000000001\",\"addonId\":\"04c18a84-24f5-4fc9-8803-29895be27fbe\",\"prices\":[{\"from\":1,\"till\":500,\"price\":913.19,\"oldPrice\":null,\"msrp\":false,\"selected\":true},{\"from\":500,\"till\":1000,\"price\":913.19,\"oldPrice\":null,\"msrp\":false,\"selected\":false},{\"from\":1000,\"till\":5000,\"price\":904.79,\"oldPrice\":null,\"msrp\":false,\"selected\":false},{\"from\":5000,\"till\":10000,\"price\":896.38,\"oldPrice\":null,\"msrp\":false,\"selected\":false},{\"from\":10000,\"till\":4294967295,\"price\":887.14,\"oldPrice\":null,\"msrp\":false,\"selected\":false}]},{\"conditionId\":\"000000002\",\"addonId\":null,\"prices\":[{\"from\":1,\"till\":500,\"price\":820.7460000000001,\"oldPrice\":null,\"msrp\":false,\"selected\":true},{\"from\":500,\"till\":1000,\"price\":820.7460000000001,\"oldPrice\":null,\"msrp\":false,\"selected\":false},{\"from\":1000,\"till\":5000,\"price\":813.1859999999999,\"oldPrice\":null,\"msrp\":false,\"selected\":false},{\"from\":5000,\"till\":10000,\"price\":805.617,\"oldPrice\":null,\"msrp\":false,\"selected\":false},{\"from\":10000,\"till\":4294967295,\"price\":797.3009999999999,\"oldPrice\":null,\"msrp\":false,\"selected\":false}]},{\"conditionId\":\"000000002\",\"addonId\":\"5ba624c6-be84-454b-b0a8-a7a3d0164e7f\",\"prices\":[{\"from\":1,\"till\":500,\"price\":821.9960000000001,\"oldPrice\":null,\"msrp\":false,\"selected\":true},{\"from\":500,\"till\":1000,\"price\":821.9960000000001,\"oldPrice\":null,\"msrp\":false,\"selected\":false},{\"from\":1000,\"till\":5000,\"price\":814.4359999999999,\"oldPrice\":null,\"msrp\":false,\"selected\":false},{\"from\":5000,\"till\":10000,\"price\":806.867,\"oldPrice\":null,\"msrp\":false,\"selected\":false},{\"from\":10000,\"till\":4294967295,\"price\":798.5509999999999,\"oldPrice\":null,\"msrp\":false,\"selected\":false}]},{\"conditionId\":\"000000002\",\"addonId\":\"04c18a84-24f5-4fc9-8803-29895be27fbe\",\"prices\":[{\"from\":1,\"till\":500,\"price\":821.9960000000001,\"oldPrice\":null,\"msrp\":false,\"selected\":true},{\"from\":500,\"till\":1000,\"price\":821.9960000000001,\"oldPrice\":null,\"msrp\":false,\"selected\":false},{\"from\":1000,\"till\":5000,\"price\":814.4359999999999,\"oldPrice\":null,\"msrp\":false,\"selected\":false},{\"from\":5000,\"till\":10000,\"price\":806.867,\"oldPrice\":null,\"msrp\":false,\"selected\":false},{\"from\":10000,\"till\":4294967295,\"price\":798.5509999999999,\"oldPrice\":null,\"msrp\":false,\"selected\":false}]}],\"amounts\":[{\"conditionId\":\"000000001\",\"amount\":4}],\"arrivals\":[{\"arrivalDate\":\"2023-10-23\",\"amount\":8}],\"labels\":[],\"labelTemplateData\":{\"%brand%\":\"Ubiquiti\"},\"files\":[{\"id\":3124,\"path\":\"/files/catalogue/2604/af-11_ds.pdf\",\"order\":0,\"title\":\"Technical Specs / Datasheet - AirFiber 11 (no duplexers)\",\"description\":\"\",\"file\":false},{\"id\":4053,\"path\":\"https://dl.ubnt.com/qsg/AF-11/AF-11_EN.html\",\"order\":1,\"title\":\"Quick Start Guide - AirFiber 11 (no duplexers)\",\"description\":\"\",\"file\":true}],\"brandCertificates\":[],\"properties\":[{\"id\":19,\"uid\":\"ean\",\"title\":\"EAN no.\",\"value\":\"0810010071613\"},{\"id\":14,\"uid\":\"mpn\",\"title\":\"Manufacturer part number\",\"value\":\"AF-11\"},{\"id\":347,\"uid\":\"trust_pilot_id\",\"title\":\"trustpilot ID\",\"value\":\"2604\"},{\"id\":26,\"uid\":\"videos\",\"title\":\"Videos\",\"value\":[]}],\"description\":{\"id\":25,\"blocks\":[{\"id\":277,\"lng\":\"en\",\"num\":1,\"text\":\"Breaking free from the congested 5 GHz band, airFiber® 11 is the first modular airFiber radio system purpose-built for the 11 GHz licensed frequency market. Housed in a compact, highly efficient form factor, airFiber 11 delivers amazing wireless gigabit+ performance, low latency, and long range, making it ideal for carrier backhaul, building-to-building enterprise use, or public safety applications.\",\"media\":[],\"options\":[]},{\"id\":278,\"lng\":\"en\",\"num\":2,\"text\":\"Power Source Options\",\"media\":[],\"options\":[{\"id\":14,\"name\":\"block-type-header\"},{\"id\":26,\"name\":\"text-align-center\"}]},{\"id\":279,\"lng\":\"en\",\"num\":3,\"text\":\"Support for PoE or DC power gives you the flexibility to power the AF-11 separately from Ethernet traffic.\",\"media\":[{\"id\":601,\"basePath\":\"/images/catalogue/description/25\",\"name\":\"af11fxproductdetailfeaturepoweroptions1-603dfa72ed389-365x200.jpg\",\"extension\":\"jpg\",\"mediaType\":\"image\",\"url\":\"/images/catalogue/description/25/af11fxproductdetailfeaturepoweroptions1-603dfa72ed389-365x200.jpg\"}],\"options\":[{\"id\":30,\"name\":\"media-align-left\"},{\"id\":32,\"name\":\"block-type-media\"}]},{\"id\":280,\"lng\":\"en\",\"num\":4,\"text\":\"Reversible Duplexers\",\"media\":[],\"options\":[{\"id\":14,\"name\":\"block-type-header\"},{\"id\":26,\"name\":\"text-align-center\"}]},{\"id\":281,\"lng\":\"en\",\"num\":5,\"text\":\"Each duplexer has a low channel and a high channel that can be configured by simply reversing the position of the duplexer.\",\"media\":[{\"id\":602,\"basePath\":\"/images/catalogue/description/25\",\"name\":\"af11xproductdetailfeaturereversibleduplexers-603dfaac2314b-365x200.jpg\",\"extension\":\"jpg\",\"mediaType\":\"image\",\"url\":\"/images/catalogue/description/25/af11xproductdetailfeaturereversibleduplexers-603dfaac2314b-365x200.jpg\"}],\"options\":[{\"id\":31,\"name\":\"media-align-right\"},{\"id\":32,\"name\":\"block-type-media\"}]},{\"id\":5989,\"lng\":\"en\",\"num\":6,\"text\":\"Advanced Engineering\",\"media\":[],\"options\":[{\"id\":14,\"name\":\"block-type-header\"},{\"id\":26,\"name\":\"text-align-center\"}]},{\"id\":5990,\"lng\":\"en\",\"num\":7,\"text\":\"Ubiquiti’s INVICTUS™ 2 custom silicon and proprietary radio architecture are designed specifically for long-distance, outdoor wireless applications, providing superior performance, long-range capability, and higher delivered throughput.\",\"media\":[{\"id\":603,\"basePath\":\"/images/catalogue/description/25\",\"name\":\"af11fxmarketingpoints31-603dfd03d0b8f-585x324.jpg\",\"extension\":\"jpg\",\"mediaType\":\"image\",\"url\":\"/images/catalogue/description/25/af11fxmarketingpoints31-603dfd03d0b8f-585x324.jpg\"}],\"options\":[{\"id\":29,\"name\":\"text-align-justify\"},{\"id\":30,\"name\":\"media-align-left\"},{\"id\":32,\"name\":\"block-type-media\"}]},{\"id\":282,\"lng\":\"en\",\"num\":8,\"text\":\"Channel Configuration\",\"media\":[],\"options\":[{\"id\":14,\"name\":\"block-type-header\"},{\"id\":26,\"name\":\"text-align-center\"}]},{\"id\":283,\"lng\":\"en\",\"num\":9,\"text\":\"The airFiber AF-11 can use single (SISO) or bonded (MIMO) channels, depending on your specific licensing requirements. The AF-11 also features different channel widths to suit your deployment needs, and you can independently configure TX and RX channel frequencies\",\"media\":[],\"options\":[{\"id\":29,\"name\":\"text-align-justify\"}]},{\"id\":5988,\"lng\":\"en\",\"num\":10,\"text\":\"\",\"media\":[{\"id\":600,\"basePath\":\"/images/catalogue/description/25\",\"name\":\"af11productfeaturereversiblechannelconfiguration-603dfa085b33e-1148x542.jpg\",\"extension\":\"jpg\",\"mediaType\":\"image\",\"url\":\"/images/catalogue/description/25/af11productfeaturereversiblechannelconfiguration-603dfa085b33e-1148x542.jpg\"}],\"options\":[{\"id\":32,\"name\":\"block-type-media\"}]},{\"id\":41225,\"lng\":\"en\",\"num\":11,\"text\":\"{\\\"products\\\":{\\\"1\\\":{\\\"media\\\":\\\"3960\\\",\\\"title\\\":\\\"AirFiber 11 (no duplexers)\\\",\\\"uid\\\":\\\"airfiber-11\\\"},\\\"2\\\":{\\\"media\\\":\\\"3962\\\",\\\"title\\\":\\\"AirFiber 11FX (no duplexers)\\\",\\\"uid\\\":\\\"airfiber-11fx\\\"}},\\\"parameters\\\":{\\\"1\\\":{\\\"parameterValue\\\":{\\\"1\\\":\\\"1.2Gbps\\\",\\\"2\\\":\\\"no\\\"},\\\"parameterName\\\":\\\"11GHz Radio Rate\\\"},\\\"2\\\":{\\\"parameterValue\\\":{\\\"1\\\":\\\"no\\\",\\\"2\\\":\\\"1.2 Gbps\\\"},\\\"parameterName\\\":\\\"5GHz Radio Rate\\\"},\\\"3\\\":{\\\"parameterValue\\\":{\\\"1\\\":\\\"300 km\\\",\\\"2\\\":\\\"300 km\\\"},\\\"parameterName\\\":\\\"Antenna range \\\"},\\\"4\\\":{\\\"parameterValue\\\":{\\\"1\\\":\\\" 4 x SMA Female\\\",\\\"2\\\":\\\" 4 x SMA Female\\\"},\\\"parameterName\\\":\\\"RF Connectors\\\"},\\\"5\\\":{\\\"parameterValue\\\":{\\\"1\\\":\\\" 1 x 100 Mbps,  1 x 1 Gbps\\\",\\\"2\\\":\\\" 1 x 100 Mbps,  1 x 1 Gbps\\\"},\\\"parameterName\\\":\\\"Ethernet Ports\\\"},\\\"6\\\":{\\\"parameterValue\\\":{\\\"1\\\":\\\"INVICTUS 2 IC\\\",\\\"2\\\":\\\"INVICTUS 2 IC\\\"},\\\"parameterName\\\":\\\"Chipset\\\"},\\\"7\\\":{\\\"parameterValue\\\":{\\\"1\\\":\\\" 36 W\\\",\\\"2\\\":\\\" 36 W\\\"},\\\"parameterName\\\":\\\"Max Power Consumption\\\"}}}\",\"media\":[{\"id\":3960,\"basePath\":\"/images/catalogue/description/25\",\"name\":\"airfiber11-651eaae3bc7d6-225x225.jpg\",\"extension\":\"jpg\",\"mediaType\":\"image\",\"url\":\"/images/catalogue/description/25/airfiber11-651eaae3bc7d6-225x225.jpg\"},{\"id\":3962,\"basePath\":\"/images/catalogue/description/25\",\"name\":\"airfiber11fx-651eab7ea6207-225x225.jpg\",\"extension\":\"jpg\",\"mediaType\":\"image\",\"url\":\"/images/catalogue/description/25/airfiber11fx-651eab7ea6207-225x225.jpg\"}],\"options\":[{\"id\":37,\"name\":\"block-type-comparison\"}]}]},\"warranty\":12,\"descShort\":\"Full duplex Point-to-Point radio 11 GHz, up to 1.2+ Gbps throughput, max. range 300+ km, INVICTUS™ processor, integrates with airFiber® 11 GHz antennas.\",\"brand\":\"Ubiquiti\",\"digital\":false,\"productVariations\":[],\"presetNavData\":{\"id\":\"3\",\"uid\":\"airfiber\",\"title\":\"AirFiber\",\"type\":\"brands\",\"canonical\":true,\"oos\":false,\"pathData\":[{\"id\":25,\"uid\":\"ubiquiti\",\"title\":\"Ubiquiti\",\"level\":0},{\"id\":1,\"uid\":\"ubiquiti-outdoor-wireless\",\"title\":\"Outdoor Wireless\",\"level\":1}]},\"model3DData\":null,\"productExpectedAmounts\":[{\"charValueId\":\"\",\"conditionId\":\"000000001\",\"expectedAmount\":4},{\"charValueId\":\"\",\"conditionId\":\"000000002\",\"expectedAmount\":0}]},\"loading\":false,\"boughtTogether\":[{\"id\":1312,\"uid\":\"rocket-ac-prism-gen2\",\"title\":\"Rocket AC Prism Gen2\",\"image\":\"/images/catalogue/1312/rp5acg2_front-5ff2d9322a1c3-small.jpg\",\"rating\":0,\"comments\":0,\"properties\":[{\"id\":19,\"uid\":\"ean\",\"title\":\"EAN no.\",\"value\":\"0817882020268\"},{\"id\":14,\"uid\":\"mpn\",\"title\":\"Manufacturer part number\",\"value\":\"RP-5AC-Gen2\"},{\"id\":347,\"uid\":\"trust_pilot_id\",\"title\":\"trustpilot ID\",\"value\":\"1312\"},{\"id\":26,\"uid\":\"videos\",\"title\":\"Videos\",\"value\":[\"OFV4rG6a3Fc\"]}],\"arrivals\":[{\"arrivalDate\":\"2023-10-23\",\"amount\":50}],\"bulkMessage\":false,\"labels\":[],\"prices\":[{\"conditionId\":\"000000001\",\"addonId\":null,\"prices\":[{\"from\":1,\"till\":500,\"price\":204.27,\"oldPrice\":null,\"msrp\":false,\"selected\":true},{\"from\":500,\"till\":1000,\"price\":202.41,\"oldPrice\":null,\"msrp\":false,\"selected\":false},{\"from\":1000,\"till\":5000,\"price\":200.54,\"oldPrice\":null,\"msrp\":false,\"selected\":false},{\"from\":5000,\"till\":10000,\"price\":198.68,\"oldPrice\":null,\"msrp\":false,\"selected\":false},{\"from\":10000,\"till\":4294967295,\"price\":196.62,\"oldPrice\":null,\"msrp\":false,\"selected\":false}]},{\"conditionId\":\"000000001\",\"addonId\":\"5ba624c6-be84-454b-b0a8-a7a3d0164e7f\",\"prices\":[{\"from\":1,\"till\":500,\"price\":205.52,\"oldPrice\":null,\"msrp\":false,\"selected\":true},{\"from\":500,\"till\":1000,\"price\":203.66,\"oldPrice\":null,\"msrp\":false,\"selected\":false},{\"from\":1000,\"till\":5000,\"price\":201.79,\"oldPrice\":null,\"msrp\":false,\"selected\":false},{\"from\":5000,\"till\":10000,\"price\":199.93,\"oldPrice\":null,\"msrp\":false,\"selected\":false},{\"from\":10000,\"till\":4294967295,\"price\":197.87,\"oldPrice\":null,\"msrp\":false,\"selected\":false}]},{\"conditionId\":\"000000001\",\"addonId\":\"04c18a84-24f5-4fc9-8803-29895be27fbe\",\"prices\":[{\"from\":1,\"till\":500,\"price\":205.52,\"oldPrice\":null,\"msrp\":false,\"selected\":true},{\"from\":500,\"till\":1000,\"price\":203.66,\"oldPrice\":null,\"msrp\":false,\"selected\":false},{\"from\":1000,\"till\":5000,\"price\":201.79,\"oldPrice\":null,\"msrp\":false,\"selected\":false},{\"from\":5000,\"till\":10000,\"price\":199.93,\"oldPrice\":null,\"msrp\":false,\"selected\":false},{\"from\":10000,\"till\":4294967295,\"price\":197.87,\"oldPrice\":null,\"msrp\":false,\"selected\":false}]},{\"conditionId\":\"000000002\",\"addonId\":null,\"prices\":[{\"from\":1,\"till\":500,\"price\":183.84300000000002,\"oldPrice\":null,\"msrp\":false,\"selected\":true},{\"from\":500,\"till\":1000,\"price\":182.16899999999998,\"oldPrice\":null,\"msrp\":false,\"selected\":false},{\"from\":1000,\"till\":5000,\"price\":180.486,\"oldPrice\":null,\"msrp\":false,\"selected\":false},{\"from\":5000,\"till\":10000,\"price\":178.812,\"oldPrice\":null,\"msrp\":false,\"selected\":false},{\"from\":10000,\"till\":4294967295,\"price\":176.958,\"oldPrice\":null,\"msrp\":false,\"selected\":false}]},{\"conditionId\":\"000000002\",\"addonId\":\"5ba624c6-be84-454b-b0a8-a7a3d0164e7f\",\"prices\":[{\"from\":1,\"till\":500,\"price\":185.09300000000002,\"oldPrice\":null,\"msrp\":false,\"selected\":true},{\"from\":500,\"till\":1000,\"price\":183.41899999999998,\"oldPrice\":null,\"msrp\":false,\"selected\":false},{\"from\":1000,\"till\":5000,\"price\":181.736,\"oldPrice\":null,\"msrp\":false,\"selected\":false},{\"from\":5000,\"till\":10000,\"price\":180.062,\"oldPrice\":null,\"msrp\":false,\"selected\":false},{\"from\":10000,\"till\":4294967295,\"price\":178.208,\"oldPrice\":null,\"msrp\":false,\"selected\":false}]},{\"conditionId\":\"000000002\",\"addonId\":\"04c18a84-24f5-4fc9-8803-29895be27fbe\",\"prices\":[{\"from\":1,\"till\":500,\"price\":185.09300000000002,\"oldPrice\":null,\"msrp\":false,\"selected\":true},{\"from\":500,\"till\":1000,\"price\":183.41899999999998,\"oldPrice\":null,\"msrp\":false,\"selected\":false},{\"from\":1000,\"till\":5000,\"price\":181.736,\"oldPrice\":null,\"msrp\":false,\"selected\":false},{\"from\":5000,\"till\":10000,\"price\":180.062,\"oldPrice\":null,\"msrp\":false,\"selected\":false},{\"from\":10000,\"till\":4294967295,\"price\":178.208,\"oldPrice\":null,\"msrp\":false,\"selected\":false}]}],\"warranty\":12,\"amounts\":[{\"conditionId\":\"000000001\",\"amount\":128}],\"variations\":[],\"labelTemplateData\":{\"%brand%\":\"Ubiquiti\"},\"addons\":[{\"id\":\"04c18a84-24f5-4fc9-8803-29895be27fbe\",\"title\":\"UK\"},{\"id\":\"5ba624c6-be84-454b-b0a8-a7a3d0164e7f\",\"title\":\"US\"}]},{\"id\":1407,\"uid\":\"airfiber-11-high-band-duplexer\",\"title\":\"AirFiber 11 High Band Duplexer\",\"image\":\"/images/catalogue/1407/af11duph-602faa7e19b8c-small.jpg\",\"rating\":0,\"comments\":0,\"properties\":[{\"id\":19,\"uid\":\"ean\",\"title\":\"EAN no.\",\"value\":\"0810354026539\"},{\"id\":14,\"uid\":\"mpn\",\"title\":\"Manufacturer part number\",\"value\":\"AF-11-DUP-H\"},{\"id\":347,\"uid\":\"trust_pilot_id\",\"title\":\"trustpilot ID\",\"value\":\"1407\"},{\"id\":26,\"uid\":\"videos\",\"title\":\"Videos\",\"value\":[]}],\"arrivals\":[],\"bulkMessage\":false,\"labels\":[],\"prices\":[{\"conditionId\":\"000000001\",\"addonId\":null,\"prices\":[{\"from\":1,\"till\":500,\"price\":170.6,\"oldPrice\":null,\"msrp\":false,\"selected\":true},{\"from\":500,\"till\":1000,\"price\":169.04,\"oldPrice\":null,\"msrp\":false,\"selected\":false},{\"from\":1000,\"till\":5000,\"price\":167.49,\"oldPrice\":null,\"msrp\":false,\"selected\":false},{\"from\":5000,\"till\":10000,\"price\":165.93,\"oldPrice\":null,\"msrp\":false,\"selected\":false},{\"from\":10000,\"till\":4294967295,\"price\":164.21,\"oldPrice\":null,\"msrp\":false,\"selected\":false}]},{\"conditionId\":\"000000002\",\"addonId\":null,\"prices\":[{\"from\":1,\"till\":500,\"price\":153.54,\"oldPrice\":null,\"msrp\":false,\"selected\":true},{\"from\":500,\"till\":1000,\"price\":152.136,\"oldPrice\":null,\"msrp\":false,\"selected\":false},{\"from\":1000,\"till\":5000,\"price\":150.741,\"oldPrice\":null,\"msrp\":false,\"selected\":false},{\"from\":5000,\"till\":10000,\"price\":149.33700000000002,\"oldPrice\":null,\"msrp\":false,\"selected\":false},{\"from\":10000,\"till\":4294967295,\"price\":147.78900000000002,\"oldPrice\":null,\"msrp\":false,\"selected\":false}]}],\"warranty\":12,\"amounts\":[{\"conditionId\":\"000000001\",\"amount\":7}],\"variations\":[],\"labelTemplateData\":{\"%brand%\":\"Ubiquiti\"},\"addons\":[]},{\"id\":1408,\"uid\":\"airfiber-11-low-band-duplexer\",\"title\":\"AirFiber 11 Low Band Duplexer\",\"image\":\"/images/catalogue/1408/af11duplresized-602fa9319e3f0-small.jpg\",\"rating\":0,\"comments\":0,\"properties\":[{\"id\":19,\"uid\":\"ean\",\"title\":\"EAN no.\",\"value\":\"0810354026546\"},{\"id\":14,\"uid\":\"mpn\",\"title\":\"Manufacturer part number\",\"value\":\"AF-11-DUP-L\"},{\"id\":347,\"uid\":\"trust_pilot_id\",\"title\":\"trustpilot ID\",\"value\":\"1408\"},{\"id\":26,\"uid\":\"videos\",\"title\":\"Videos\",\"value\":[]}],\"arrivals\":[],\"bulkMessage\":false,\"labels\":[],\"prices\":[{\"conditionId\":\"000000001\",\"addonId\":null,\"prices\":[{\"from\":1,\"till\":500,\"price\":170.6,\"oldPrice\":null,\"msrp\":false,\"selected\":true},{\"from\":500,\"till\":1000,\"price\":169.04,\"oldPrice\":null,\"msrp\":false,\"selected\":false},{\"from\":1000,\"till\":5000,\"price\":167.49,\"oldPrice\":null,\"msrp\":false,\"selected\":false},{\"from\":5000,\"till\":10000,\"price\":165.93,\"oldPrice\":null,\"msrp\":false,\"selected\":false},{\"from\":10000,\"till\":4294967295,\"price\":164.21,\"oldPrice\":null,\"msrp\":false,\"selected\":false}]},{\"conditionId\":\"000000002\",\"addonId\":null,\"prices\":[{\"from\":1,\"till\":500,\"price\":153.54,\"oldPrice\":null,\"msrp\":false,\"selected\":true},{\"from\":500,\"till\":1000,\"price\":152.136,\"oldPrice\":null,\"msrp\":false,\"selected\":false},{\"from\":1000,\"till\":5000,\"price\":150.741,\"oldPrice\":null,\"msrp\":false,\"selected\":false},{\"from\":5000,\"till\":10000,\"price\":149.33700000000002,\"oldPrice\":null,\"msrp\":false,\"selected\":false},{\"from\":10000,\"till\":4294967295,\"price\":147.78900000000002,\"oldPrice\":null,\"msrp\":false,\"selected\":false}]}],\"warranty\":12,\"amounts\":[{\"conditionId\":\"000000001\",\"amount\":13}],\"variations\":[],\"labelTemplateData\":{\"%brand%\":\"Ubiquiti\"},\"addons\":[]},{\"id\":1532,\"uid\":\"airfiber-5xhd\",\"title\":\"AirFiber 5XHD\",\"image\":\"/images/catalogue/1532/af5xhd_front_angle-5feb204578e22-small.jpg\",\"rating\":0,\"comments\":0,\"properties\":[{\"id\":19,\"uid\":\"ean\",\"title\":\"EAN no.\",\"value\":\"0817882022828\"},{\"id\":14,\"uid\":\"mpn\",\"title\":\"Manufacturer part number\",\"value\":\"AF-5XHD\"},{\"id\":347,\"uid\":\"trust_pilot_id\",\"title\":\"trustpilot ID\",\"value\":\"1532\"},{\"id\":26,\"uid\":\"videos\",\"title\":\"Videos\",\"value\":[]}],\"arrivals\":[],\"bulkMessage\":false,\"labels\":[],\"prices\":[{\"conditionId\":\"000000001\",\"addonId\":null,\"prices\":[{\"from\":1,\"till\":500,\"price\":370.38,\"oldPrice\":null,\"msrp\":false,\"selected\":true},{\"from\":500,\"till\":1000,\"price\":367,\"oldPrice\":null,\"msrp\":false,\"selected\":false},{\"from\":1000,\"till\":5000,\"price\":363.62,\"oldPrice\":null,\"msrp\":false,\"selected\":false},{\"from\":5000,\"till\":10000,\"price\":360.24,\"oldPrice\":null,\"msrp\":false,\"selected\":false},{\"from\":10000,\"till\":4294967295,\"price\":356.52,\"oldPrice\":null,\"msrp\":false,\"selected\":false}]},{\"conditionId\":\"000000001\",\"addonId\":\"5ba624c6-be84-454b-b0a8-a7a3d0164e7f\",\"prices\":[{\"from\":1,\"till\":500,\"price\":371.63,\"oldPrice\":null,\"msrp\":false,\"selected\":true},{\"from\":500,\"till\":1000,\"price\":368.25,\"oldPrice\":null,\"msrp\":false,\"selected\":false},{\"from\":1000,\"till\":5000,\"price\":364.87,\"oldPrice\":null,\"msrp\":false,\"selected\":false},{\"from\":5000,\"till\":10000,\"price\":361.49,\"oldPrice\":null,\"msrp\":false,\"selected\":false},{\"from\":10000,\"till\":4294967295,\"price\":357.77,\"oldPrice\":null,\"msrp\":false,\"selected\":false}]},{\"conditionId\":\"000000001\",\"addonId\":\"04c18a84-24f5-4fc9-8803-29895be27fbe\",\"prices\":[{\"from\":1,\"till\":500,\"price\":371.63,\"oldPrice\":null,\"msrp\":false,\"selected\":true},{\"from\":500,\"till\":1000,\"price\":368.25,\"oldPrice\":null,\"msrp\":false,\"selected\":false},{\"from\":1000,\"till\":5000,\"price\":364.87,\"oldPrice\":null,\"msrp\":false,\"selected\":false},{\"from\":5000,\"till\":10000,\"price\":361.49,\"oldPrice\":null,\"msrp\":false,\"selected\":false},{\"from\":10000,\"till\":4294967295,\"price\":357.77,\"oldPrice\":null,\"msrp\":false,\"selected\":false}]},{\"conditionId\":\"000000002\",\"addonId\":null,\"prices\":[{\"from\":1,\"till\":500,\"price\":333.342,\"oldPrice\":null,\"msrp\":false,\"selected\":true},{\"from\":500,\"till\":1000,\"price\":330.3,\"oldPrice\":null,\"msrp\":false,\"selected\":false},{\"from\":1000,\"till\":5000,\"price\":327.258,\"oldPrice\":null,\"msrp\":false,\"selected\":false},{\"from\":5000,\"till\":10000,\"price\":324.216,\"oldPrice\":null,\"msrp\":false,\"selected\":false},{\"from\":10000,\"till\":4294967295,\"price\":320.868,\"oldPrice\":null,\"msrp\":false,\"selected\":false}]},{\"conditionId\":\"000000002\",\"addonId\":\"5ba624c6-be84-454b-b0a8-a7a3d0164e7f\",\"prices\":[{\"from\":1,\"till\":500,\"price\":334.592,\"oldPrice\":null,\"msrp\":false,\"selected\":true},{\"from\":500,\"till\":1000,\"price\":331.55,\"oldPrice\":null,\"msrp\":false,\"selected\":false},{\"from\":1000,\"till\":5000,\"price\":328.508,\"oldPrice\":null,\"msrp\":false,\"selected\":false},{\"from\":5000,\"till\":10000,\"price\":325.466,\"oldPrice\":null,\"msrp\":false,\"selected\":false},{\"from\":10000,\"till\":4294967295,\"price\":322.118,\"oldPrice\":null,\"msrp\":false,\"selected\":false}]},{\"conditionId\":\"000000002\",\"addonId\":\"04c18a84-24f5-4fc9-8803-29895be27fbe\",\"prices\":[{\"from\":1,\"till\":500,\"price\":334.592,\"oldPrice\":null,\"msrp\":false,\"selected\":true},{\"from\":500,\"till\":1000,\"price\":331.55,\"oldPrice\":null,\"msrp\":false,\"selected\":false},{\"from\":1000,\"till\":5000,\"price\":328.508,\"oldPrice\":null,\"msrp\":false,\"selected\":false},{\"from\":5000,\"till\":10000,\"price\":325.466,\"oldPrice\":null,\"msrp\":false,\"selected\":false},{\"from\":10000,\"till\":4294967295,\"price\":322.118,\"oldPrice\":null,\"msrp\":false,\"selected\":false}]}],\"warranty\":12,\"amounts\":[{\"conditionId\":\"000000001\",\"amount\":80}],\"variations\":[],\"labelTemplateData\":{\"%brand%\":\"Ubiquiti\"},\"addons\":[{\"id\":\"04c18a84-24f5-4fc9-8803-29895be27fbe\",\"title\":\"UK\"},{\"id\":\"5ba624c6-be84-454b-b0a8-a7a3d0164e7f\",\"title\":\"US\"}]}],\"variations\":[],\"addons\":[{\"id\":\"04c18a84-24f5-4fc9-8803-29895be27fbe\",\"title\":\"UK\"},{\"id\":\"5ba624c6-be84-454b-b0a8-a7a3d0164e7f\",\"title\":\"US\"}],\"additionalData\":{\"prices\":{},\"plugs\":{},\"usedCount\":0},\"productVariations\":[],\"arrivals\":[],\"errorStatus\":null,\"oosAlternative\":[]},\"favorites\":{\"items\":[],\"itemsHash\":{\"new\":{\"EU\":{},\"US\":{},\"UK\":{}},\"used\":{\"EU\":{}}}},\"topLevelCatalogue\":{\"loading\":false,\"presets\":[{\"id\":221,\"uid\":\"outdoor-wireless\",\"titleText\":\"Outdoor Wireless\",\"typeId\":0,\"groupPresetId\":null,\"parentId\":null,\"section\":0,\"num\":0},{\"id\":38,\"uid\":\"home-office-networks\",\"titleText\":\"Home and Office Networks\",\"typeId\":0,\"groupPresetId\":null,\"parentId\":null,\"section\":0,\"num\":1},{\"id\":227,\"uid\":\"lte-products\",\"titleText\":\"LTE Products\",\"typeId\":0,\"groupPresetId\":null,\"parentId\":null,\"section\":0,\"num\":2},{\"id\":331,\"uid\":\"fiber-networks\",\"titleText\":\"Fiber Networks\",\"typeId\":0,\"groupPresetId\":null,\"parentId\":null,\"section\":0,\"num\":3},{\"id\":229,\"uid\":\"security-systems\",\"titleText\":\"Security Systems\",\"typeId\":0,\"groupPresetId\":null,\"parentId\":null,\"section\":0,\"num\":4},{\"id\":228,\"uid\":\"iot-products\",\"titleText\":\"IoT Solutions\",\"typeId\":0,\"groupPresetId\":null,\"parentId\":null,\"section\":0,\"num\":5},{\"id\":452,\"uid\":\"fleet-management\",\"titleText\":\"Fleet Management\",\"typeId\":0,\"groupPresetId\":null,\"parentId\":null,\"section\":0,\"num\":6},{\"id\":360,\"uid\":\"cables-and-cabinets\",\"titleText\":\"Cables and Cabinets\",\"typeId\":0,\"groupPresetId\":null,\"parentId\":null,\"section\":0,\"num\":7},{\"id\":387,\"uid\":\"electrical-equipment\",\"titleText\":\"Electrical Equipment\",\"typeId\":0,\"groupPresetId\":null,\"parentId\":null,\"section\":0,\"num\":8},{\"id\":429,\"uid\":\"mounts-and-brackets\",\"titleText\":\"Mounts and Brackets\",\"typeId\":0,\"groupPresetId\":null,\"parentId\":null,\"section\":0,\"num\":9},{\"id\":533,\"uid\":\"gadgets\",\"titleText\":\"Gadgets\",\"typeId\":0,\"groupPresetId\":null,\"parentId\":null,\"section\":0,\"num\":10},{\"id\":26,\"uid\":\"mikrotik\",\"titleText\":\"MikroTik\",\"typeId\":1,\"groupPresetId\":null,\"parentId\":null,\"section\":0,\"num\":0},{\"id\":25,\"uid\":\"ubiquiti\",\"titleText\":\"Ubiquiti\",\"typeId\":1,\"groupPresetId\":null,\"parentId\":null,\"section\":0,\"num\":1},{\"id\":27,\"uid\":\"teltonika\",\"titleText\":\"Teltonika\",\"typeId\":1,\"groupPresetId\":null,\"parentId\":null,\"section\":0,\"num\":2},{\"id\":682,\"uid\":\"ruijie\",\"titleText\":\"Ruijie\",\"typeId\":1,\"groupPresetId\":null,\"parentId\":null,\"section\":0,\"num\":3},{\"id\":640,\"uid\":\"milesight\",\"titleText\":\"Milesight\",\"typeId\":1,\"groupPresetId\":null,\"parentId\":null,\"section\":0,\"num\":4},{\"id\":28,\"uid\":\"huawei\",\"titleText\":\"Huawei\",\"typeId\":1,\"groupPresetId\":null,\"parentId\":null,\"section\":0,\"num\":5},{\"id\":29,\"uid\":\"alfa\",\"titleText\":\"Alfa\",\"typeId\":1,\"groupPresetId\":null,\"parentId\":null,\"section\":0,\"num\":6},{\"id\":31,\"uid\":\"cambium\",\"titleText\":\"Cambium\",\"typeId\":1,\"groupPresetId\":null,\"parentId\":null,\"section\":0,\"num\":7},{\"id\":35,\"uid\":\"quwireless\",\"titleText\":\"QuWireless\",\"typeId\":1,\"groupPresetId\":null,\"parentId\":null,\"section\":0,\"num\":8},{\"id\":30,\"uid\":\"mimosa\",\"titleText\":\"Mimosa\",\"typeId\":1,\"groupPresetId\":null,\"parentId\":null,\"section\":0,\"num\":9},{\"id\":33,\"uid\":\"hikvision\",\"titleText\":\"HikVision\",\"typeId\":1,\"groupPresetId\":null,\"parentId\":null,\"section\":0,\"num\":10},{\"id\":495,\"uid\":\"xiaomi\",\"titleText\":\"Xiaomi\",\"typeId\":1,\"groupPresetId\":null,\"parentId\":null,\"section\":0,\"num\":11},{\"id\":34,\"uid\":\"rf-elements\",\"titleText\":\"RF Elements\",\"typeId\":1,\"groupPresetId\":null,\"parentId\":null,\"section\":0,\"num\":12},{\"id\":36,\"uid\":\"zyxel\",\"titleText\":\"Zyxel\",\"typeId\":1,\"groupPresetId\":null,\"parentId\":null,\"section\":0,\"num\":13}],\"selectedPreset\":null,\"loaded\":true},\"internal\":{\"headerLayoutLoaded\":true}};\n",
       "                    window.__REACT_QUERY_STATE__ = {\"mutations\":[],\"queries\":[]};\n",
       "                    window.API_URL = \"https://api.getic.it\";\n",
       "                    window.userIp = \"2.49.73.202\";\n",
       "                </script><script>function hasWebp(){const e=document.createElement(\"canvas\");return!(!e.getContext||!e.getContext(\"2d\"))&&0===e.toDataURL(\"image/webp\").indexOf(\"data:image/webp\")}hasWebp()?(document.body.classList.add(\"has-webp\"),window.hasWebp=!0):document.body.classList.add(\"no-webp\")</script><div id=\"root\"><div class=\"main-container\"><div class=\"container-fluid p-0\"><div class=\"main-content-container\"><div class=\"header-placeholder\"></div><header class=\"header pl-main pr-main\"><div class=\"logo getic\"><a aria-label=\"main\" class=\"animated-logo\" href=\"/\" role=\"navigation\"></a></div><div class=\"header-top-bar align-items-center justify-content-between text-charcoal\"><div class=\"local-info d-none d-md-flex align-items-center justify-content-between\"><button class=\"btn site-settings-btn d-flex align-items-center border-none\"><img alt=\"Location\" class=\"pre-icon me-2\" height=\"23\" src=\"/static/media/pin_ico.ac89f60b.svg\" width=\"19\"/><span class=\"site-settings-wrapper\" style=\"text-align:left\"><span class=\"country-name me-1\">United Arab Emirates<!-- -->,</span><span class=\"country-currency me-1\">$ (USD)<!-- -->,</span><span class=\"country-tax\">without VAT</span></span></button></div><ul class=\"nav top-menu text-lowercase d-none d-lg-flex\"><li class=\"nav-item\"><a class=\"nav-link text-brown-grey\" href=\"/contact\">Contacts</a></li><li class=\"nav-item\"><a class=\"nav-link text-brown-grey\" href=\"/payment\">Payment</a></li><li class=\"nav-item\"><a class=\"nav-link text-brown-grey\" href=\"/delivery\">Delivery</a></li><li class=\"nav-item\"><a class=\"nav-link text-brown-grey\" href=\"/warranty\">Warranty and Returns</a></li></ul><div class=\"d-flex ms-auto justify-content-center align-items-center d-lg-none\"><div class=\"fresnel-container fresnel-lessThan-md\"><div class=\"d-block\"><button class=\"btn iconic text-lowercase d-flex justify-content-center align-items-center not-auth\" data-cy=\"account_button_mobile\"><img alt=\"Profile\" class=\"ico-image me-2\" height=\"20\" src=\"/static/media/profile_ico.6d17f0e5.svg\" width=\"21\"/><span class=\"iconic\">Account</span></button></div></div><button class=\"btn d-flex justify-content-center align-items-center menu\" type=\"button\"><img alt=\"Menu\" class=\"ico-image menu\" height=\"14\" src=\"/static/media/menu_ico.33f79a4f.svg\" width=\"18\"/></button></div></div><div class=\"header-bottom-bar position-relative\"><div class=\"input-group header-group\"><button class=\"btn d-flex justify-content-center align-items-center header-catalogue-btn\" data-cy=\"open_catalog\" id=\"catalogue-button\" type=\"button\"><img alt=\"Catalogue\" class=\"ico-image catalogue_ico\" height=\"20\" src=\"/static/media/catalogue_ico.035e0834.svg\" width=\"18\"/><span class=\"d-none d-md-inline d-lg-none text-lowercase\">Catalogue</span> <!-- --> <span class=\"d-none d-lg-inline text-lowercase\">Product Catalogue</span></button><div class=\"header-search-bar\"><span class=\"input-group-text background-white border-none pointer\"><img alt=\"Search\" class=\"ico-image\" height=\"20\" src=\"/static/media/search_ico.580c27ed.svg\" width=\"21\"/></span><input autocomplete=\"off\" class=\"border-none\" data-cy=\"search_form_field\" placeholder=\"I want to buy\" type=\"text\"/></div><div class=\"fresnel-container fresnel-greaterThanOrEqual-md\"><div class=\"d-none d-lg-flex background-white\"><div class=\"d-block\"><button class=\"btn iconic text-lowercase d-flex justify-content-center align-items-center not-auth\" data-cy=\"account_button\"><img alt=\"Profile\" class=\"ico-image me-2\" height=\"20\" src=\"/static/media/profile_ico.6d17f0e5.svg\" width=\"21\"/><span class=\"iconic\">Account</span></button></div></div></div><div class=\"input-group-append d-none d-lg-flex background-white\"></div><a class=\"btn background-purplish-blue text-lowercase text-white position-relative d-flex justify-content-center align-items-center header-cart-btn\" href=\"/cart\" id=\"cart-link\"><img alt=\"Cart\" class=\"ico-image me-lg-2\" height=\"20\" src=\"/static/media/basket_ico.acba173c.svg\" width=\"23\"/><span class=\"d-none d-lg-inline\">Cart</span></a></div></div></header></div><main><div class=\"w-100\"><div class=\"arrow-navbar-wrapper\"><div class=\"arrow-navbar-container background-grey arrow-grey arrow-up\"><div class=\"popover-arrow arrow-grey arrow-up\"></div><div class=\"fresnel-container fresnel-lessThan-md\"><div class=\"own-swiper breadcrumbs-container\"><div class=\"own-swiper-wrap\"><div class=\"own-swiper-body breadcrumbs-wrapper\"><div class=\"breadcrumbs-item own-swiper-slide\"><a href=\"/shop/ubiquiti\">Ubiquiti</a><div class=\"breadcrumbs-delimiter\"></div></div><div class=\"breadcrumbs-item own-swiper-slide\"><a href=\"/shop/ubiquiti-outdoor-wireless\">Outdoor Wireless</a><div class=\"breadcrumbs-delimiter\"></div></div><div class=\"breadcrumbs-item own-swiper-slide\"><a href=\"/shop/airfiber\">AirFiber</a></div></div></div></div></div><div class=\"fresnel-container fresnel-greaterThanOrEqual-md\"><div class=\"breadcrumbs-container\"><div class=\"breadcrumbs-wrapper\"><div class=\"breadcrumbs-item\"><a href=\"/shop/ubiquiti\">Ubiquiti</a><div class=\"breadcrumbs-delimiter\"></div></div><div class=\"breadcrumbs-item\"><a href=\"/shop/ubiquiti-outdoor-wireless\">Outdoor Wireless</a><div class=\"breadcrumbs-delimiter\"></div></div><div class=\"breadcrumbs-item\"><a href=\"/shop/airfiber\">AirFiber</a></div></div></div></div></div></div><div class=\"content pl-main pr-main product-page main-content-container\" itemscope=\"\" itemtype=\"https://schema.org/Product\"><meta content=\"airfiber-11\" itemprop=\"productID\"/><meta content=\"Ubiquiti AirFiber 11 (no duplexers) (AF-11)\" itemprop=\"name\"/><meta content=\"/images/catalogue/2604/af11_front_angle-602fa66e14105-medium.jpg\" itemprop=\"image\"/><div itemprop=\"brand\" itemscope=\"\" itemtype=\"https://schema.org/Brand\"><meta content=\"Ubiquiti\" itemprop=\"name\"/></div><div style=\"display:contents\"><h1 class=\"product-heading text-center page-heading w-100\">AirFiber 11 (no duplexers)</h1></div><div class=\"product-page-row position-relative\"><div class=\"product-left\"><div class=\"fresnel-container fresnel-greaterThanOrEqual-md\"></div><div class=\"images-carousel\"><div class=\"images-carousel__inner\"><div class=\"fresnel-container fresnel-greaterThanOrEqual-md\"></div><div class=\"own-swiper\"><div class=\"own-swiper-wrap\"><div class=\"own-swiper-body\"><div class=\"image-container own-swiper-slide\"><div class=\"image-wrapper\"><div class=\"fresnel-container fresnel-lessThan-md\"></div><img alt=\"AirFiber 11 (no duplexers)\" height=\"450\" src=\"/images/catalogue/2604/af11_front_angle-602fa66e14105-medium.jpg\" width=\"450\"/></div></div><div class=\"image-container own-swiper-slide\"><div class=\"image-wrapper\"><div class=\"fresnel-container fresnel-lessThan-md\"></div><img alt=\"AirFiber 11 (no duplexers)\" height=\"450\" src=\"/images/catalogue/2604/af11_front-602fa66ae6217-medium.jpg\" width=\"450\"/></div></div><div class=\"image-container own-swiper-slide\"><div class=\"image-wrapper\"><div class=\"fresnel-container fresnel-lessThan-md\"></div><div class=\"lazy-img\" data-alt=\"AirFiber 11 (no duplexers)\" data-height=\"450\" data-src=\"/images/catalogue/2604/af11_back_angle-602fa66d4cdf8-medium.jpg\" data-width=\"450\" style=\"width:450px;height:450px\"></div></div></div><div class=\"image-container own-swiper-slide\"><div class=\"image-wrapper\"><div class=\"fresnel-container fresnel-lessThan-md\"></div><div class=\"lazy-img\" data-alt=\"AirFiber 11 (no duplexers)\" data-height=\"450\" data-src=\"/images/catalogue/2604/af11_back-602fa66c87ca7-medium.jpg\" data-width=\"450\" style=\"width:450px;height:450px\"></div></div></div><div class=\"image-container own-swiper-slide\"><div class=\"image-wrapper\"><div class=\"fresnel-container fresnel-lessThan-md\"></div><div class=\"lazy-img\" data-alt=\"AirFiber 11 (no duplexers)\" data-height=\"450\" data-src=\"/images/catalogue/2604/af11_side-602fa66961dfb-medium.jpg\" data-width=\"450\" style=\"width:450px;height:450px\"></div></div></div><div class=\"image-container own-swiper-slide\"><div class=\"image-wrapper\"><div class=\"fresnel-container fresnel-lessThan-md\"></div><div class=\"lazy-img\" data-alt=\"AirFiber 11 (no duplexers)\" data-height=\"450\" data-src=\"/images/catalogue/2604/af11_chip-602fa66bb203d-medium.jpg\" data-width=\"450\" style=\"width:450px;height:450px\"></div></div></div><div class=\"image-container own-swiper-slide\"><div class=\"image-wrapper\"><div class=\"fresnel-container fresnel-lessThan-md\"></div><div class=\"lazy-img\" data-alt=\"AirFiber 11 (no duplexers)\" data-height=\"450\" data-src=\"/images/catalogue/2604/af11_ports-602fa66a25e67-medium.jpg\" data-width=\"450\" style=\"width:450px;height:450px\"></div></div></div><div class=\"image-container own-swiper-slide\"><div class=\"image-wrapper\"><div class=\"fresnel-container fresnel-lessThan-md\"></div><div class=\"lazy-img\" data-alt=\"AirFiber 11 (no duplexers)\" data-height=\"450\" data-src=\"/images/catalogue/2604/af11_top-602fa668a1aba-medium.jpg\" data-width=\"450\" style=\"width:450px;height:450px\"></div></div></div></div></div></div><div class=\"fresnel-container fresnel-greaterThanOrEqual-md\"><div class=\"thumbnail-navigation d-flex justify-content-center align-items-center\"><button aria-label=\"\" class=\"nav-button d-block nav-prev\" disabled=\"\" type=\"button\"><img alt=\"Up\" height=\"18\" src=\"/static/media/next_ico.05061dd3.svg\" width=\"10\"/></button><div class=\"thumbnail-bar overflow-hidden\" style=\"width:301px\"><div class=\"thumbs-wrapper d-flex align-items-center justify-content-start\"><div class=\"thumb-container d-flex justify-content-center align-items-center flex-nowrap current\" style=\"min-width:100px;max-width:100px\"><img alt=\"AirFiber 11 (no duplexers)\" height=\"80\" src=\"/images/catalogue/2604/af11_front_angle-602fa66e14105-tiny.jpg\" width=\"80\"/></div><div class=\"thumb-container d-flex justify-content-center align-items-center flex-nowrap\" style=\"min-width:100px;max-width:100px\"><img alt=\"AirFiber 11 (no duplexers)\" height=\"80\" src=\"/images/catalogue/2604/af11_front-602fa66ae6217-tiny.jpg\" width=\"80\"/></div><div class=\"thumb-container d-flex justify-content-center align-items-center flex-nowrap\" style=\"min-width:100px;max-width:100px\"><img alt=\"AirFiber 11 (no duplexers)\" height=\"80\" src=\"/images/catalogue/2604/af11_back_angle-602fa66d4cdf8-tiny.jpg\" width=\"80\"/></div><div class=\"thumb-container d-flex justify-content-center align-items-center flex-nowrap\" style=\"min-width:100px;max-width:100px\"><img alt=\"AirFiber 11 (no duplexers)\" height=\"80\" src=\"/images/catalogue/2604/af11_back-602fa66c87ca7-tiny.jpg\" width=\"80\"/></div><div class=\"thumb-container d-flex justify-content-center align-items-center flex-nowrap\" style=\"min-width:100px;max-width:100px\"><img alt=\"AirFiber 11 (no duplexers)\" height=\"80\" src=\"/images/catalogue/2604/af11_side-602fa66961dfb-tiny.jpg\" width=\"80\"/></div><div class=\"thumb-container d-flex justify-content-center align-items-center flex-nowrap\" style=\"min-width:100px;max-width:100px\"><img alt=\"AirFiber 11 (no duplexers)\" height=\"80\" src=\"/images/catalogue/2604/af11_chip-602fa66bb203d-tiny.jpg\" width=\"80\"/></div><div class=\"thumb-container d-flex justify-content-center align-items-center flex-nowrap\" style=\"min-width:100px;max-width:100px\"><img alt=\"AirFiber 11 (no duplexers)\" height=\"80\" src=\"/images/catalogue/2604/af11_ports-602fa66a25e67-tiny.jpg\" width=\"80\"/></div><div class=\"thumb-container d-flex justify-content-center align-items-center flex-nowrap\" style=\"min-width:100px;max-width:100px\"><img alt=\"AirFiber 11 (no duplexers)\" height=\"80\" src=\"/images/catalogue/2604/af11_top-602fa668a1aba-tiny.jpg\" width=\"80\"/></div></div></div><button aria-label=\"\" class=\"nav-button d-block nav-next\" type=\"button\"><img alt=\"Down\" height=\"18\" src=\"/static/media/next_ico.05061dd3.svg\" width=\"10\"/></button></div></div></div></div><div class=\"fresnel-container fresnel-greaterThanOrEqual-md\"><div style=\"display:contents\"></div></div></div><div style=\"display:contents\"><div class=\"product-short-description background-white border-radius position-relative\"><div class=\"product-short-description-heading\"></div><section class=\"product-page-section\"><h2 class=\"product-page-section-header\">Short description</h2><div class=\"product-page-section-content\"><p itemprop=\"description\">Full duplex Point-to-Point radio 11 GHz, up to 1.2+ Gbps throughput, max. range 300+ km, INVICTUS™ processor, integrates with airFiber® 11 GHz antennas.</p></div><div class=\"delimiter\"></div><div class=\"product-page-section-content\"><div class=\"section-cells-wrapper\"><div class=\"section-cell product-brand order-1\"><div class=\"cell-heading\"><h3>Brand</h3></div><div class=\"cell-content flex-wrap\"><div class=\"cell-content-value\">Ubiquiti</div></div></div><div class=\"section-cell product-model order-2 order-md-3\"><div class=\"cell-heading\"><h4>Manufacturer part number</h4></div><div class=\"cell-content\"><div class=\"cell-content-value\">AF-11</div></div><meta content=\"AF-11\" itemprop=\"mpn\"/></div><div class=\"section-cell product-warranty order-3 order-md-2\"><div class=\"cell-heading\"><h4>Warranty<div class=\"tooltip-heading\"><div class=\"d-inline-block vat-hint\"><div class=\"question-mark\"><span>?</span></div></div></div></h4></div><div class=\"cell-content flex-wrap\"><div class=\"cell-content-value\">12 months</div></div></div><div class=\"section-cell product-ean order-4\"><div class=\"cell-heading\"><h4>EAN</h4></div><div class=\"cell-content\"><div class=\"cell-content-value\">0810010071613</div></div><meta content=\"0810010071613\" itemprop=\"sku\"/></div><div class=\"section-cell order-5 availability\"><div class=\"cell-content\"><div class=\"section-cell product-plug order-5\"><div class=\"cell-heading\"><h4 class=\"text-capitalize\"> <!-- -->plug</h4></div><div class=\"cell-content\"><div class=\"fresnel-container fresnel-lessThan-md\"><div class=\"dropdown-wrapper small\"><select class=\"form-control dropdown-select\"><option disabled=\"\" hidden=\"\"></option><option class=\"dropdown-item\" selected=\"\" value=\"cfbb89b0-7217-11eb-ed9f-fa163e4a2e20\">EU</option><option class=\"dropdown-item\" value=\"04c18a84-24f5-4fc9-8803-29895be27fbe\">UK</option><option class=\"dropdown-item\" value=\"5ba624c6-be84-454b-b0a8-a7a3d0164e7f\">US</option></select></div></div><div class=\"fresnel-container fresnel-greaterThanOrEqual-md\"><div class=\"plugs-list\" id=\"plugs-list\" tabindex=\"0\"><div class=\"dropdown-wrapper\"><div class=\"input-group\"><input aria-label=\"plug\" autocomplete=\"new-password\" class=\"form-control dropdown-input dropdown-main-input\" data-cy=\"dropdown_lg\" tabindex=\"-1\" type=\"text\" value=\"EU\"/><div class=\"\"><button class=\"dropdown-button\" tabindex=\"-1\"><span class=\"input-group-text dropdown-span\"><img alt=\"Dropdown\" class=\"dropdown-image\" src=\"/static/media/dropd_ico.49094bde.svg\"/></span></button></div></div></div></div></div></div></div><div class=\"section-cell stock-availability order-5\"><div class=\"cell-heading\"><h4>Stock availability</h4></div><div class=\"cell-content flex-wrap\"><div class=\"cell-content-value\"><div class=\"wholesales-prices-list product-cell-arrivals\"><div class=\"wholesales-prices-list-item product-cell-arrivals\"><div class=\"wholesales-prices-from\"><span class=\"\">4 pcs</span><span> </span></div><div class=\"wholesales-prices-price text-nowrap\">in stock</div></div></div><div class=\"wholesales-prices-list d-flex align-items-center flex-row product-cell-arrivals\"><div></div><div class=\"d-inline-block d-block vat-hint\"><div class=\"question-mark\"><span>?</span></div></div></div></div></div></div><div class=\"section-cell notify-container order-last align-left\"><div class=\"cell-content flex-wrap\"><div class=\"cell-content-value\"></div></div></div></div></div></div><div class=\"product-prices\" itemprop=\"offers\" itemscope=\"\" itemtype=\"https://schema.org/Offer\"><div class=\"product-prices-quantity\"><div class=\"btn-compare-wrapper\"><button class=\"btn btn-compare add-to-compare large\" data-attr=\"compare\" data-cy=\"compare_button\" title=\"add to comparison list\"><span class=\"compare-ico\" data-attr=\"compare\"></span></button><span class=\"title\" data-attr=\"compare\">Compare</span></div><div class=\"product-prices-button-wrapper\"><div class=\"counter\"><button aria-label=\"minus\" class=\"counter-button minus\" data-cy=\"product_count_minus\"><span class=\"counter-span\"></span></button><input aria-label=\"1 pc\" class=\"counter-input\" type=\"number\" value=\"1\"/><button aria-label=\"plus\" class=\"counter-button plus\" data-cy=\"product_count_plus\"><span class=\"counter-span\"></span></button></div><div class=\"with-popover\"><button class=\"btn simple-btn hovered wholesales-prices\" id=\"togglePrice\">wholesale prices</button></div></div></div><div class=\"product-prices-price\"><meta content=\"https://www.getic.com/product/airfiber-11\" itemprop=\"url\"/><meta content=\"http://purl.org/goodrelations/v1#VISA\" itemprop=\"acceptedPaymentMethod\"/><meta content=\"http://purl.org/goodrelations/v1#MasterCard\" itemprop=\"acceptedPaymentMethod\"/><meta content=\"http://purl.org/goodrelations/v1#PayPal\" itemprop=\"acceptedPaymentMethod\"/><meta content=\"http://purl.org/goodrelations/v1#ByBankTransferInAdvance\" itemprop=\"acceptedPaymentMethod\"/><meta content=\"911.94\" itemprop=\"price\"/><meta content=\"USD\" itemprop=\"priceCurrency\"/><meta content=\"2023-11-23\" itemprop=\"priceValidUntil\"/><link href=\"https://schema.org/InStock\" itemprop=\"availability\"/><meta content=\"http://schema.org/NewCondition\" itemprop=\"itemCondition\"/><div class=\"prices-container\"><div class=\"product-price-container\"><span class=\"product-price-wrapper\"><span><span class=\"product-price-currency\">$</span><span> </span></span><span class=\"product-price-value\">911.94</span></span></div></div><button class=\"ico-button btn text-white background-purplish-blue icon-right\" data-cy=\"add_to_cart\"><img alt=\"Cart\" height=\"20\" src=\"/static/media/basket_ico.acba173c.svg\" width=\"23\"/><span>to cart</span></button></div></div><div class=\"product-delivery border-radius w-loader\"><div class=\"loader\"><div class=\"dot-flashing\"></div></div></div></div></section></div></div><div style=\"width:100%\"><div class=\"fresnel-container fresnel-lessThan-md\"><div style=\"display:contents\"></div></div><div style=\"display:contents\"></div></div><div class=\"clearfix\"></div></div><div style=\"display:contents\"></div><div style=\"display:contents\"><div class=\"product-description pr-main pl-main\"><h2 class=\"product-detailed-heading text-center page-heading w-100\">Detailed description</h2><div class=\"content-collapse\"><div aria-hidden=\"false\" class=\"ReactCollapse--collapse\" style=\"height:auto;overflow:initial\"><div class=\"ReactCollapse--content\"><div class=\"content-collapse-container w-100\"><button aria-label=\"Hide\" class=\"nav-button nav-up float-end clearfix\" type=\"button\"><span class=\"up-span\"></span></button><div class=\"content-collapse-content\"><div class=\"description-block clearfix\"><div class=\"description-block-content text-style-normal text-align-justify text-color-charcoal\">Breaking free from the congested 5 GHz band, airFiber® 11 is the first modular airFiber radio system purpose-built for the 11 GHz licensed frequency market. Housed in a compact, highly efficient form factor, airFiber 11 delivers amazing wireless gigabit+ performance, low latency, and long range, making it ideal for carrier backhaul, building-to-building enterprise use, or public safety applications.</div></div><div class=\"description-block clearfix p-0\"><h2 class=\"description-block-title text-align-center text-style-normal text-color-charcoal\">Power Source Options</h2></div><div class=\"description-block clearfix\"><div class=\"description-block-content text-style-normal text-align-justify text-color-charcoal media-content media-align-left\"><span class=\"description-block-image img-fluid media-align-left\" style=\"display:inline-block\"></span><div class=\"media-content-description\"><div class=\"media-content-description--text\">Support for PoE or DC power gives you the flexibility to power the AF-11 separately from Ethernet traffic.</div></div></div></div><div class=\"description-block clearfix p-0\"><h2 class=\"description-block-title text-align-center text-style-normal text-color-charcoal\">Reversible Duplexers</h2></div><div class=\"description-block clearfix\"><div class=\"description-block-content text-style-normal text-align-justify text-color-charcoal media-content media-align-right\"><span class=\"description-block-image img-fluid media-align-right\" style=\"display:inline-block\"></span><div class=\"media-content-description\"><div class=\"media-content-description--text\">Each duplexer has a low channel and a high channel that can be configured by simply reversing the position of the duplexer.</div></div></div></div><div class=\"description-block clearfix p-0\"><h2 class=\"description-block-title text-align-center text-style-normal text-color-charcoal\">Advanced Engineering</h2></div><div class=\"description-block clearfix\"><div class=\"description-block-content text-style-normal text-align-justify text-color-charcoal media-content media-align-left\"><span class=\"description-block-image img-fluid media-align-left\" style=\"display:inline-block\"></span><div class=\"media-content-description\"><div class=\"media-content-description--text\">Ubiquiti’s INVICTUS™ 2 custom silicon and proprietary radio architecture are designed specifically for long-distance, outdoor wireless applications, providing superior performance, long-range capability, and higher delivered throughput.</div></div></div></div><div class=\"description-block clearfix p-0\"><h2 class=\"description-block-title text-align-center text-style-normal text-color-charcoal\">Channel Configuration</h2></div><div class=\"description-block clearfix\"><div class=\"description-block-content text-style-normal text-align-justify text-color-charcoal\">The airFiber AF-11 can use single (SISO) or bonded (MIMO) channels, depending on your specific licensing requirements. The AF-11 also features different channel widths to suit your deployment needs, and you can independently configure TX and RX channel frequencies</div></div><div class=\"description-block clearfix\"><div class=\"description-block-content text-style-normal text-align-justify text-color-charcoal media-only\"><span class=\"description-block-image img-fluid\" style=\"display:inline-block\"></span></div></div><div class=\"description-block clearfix p-0\"><h2 class=\"description-block-title text-align-center text-style-normal text-color-charcoal\">Compare with similar products</h2><div class=\"description-block clearfix comparison-container\"><div class=\"fresnel-container fresnel-lessThan-md\"><table class=\"comparison-product-table compact\"><thead><tr><th class=\"parameter-name\" scope=\"col\"> </th><th scope=\"col\"><div class=\"product-header\"><a aria-label=\"AirFiber 11 (no duplexers)\" href=\"/product/airfiber-11\"><span class=\"comparison-block-image img-fluid\" style=\"display:inline-block\"></span></a><a class=\"product-title\" href=\"/product/airfiber-11\">AirFiber 11 (no duplexers)</a></div></th><th scope=\"col\"><div class=\"product-header\"><a aria-label=\"AirFiber 11FX (no duplexers)\" href=\"/product/airfiber-11fx\"><span class=\"comparison-block-image img-fluid\" style=\"display:inline-block\"></span></a><a class=\"product-title\" href=\"/product/airfiber-11fx\">AirFiber 11FX (no duplexers)</a></div></th></tr></thead><tbody><tr class=\"with-delimiter\"><td class=\"parameter-name\" colspan=\"2\">11GHz Radio Rate</td><td class=\"empty\" colspan=\"0\"></td></tr><tr class=\"with-delimiter\"><td colspan=\"1\"><div class=\"delimiter\"></div></td><td class=\"line-delimiter\" colspan=\"1\"></td></tr><tr><td class=\"parameter-value with-border\">1.2Gbps<div class=\"d-none\"><span class=\"d-none\"></span></div></td><td class=\"parameter-value with-border\"><div class=\"check no\"><span class=\"no-icon\"></span></div></td></tr><tr class=\"with-delimiter\"><td class=\"parameter-name\" colspan=\"2\">5GHz Radio Rate</td><td class=\"empty\" colspan=\"0\"></td></tr><tr class=\"with-delimiter\"><td colspan=\"1\"><div class=\"delimiter\"></div></td><td class=\"line-delimiter\" colspan=\"1\"></td></tr><tr><td class=\"parameter-value with-border\"><div class=\"check no\"><span class=\"no-icon\"></span></div></td><td class=\"parameter-value with-border\">1.2 Gbps<div class=\"d-none\"><span class=\"d-none\"></span></div></td></tr><tr class=\"with-delimiter\"><td class=\"parameter-name\" colspan=\"2\">Antenna range </td><td class=\"empty\" colspan=\"0\"></td></tr><tr class=\"with-delimiter\"><td colspan=\"1\"><div class=\"delimiter\"></div></td><td class=\"line-delimiter\" colspan=\"1\"></td></tr><tr><td class=\"parameter-value with-border\">300 km<div class=\"d-none\"><span class=\"d-none\"></span></div></td><td class=\"parameter-value with-border\">300 km<div class=\"d-none\"><span class=\"d-none\"></span></div></td></tr><tr class=\"with-delimiter\"><td class=\"parameter-name\" colspan=\"2\">RF Connectors</td><td class=\"empty\" colspan=\"0\"></td></tr><tr class=\"with-delimiter\"><td colspan=\"1\"><div class=\"delimiter\"></div></td><td class=\"line-delimiter\" colspan=\"1\"></td></tr><tr><td class=\"parameter-value with-border\"> 4 x SMA Female<div class=\"d-none\"><span class=\"d-none\"></span></div></td><td class=\"parameter-value with-border\"> 4 x SMA Female<div class=\"d-none\"><span class=\"d-none\"></span></div></td></tr><tr class=\"with-delimiter\"><td class=\"parameter-name\" colspan=\"2\">Ethernet Ports</td><td class=\"empty\" colspan=\"0\"></td></tr><tr class=\"with-delimiter\"><td colspan=\"1\"><div class=\"delimiter\"></div></td><td class=\"line-delimiter\" colspan=\"1\"></td></tr><tr><td class=\"parameter-value with-border\"> 1 x 100 Mbps,  1 x 1 Gbps<div class=\"d-none\"><span class=\"d-none\"></span></div></td><td class=\"parameter-value with-border\"> 1 x 100 Mbps,  1 x 1 Gbps<div class=\"d-none\"><span class=\"d-none\"></span></div></td></tr><tr class=\"with-delimiter\"><td class=\"parameter-name\" colspan=\"2\">Chipset</td><td class=\"empty\" colspan=\"0\"></td></tr><tr class=\"with-delimiter\"><td colspan=\"1\"><div class=\"delimiter\"></div></td><td class=\"line-delimiter\" colspan=\"1\"></td></tr><tr><td class=\"parameter-value with-border\">INVICTUS 2 IC<div class=\"d-none\"><span class=\"d-none\"></span></div></td><td class=\"parameter-value with-border\">INVICTUS 2 IC<div class=\"d-none\"><span class=\"d-none\"></span></div></td></tr><tr class=\"with-delimiter\"><td class=\"parameter-name\" colspan=\"2\">Max Power Consumption</td><td class=\"empty\" colspan=\"0\"></td></tr><tr class=\"with-delimiter\"><td colspan=\"1\"><div class=\"delimiter\"></div></td><td class=\"line-delimiter\" colspan=\"1\"></td></tr><tr><td class=\"parameter-value with-border\"> 36 W<div class=\"d-none\"><span class=\"d-none\"></span></div></td><td class=\"parameter-value with-border\"> 36 W<div class=\"d-none\"><span class=\"d-none\"></span></div></td></tr></tbody></table></div><div class=\"fresnel-container fresnel-greaterThanOrEqual-md\"><table class=\"comparison-product-table\"><thead><tr><th class=\"parameter-name\" scope=\"col\"> </th><th scope=\"col\"><div class=\"product-header\"><a aria-label=\"AirFiber 11 (no duplexers)\" href=\"/product/airfiber-11\"><span class=\"comparison-block-image img-fluid\" style=\"display:inline-block\"></span></a><a class=\"product-title\" href=\"/product/airfiber-11\">AirFiber 11 (no duplexers)</a></div></th><th scope=\"col\"><div class=\"product-header\"><a aria-label=\"AirFiber 11FX (no duplexers)\" href=\"/product/airfiber-11fx\"><span class=\"comparison-block-image img-fluid\" style=\"display:inline-block\"></span></a><a class=\"product-title\" href=\"/product/airfiber-11fx\">AirFiber 11FX (no duplexers)</a></div></th></tr></thead><tbody><tr><td class=\"parameter-name\">11GHz Radio Rate</td><td class=\"parameter-value with-border\">1.2Gbps<div class=\"d-none\"><span class=\"d-none\"></span></div></td><td class=\"parameter-value with-border\"><div class=\"check no\"><span class=\"no-icon\"></span></div></td></tr><tr><td class=\"parameter-name\">5GHz Radio Rate</td><td class=\"parameter-value with-border\"><div class=\"check no\"><span class=\"no-icon\"></span></div></td><td class=\"parameter-value with-border\">1.2 Gbps<div class=\"d-none\"><span class=\"d-none\"></span></div></td></tr><tr><td class=\"parameter-name\">Antenna range </td><td class=\"parameter-value with-border\">300 km<div class=\"d-none\"><span class=\"d-none\"></span></div></td><td class=\"parameter-value with-border\">300 km<div class=\"d-none\"><span class=\"d-none\"></span></div></td></tr><tr><td class=\"parameter-name\">RF Connectors</td><td class=\"parameter-value with-border\"> 4 x SMA Female<div class=\"d-none\"><span class=\"d-none\"></span></div></td><td class=\"parameter-value with-border\"> 4 x SMA Female<div class=\"d-none\"><span class=\"d-none\"></span></div></td></tr><tr><td class=\"parameter-name\">Ethernet Ports</td><td class=\"parameter-value with-border\"> 1 x 100 Mbps,  1 x 1 Gbps<div class=\"d-none\"><span class=\"d-none\"></span></div></td><td class=\"parameter-value with-border\"> 1 x 100 Mbps,  1 x 1 Gbps<div class=\"d-none\"><span class=\"d-none\"></span></div></td></tr><tr><td class=\"parameter-name\">Chipset</td><td class=\"parameter-value with-border\">INVICTUS 2 IC<div class=\"d-none\"><span class=\"d-none\"></span></div></td><td class=\"parameter-value with-border\">INVICTUS 2 IC<div class=\"d-none\"><span class=\"d-none\"></span></div></td></tr><tr><td class=\"parameter-name\">Max Power Consumption</td><td class=\"parameter-value with-border\"> 36 W<div class=\"d-none\"><span class=\"d-none\"></span></div></td><td class=\"parameter-value with-border\"> 36 W<div class=\"d-none\"><span class=\"d-none\"></span></div></td></tr></tbody></table></div></div></div><div class=\"description-block clearfix\"><h2 class=\"description-block-title text-charcoal\">Technical Specs / Datasheet</h2><div class=\"product-materials\"><a class=\"product-materials-item\" href=\"/files/catalogue/2604/af-11_ds.pdf\" rel=\"noopener noreferrer\" target=\"_blank\"><div class=\"product-materials-item-name\">Technical Specs / Datasheet - AirFiber 11 (no duplexers)</div><div class=\"product-materials-item-arrow\"></div></a><a class=\"product-materials-item\" href=\"https://dl.ubnt.com/qsg/AF-11/AF-11_EN.html\" rel=\"noopener noreferrer\" target=\"_blank\"><div class=\"product-materials-item-name\">Quick Start Guide - AirFiber 11 (no duplexers)</div><div class=\"product-materials-item-arrow\"></div></a></div></div></div></div></div></div></div></div></div><div style=\"display:contents\"><div class=\"loader\"><div class=\"dot-flashing\"></div></div></div><div style=\"display:contents\"><div class=\"loader\"><div class=\"dot-flashing\"></div></div></div><div style=\"display:contents\"><div class=\"product-comments-container pl-main pr-main\" id=\"comments\"><h2 class=\"product-detailed-heading text-center page-heading w-100\">Reviews and ratings</h2><div class=\"content-collapse\"><div aria-hidden=\"false\" class=\"ReactCollapse--collapse\" style=\"height:auto;overflow:initial\"><div class=\"ReactCollapse--content\"><div class=\"content-collapse-container w-100\"><button aria-label=\"Hide\" class=\"nav-button nav-up float-end clearfix\" type=\"button\"><span class=\"up-span\"></span></button><div class=\"content-collapse-content\"><div class=\"product-comments-heading\"><h4 class=\"product-comments-title\">Product rating</h4><button class=\"btn link-button large\" type=\"button\"><span>write comment, rate</span></button></div></div></div></div></div></div></div></div></div><div style=\"display:contents\"></div><div class=\"content pl-main pr-main product-page\"><div style=\"display:contents\"><h2 class=\"product-detailed-heading text-center page-heading w-100\">Often purchased together</h2><div class=\"product-list main-content-container\"><div class=\"product-card-wrapper\"><div class=\"product-card product-bought-together\" data-cy=\"product-card\"><div class=\"product-card-image\"><a aria-label=\"Rocket AC Prism Gen2\" href=\"/product/rocket-ac-prism-gen2\"><span class=\"\" style=\"display:inline-block;width:244px;height:244px\"></span></a></div><div class=\"product-card-content\"><h3 class=\"product-card-header\"><a aria-label=\"Rocket AC Prism Gen2\" href=\"/product/rocket-ac-prism-gen2\">Rocket AC Prism Gen2</a></h3><div class=\"product-card-info-row justify-content-start\"><div class=\"product-card-review\"></div><div class=\"product-card-mpn\">RP-5AC-Gen2</div></div></div><div class=\"stock-amount\"><span class=\"stock\">128 pcs in stock</span></div><div class=\"product-card-footer\"><div class=\"fresnel-container fresnel-lessThan-md\"><div class=\"btn-compare-wrapper\"><button class=\"btn btn-compare add-to-compare\" data-attr=\"compare\" data-cy=\"compare_button\" title=\"add to comparison list\"></button></div></div><div class=\"price-cart-wrapper\"><div class=\"product-price-container\"><span class=\"product-price-wrapper\"><span><span class=\"product-price-currency\">$</span><span> </span></span><span class=\"product-price-value\">204.27</span></span></div><button aria-label=\"add_to_cart\" class=\"btn background-purplish-blue add-to-cart\" data-cy=\"add_to_cart\"><img alt=\"Cart\" class=\"ico-image\" height=\"20\" src=\"/static/media/basket_ico.acba173c.svg\" width=\"23\"/></button></div></div></div></div><div class=\"product-card-wrapper\"><div class=\"product-card product-bought-together\" data-cy=\"product-card\"><div class=\"product-card-image\"><a aria-label=\"AirFiber 11 High Band Duplexer\" href=\"/product/airfiber-11-high-band-duplexer\"><span class=\"\" style=\"display:inline-block;width:244px;height:244px\"></span></a></div><div class=\"product-card-content\"><h3 class=\"product-card-header\"><a aria-label=\"AirFiber 11 High Band Duplexer\" href=\"/product/airfiber-11-high-band-duplexer\">AirFiber 11 High Band Duplexer</a></h3><div class=\"product-card-info-row justify-content-start\"><div class=\"product-card-review\"></div><div class=\"product-card-mpn\">AF-11-DUP-H</div></div></div><div class=\"stock-amount\"><span class=\"stock\">7 pcs in stock</span></div><div class=\"product-card-footer\"><div class=\"fresnel-container fresnel-lessThan-md\"><div class=\"btn-compare-wrapper\"><button class=\"btn btn-compare add-to-compare\" data-attr=\"compare\" data-cy=\"compare_button\" title=\"add to comparison list\"></button></div></div><div class=\"price-cart-wrapper\"><div class=\"product-price-container\"><span class=\"product-price-wrapper\"><span><span class=\"product-price-currency\">$</span><span> </span></span><span class=\"product-price-value\">170.60</span></span></div><button aria-label=\"add_to_cart\" class=\"btn background-purplish-blue add-to-cart\" data-cy=\"add_to_cart\"><img alt=\"Cart\" class=\"ico-image\" height=\"20\" src=\"/static/media/basket_ico.acba173c.svg\" width=\"23\"/></button></div></div></div></div><div class=\"product-card-wrapper\"><div class=\"product-card product-bought-together\" data-cy=\"product-card\"><div class=\"product-card-image\"><a aria-label=\"AirFiber 11 Low Band Duplexer\" href=\"/product/airfiber-11-low-band-duplexer\"><span class=\"\" style=\"display:inline-block;width:244px;height:244px\"></span></a></div><div class=\"product-card-content\"><h3 class=\"product-card-header\"><a aria-label=\"AirFiber 11 Low Band Duplexer\" href=\"/product/airfiber-11-low-band-duplexer\">AirFiber 11 Low Band Duplexer</a></h3><div class=\"product-card-info-row justify-content-start\"><div class=\"product-card-review\"></div><div class=\"product-card-mpn\">AF-11-DUP-L</div></div></div><div class=\"stock-amount\"><span class=\"stock\">13 pcs in stock</span></div><div class=\"product-card-footer\"><div class=\"fresnel-container fresnel-lessThan-md\"><div class=\"btn-compare-wrapper\"><button class=\"btn btn-compare add-to-compare\" data-attr=\"compare\" data-cy=\"compare_button\" title=\"add to comparison list\"></button></div></div><div class=\"price-cart-wrapper\"><div class=\"product-price-container\"><span class=\"product-price-wrapper\"><span><span class=\"product-price-currency\">$</span><span> </span></span><span class=\"product-price-value\">170.60</span></span></div><button aria-label=\"add_to_cart\" class=\"btn background-purplish-blue add-to-cart\" data-cy=\"add_to_cart\"><img alt=\"Cart\" class=\"ico-image\" height=\"20\" src=\"/static/media/basket_ico.acba173c.svg\" width=\"23\"/></button></div></div></div></div><div class=\"product-card-wrapper\"><div class=\"product-card product-bought-together\" data-cy=\"product-card\"><div class=\"product-card-image\"><a aria-label=\"AirFiber 5XHD\" href=\"/product/airfiber-5xhd\"><span class=\"\" style=\"display:inline-block;width:244px;height:244px\"></span></a></div><div class=\"product-card-content\"><h3 class=\"product-card-header\"><a aria-label=\"AirFiber 5XHD\" href=\"/product/airfiber-5xhd\">AirFiber 5XHD</a></h3><div class=\"product-card-info-row justify-content-start\"><div class=\"product-card-review\"></div><div class=\"product-card-mpn\">AF-5XHD</div></div></div><div class=\"stock-amount\"><span class=\"stock\">80 pcs in stock</span></div><div class=\"product-card-footer\"><div class=\"fresnel-container fresnel-lessThan-md\"><div class=\"btn-compare-wrapper\"><button class=\"btn btn-compare add-to-compare\" data-attr=\"compare\" data-cy=\"compare_button\" title=\"add to comparison list\"></button></div></div><div class=\"price-cart-wrapper\"><div class=\"product-price-container\"><span class=\"product-price-wrapper\"><span><span class=\"product-price-currency\">$</span><span> </span></span><span class=\"product-price-value\">370.38</span></span></div><button aria-label=\"add_to_cart\" class=\"btn background-purplish-blue add-to-cart\" data-cy=\"add_to_cart\"><img alt=\"Cart\" class=\"ico-image\" height=\"20\" src=\"/static/media/basket_ico.acba173c.svg\" width=\"23\"/></button></div></div></div></div></div><div class=\"clearfix\"></div></div></div></div><div class=\"content\"><div class=\"services-list d-flex justify-content-center flex-column flex-md-row align-items-center align-items-md-start\"><a href=\"/delivery\"><div class=\"service-card\"><span class=\"service-card-icon\" style=\"display:inline-block;width:89px;height:80px\"></span><div class=\"service-card-title\">Delivery</div><div class=\"service-card-content\"><p class=\"text-nowrap\"></p><p class=\"text-nowrap\">World wide delivery.</p><p class=\"text-nowrap\">1-2 day express options.</p><p class=\"text-nowrap\">Economy delivery via courier or post.</p><p class=\"\">Orders dispatched within 24 hours on business days.</p></div></div></a><a href=\"/payment\"><div class=\"service-card\"><span class=\"service-card-icon\" style=\"display:inline-block;width:96px;height:80px\"></span><div class=\"service-card-title\">Payment</div><div class=\"service-card-content\"><p class=\"text-nowrap\">Fast and secure payments via card or PayPal.</p><p class=\"text-nowrap\">Bank transfers in EUR, USD or GBP.</p><p></p><p>Special offers for wholesale requests.</p></div></div></a><a href=\"/warranty\"><div class=\"service-card\"><span class=\"service-card-icon\" style=\"display:inline-block;width:78px;height:80px\"></span><div class=\"service-card-title\">Warranty and Returns</div><div class=\"service-card-content\"><p>30 day withdrawal returns.</p><p>Online RMA status for warranty, replacements and repairs.</p><p>Extended warranty available.</p></div></div></a></div><div class=\"d-flex w-100 justify-content-center trust-widget\"></div></div></main><div style=\"display:contents\"><footer class=\"footer background-purplish-blue\"><div class=\"row main-content-container\"><div class=\"col-sm-12 d-md-none\"><div class=\"text-center mx-auto\"><div class=\"local-info-footer text-center d-inline-block\"><button class=\"btn site-settings-btn d-flex align-items-center border-none\"><img alt=\"Location\" class=\"pre-icon me-2\" height=\"23\" src=\"/static/media/pin_ico-butterscotch.69534ec2.svg\" width=\"19\"/><span class=\"site-settings-wrapper\" style=\"text-align:left\"><span class=\"country-name me-1\">United Arab Emirates<!-- -->,</span><span class=\"country-currency me-1\">$ (USD)<!-- -->,</span><span class=\"country-tax\">without VAT</span></span></button></div></div></div><div class=\"col-sm-12 col-md-7\"><div class=\"row\"><div class=\"col-6\"><div class=\"footer-list\"><h3 class=\"d-lg-none footer-list-header\">Catalogue</h3><h3 class=\"d-none d-lg-block footer-list-header\">Catalogue</h3><ul class=\"footer-list-items nav flex-column\"><li class=\"nav-item\"><a class=\"nav-link\" href=\"/shop/outdoor-wireless\">Outdoor Wireless</a></li><li class=\"nav-item\"><a class=\"nav-link\" href=\"/shop/home-office-networks\">Home and Office Networks</a></li><li class=\"nav-item\"><a class=\"nav-link\" href=\"/shop/lte-products\">LTE Products</a></li><li class=\"nav-item\"><a class=\"nav-link\" href=\"/shop/fiber-networks\">Fiber Networks</a></li><li class=\"nav-item\"><a class=\"nav-link\" href=\"/shop/security-systems\">Security Systems</a></li><li class=\"nav-item\"><a class=\"nav-link\" href=\"/shop/iot-products\">IoT Solutions</a></li><li class=\"nav-item\"><a class=\"nav-link\" href=\"/shop/fleet-management\">Fleet Management</a></li><li class=\"nav-item\"><a class=\"nav-link\" href=\"/shop/cables-and-cabinets\">Cables and Cabinets</a></li><li class=\"nav-item\"><a class=\"nav-link\" href=\"/shop/electrical-equipment\">Electrical Equipment</a></li><li class=\"nav-item\"><a class=\"nav-link\" href=\"/shop/mounts-and-brackets\">Mounts and Brackets</a></li><li class=\"nav-item\"><a class=\"nav-link\" href=\"/shop/gadgets\">Gadgets</a></li></ul></div></div><div class=\"col-6\"><div class=\"footer-list\"><h3 class=\"footer-list-header\">About</h3><ul class=\"footer-list-items nav flex-column\"><li class=\"nav-item\"><a class=\"nav-link\" href=\"/company\">Company</a></li><li class=\"nav-item\"><a class=\"nav-link\" href=\"/brand\">Brand</a></li><li class=\"nav-item\"><a class=\"nav-link\" href=\"https://starcoins.getic.com\" rel=\"noopener noreferrer\" target=\"_blank\">StarCoins</a></li><li class=\"nav-item\"><a class=\"nav-link\" href=\"/contact\">Contacts</a></li><li class=\"nav-item\"><a class=\"nav-link\" href=\"/terms\">Terms and Conditions</a></li><li class=\"nav-item\"><a class=\"nav-link\" href=\"/privacy\">Privacy Policy</a></li><li class=\"nav-item\"><a class=\"nav-link\" href=\"/cookies\">Cookie Policy</a></li></ul></div><div class=\"footer-list\"><h3 class=\"footer-list-header\">Help</h3><ul class=\"footer-list-items nav flex-column\"><li class=\"nav-item\"><a class=\"nav-link\" href=\"/payment\">Payment</a></li><li class=\"nav-item\"><a class=\"nav-link\" href=\"/delivery\">Delivery</a></li><li class=\"nav-item\"><a class=\"nav-link\" href=\"/warranty\">Warranty and Returns</a></li></ul></div></div></div></div><div class=\"col-sm-12 col-md-5\"><div class=\"text-end d-none d-md-block\"><div class=\"local-info-footer text-center d-inline-block\"><button class=\"btn site-settings-btn d-flex align-items-center border-none\"><img alt=\"Location\" class=\"pre-icon me-2\" height=\"23\" src=\"/static/media/pin_ico-butterscotch.69534ec2.svg\" width=\"19\"/><span class=\"site-settings-wrapper\" style=\"text-align:left\"><span class=\"country-name me-1\">United Arab Emirates<!-- -->,</span><span class=\"country-currency me-1\">$ (USD)<!-- -->,</span><span class=\"country-tax\">without VAT</span></span></button></div></div><div class=\"d-flex column flex-column-reverse flex-md-column\"><div class=\"footer-list text-center text-md-end\"><h3 class=\"footer-list-header\">Contacts</h3><ul class=\"nav flex-column footer-list-items\"><li class=\"nav-item\">Satiksmes str. 6, Liepaja</li><li class=\"nav-item\">LV3401, Latvia</li><li class=\"nav-item\" x-ms-format-detection=\"none\"><a class=\"nav-link d-inline-block\" href=\"tel:+371 60 000 888\">+371 60 000 888</a></li><li class=\"nav-item\"><span>(8:30AM-5:00PM GMT+3)</span></li><li class=\"nav-item\"><a class=\"nav-link\" href=\"mailto:info@getic.com\">info@getic.com</a></li></ul></div><div class=\"d-flex flex-column-reverse align-items-center justify-content-center align-items-md-end flex-lg-row justify-content-lg-end align-items-lg-center social-icons-wrapper\"><a class=\"google-review mb-sm-0\" href=\"https://www.google.com/search?q=getic+review#lrd=0x46faa61692344b27:0xf33e8397c52bd647,1\" rel=\"noopener noreferrer\" target=\"_blank\">Google Reviews</a><ul class=\"social-icons nav\"><li class=\"nav-item\"><a aria-label=\"facebook\" class=\"social-icon-item\" href=\"https://www.facebook.com/geticcom\" rel=\"noopener noreferrer\" target=\"_blank\"><div class=\"social-icon facebook\"></div></a></li><li class=\"nav-item\"><a aria-label=\"linkedin\" class=\"social-icon-item\" href=\"https://linkedin.com/company/geticcom\" rel=\"noopener noreferrer\" target=\"_blank\"><div class=\"social-icon linkedin\"></div></a></li><li class=\"nav-item\"><a aria-label=\"youtube\" class=\"social-icon-item\" href=\"https://www.youtube.com/c/geticcom\" rel=\"noopener noreferrer\" target=\"_blank\"><div class=\"social-icon youtube\"></div></a></li></ul></div></div></div></div><div class=\"row pt-md-3 pt-lg-5 main-content-container\"><div class=\"col-xs-12 col-md-5\"><div class=\"payment-options-list d-flex justify-content-center justify-content-md-start p-0 m-md-0\"><span class=\"payment-options-list-item\" style=\"display:inline-block;width:52px;height:41px\"></span><span class=\"payment-options-list-item\" style=\"display:inline-block;width:60px;height:41px\"></span><span class=\"payment-options-list-item\" style=\"display:inline-block;width:32px;height:41px\"></span><span class=\"payment-options-list-item\" style=\"display:inline-block;width:31px;height:41px\"></span></div></div><div class=\"col-xs-12 col-md-7\"><p class=\"copyright text-center text-md-end m-0\">© 2010-2023 <!-- -->Getic<!-- -->. <!-- -->All rights reserved.</p><p class=\"trademark text-center text-md-end m-0\">Getic<!-- --> <!-- -->Registered trademark<span class=\"text-nowrap\"> <!-- -->Getic SIA<!-- -->.</span></p></div></div></footer></div></div></div><button aria-label=\"go to top\" class=\"scroll-top-hidden\"><div class=\"scroll-top-image\"></div></button><div class=\"with-popover chat-placeholder-wrapper\"><button aria-label=\"Chat\" class=\"btn chat-placeholder-btn\"><div class=\"chat-icon\"></div></button></div></div>\n",
       "<script id=\"__LOADABLE_REQUIRED_CHUNKS__\" type=\"application/json\">[2775,3923,4174,4051,727,1040]</script><script id=\"__LOADABLE_REQUIRED_CHUNKS___ext\" type=\"application/json\">{\"namedChunks\":[\"components-Pages-Product-ProductContainer\",\"TrustPilotProductRating\",\"TrustPilotProductReview\"]}</script>\n",
       "<script async=\"\" data-chunk=\"main\" src=\"/static/js/main.90e5bc2b.js\"></script>\n",
       "<script async=\"\" data-chunk=\"components-Pages-Product-ProductContainer\" src=\"/static/js/2775.fdc93477.chunk.js\"></script>\n",
       "<script async=\"\" data-chunk=\"components-Pages-Product-ProductContainer\" src=\"/static/js/3923.119a481a.chunk.js\"></script>\n",
       "<script async=\"\" data-chunk=\"components-Pages-Product-ProductContainer\" src=\"/static/js/4174.377aa626.chunk.js\"></script>\n",
       "<script async=\"\" data-chunk=\"components-Pages-Product-ProductContainer\" src=\"/static/js/components-Pages-Product-ProductContainer.0eb23833.chunk.js\"></script>\n",
       "<script async=\"\" data-chunk=\"TrustPilotProductRating\" src=\"/static/js/TrustPilotProductRating.e9721c64.chunk.js\"></script>\n",
       "<script async=\"\" data-chunk=\"TrustPilotProductReview\" src=\"/static/js/TrustPilotProductReview.db7aa6fb.chunk.js\"></script>\n",
       "<link data-chunk=\"main\" href=\"/static/css/main.f653bce9.css\" rel=\"stylesheet\"/>\n",
       "<link data-chunk=\"components-Pages-Product-ProductContainer\" href=\"/static/css/3923.e539a6de.chunk.css\" rel=\"stylesheet\"/>\n",
       "<link data-chunk=\"components-Pages-Product-ProductContainer\" href=\"/static/css/4051.6e0fa9e6.chunk.css\" rel=\"stylesheet\"/>\n",
       "<link data-chunk=\"TrustPilotProductRating\" href=\"/static/css/727.92eac208.chunk.css\" rel=\"stylesheet\"/><div id=\"modal-root\"></div></body></html>"
      ]
     },
     "execution_count": 61,
     "metadata": {},
     "output_type": "execute_result"
    }
   ],
   "source": [
    "new_soup"
   ]
  },
  {
   "cell_type": "code",
   "execution_count": 62,
   "id": "80bd6307",
   "metadata": {},
   "outputs": [
    {
     "data": {
      "text/plain": [
       "'AirFiber 11 (no duplexers)'"
      ]
     },
     "execution_count": 62,
     "metadata": {},
     "output_type": "execute_result"
    }
   ],
   "source": [
    "new_soup.find('h1',class_='product-heading').get_text().strip()"
   ]
  },
  {
   "cell_type": "code",
   "execution_count": 63,
   "id": "7023674c",
   "metadata": {},
   "outputs": [
    {
     "data": {
      "text/plain": [
       "'Ubiquiti'"
      ]
     },
     "execution_count": 63,
     "metadata": {},
     "output_type": "execute_result"
    }
   ],
   "source": [
    "new_soup.find_all('div',class_='cell-content-value')[0].get_text().strip()"
   ]
  },
  {
   "cell_type": "code",
   "execution_count": 64,
   "id": "d3f910bf",
   "metadata": {},
   "outputs": [
    {
     "data": {
      "text/plain": [
       "'AF-11'"
      ]
     },
     "execution_count": 64,
     "metadata": {},
     "output_type": "execute_result"
    }
   ],
   "source": [
    "new_soup.find_all('div',class_='cell-content-value')[1].get_text()"
   ]
  },
  {
   "cell_type": "code",
   "execution_count": 65,
   "id": "ba8a1321",
   "metadata": {},
   "outputs": [
    {
     "data": {
      "text/plain": [
       "'0810010071613'"
      ]
     },
     "execution_count": 65,
     "metadata": {},
     "output_type": "execute_result"
    }
   ],
   "source": [
    "new_soup.find_all('div',class_=\"cell-content-value\")[3].get_text().strip()"
   ]
  },
  {
   "cell_type": "code",
   "execution_count": 90,
   "id": "0628c5f4",
   "metadata": {},
   "outputs": [
    {
     "data": {
      "text/plain": [
       "'$'"
      ]
     },
     "execution_count": 90,
     "metadata": {},
     "output_type": "execute_result"
    }
   ],
   "source": [
    "new_soup.find_all('span',class_=\"product-price-currency\")[0].get_text().strip()"
   ]
  },
  {
   "cell_type": "code",
   "execution_count": 89,
   "id": "a7c18cfa",
   "metadata": {},
   "outputs": [
    {
     "data": {
      "text/plain": [
       "'911.94'"
      ]
     },
     "execution_count": 89,
     "metadata": {},
     "output_type": "execute_result"
    }
   ],
   "source": [
    "new_soup.find_all('span',class_=\"product-price-value\")[0].get_text().strip()"
   ]
  },
  {
   "cell_type": "code",
   "execution_count": 15,
   "id": "b93e7e2d",
   "metadata": {},
   "outputs": [],
   "source": [
    "from bs4 import BeautifulSoup\n",
    "import requests\n",
    "import pandas as pd"
   ]
  },
  {
   "cell_type": "code",
   "execution_count": 16,
   "id": "763716e4",
   "metadata": {},
   "outputs": [],
   "source": [
    "def get_brandName(soup):\n",
    "    brand_name = soup.find_all('div',class_='cell-content-value')[0]\n",
    "    brand_name_value=brand_name.get_text().strip()\n",
    "    return brand_name_value\n",
    "\n",
    "def get_productName(soup):\n",
    "    product_name = soup.find('h1',class_='product-heading')\n",
    "    product_name_value=product_name.get_text().strip()\n",
    "    return product_name_value\n",
    "\n",
    "def get_partNumber(soup):\n",
    "    part_number = soup.find_all('div',class_='cell-content-value')[1]\n",
    "    part_number_value =part_number.get_text().strip()\n",
    "    return part_number_value\n",
    "\n",
    "def get_EANNumber(soup):\n",
    "    EANNumber = soup.find_all('div',class_='cell-content-value')[3]\n",
    "    EANNumber_value =EANNumber.get_text().strip()\n",
    "    return EANNumber_value\n",
    "\n",
    "def get_Price(soup):\n",
    "    currency =soup.find_all('span',class_=\"product-price-currency\")[0]\n",
    "    currency_symbol =currency.get_text().strip()\n",
    "    amount =soup.find_all('span',class_=\"product-price-value\")[0]\n",
    "    amount_Value = amount.get_text().strip()\n",
    "    price =currency_symbol + ' '+ amount_Value\n",
    "    return price"
   ]
  },
  {
   "cell_type": "code",
   "execution_count": 17,
   "id": "dc83e785",
   "metadata": {},
   "outputs": [],
   "source": [
    "if __name__ == '__main__':\n",
    "    headers = {\"User-Agent\": \"Mozilla/5.0 (Windows NT 10.0; Win64; x64) AppleWebKit/537.36 (KHTML, like Gecko) Chrome/118.0.0.0 Safari/537.36\", \"Accept-Encoding\":\"gzip, deflate\", \"Accept\":\"text/html,application/xhtml+xml,application/xml;q=0.9,*/*;q=0.8\", \"DNT\":\"1\",\"Connection\":\"close\", \"Upgrade-Insecure-Requests\":\"1\"} \n",
    "    url = 'https://www.getic.com/shop/mikrotik-ethernet-routers'\n",
    "    page = requests.get(url,headers=headers)\n",
    "    soup = BeautifulSoup(page.content,\"html.parser\")\n",
    "    links = soup.find_all(\"h3\", class_=\"product-card-header\")\n",
    "    links_list = []\n",
    "\n",
    "# Iterate through the product_cards ResultSet\n",
    "    for link in links:\n",
    "    # Find the 'a' tag inside each product_card element\n",
    "        product_link = link.a['href'].strip()\n",
    "        links_list.append(product_link)\n",
    "\n",
    "    d= {\"BRAND_NAME\": [],\"ITEM_NAME\": [],\"PART_NUMBER\": [],\"EAN_NUMBER\":[],\"PRICE WITH CURRENCY\":[]}\n",
    "    for link in links_list:  \n",
    "        page = requests.get(\"https://www.getic.com\" + link, headers=headers)\n",
    "        new_soup = BeautifulSoup(page.content, \"html.parser\")\n",
    "        \n",
    "        d['BRAND_NAME'].append(get_brandName(new_soup))\n",
    "        d['ITEM_NAME'].append(get_productName(new_soup))\n",
    "        d['PART_NUMBER'].append(get_partNumber(new_soup))\n",
    "        d['EAN_NUMBER'].append(get_EANNumber(new_soup))\n",
    "        d['PRICE WITH CURRENCY'].append(get_Price(new_soup))\n",
    "        \n",
    "        \n",
    "    df = pd.DataFrame.from_dict(d)\n",
    "    df.to_csv('Getic_Microtik.csv', index=False)\n",
    "    \n"
   ]
  },
  {
   "cell_type": "code",
   "execution_count": 18,
   "id": "ed18238f",
   "metadata": {},
   "outputs": [
    {
     "data": {
      "text/html": [
       "<div>\n",
       "<style scoped>\n",
       "    .dataframe tbody tr th:only-of-type {\n",
       "        vertical-align: middle;\n",
       "    }\n",
       "\n",
       "    .dataframe tbody tr th {\n",
       "        vertical-align: top;\n",
       "    }\n",
       "\n",
       "    .dataframe thead th {\n",
       "        text-align: right;\n",
       "    }\n",
       "</style>\n",
       "<table border=\"1\" class=\"dataframe\">\n",
       "  <thead>\n",
       "    <tr style=\"text-align: right;\">\n",
       "      <th></th>\n",
       "      <th>BRAND_NAME</th>\n",
       "      <th>ITEM_NAME</th>\n",
       "      <th>PART_NUMBER</th>\n",
       "      <th>EAN_NUMBER</th>\n",
       "      <th>PRICE WITH CURRENCY</th>\n",
       "    </tr>\n",
       "  </thead>\n",
       "  <tbody>\n",
       "    <tr>\n",
       "      <th>0</th>\n",
       "      <td>MikroTik</td>\n",
       "      <td>MikroTik hEX</td>\n",
       "      <td>RB750Gr3</td>\n",
       "      <td>4752224002761</td>\n",
       "      <td>$ 47.16</td>\n",
       "    </tr>\n",
       "    <tr>\n",
       "      <th>1</th>\n",
       "      <td>MikroTik</td>\n",
       "      <td>MikroTik hEX lite</td>\n",
       "      <td>RB750r2</td>\n",
       "      <td>4752224000378</td>\n",
       "      <td>$ 33.31</td>\n",
       "    </tr>\n",
       "    <tr>\n",
       "      <th>2</th>\n",
       "      <td>MikroTik</td>\n",
       "      <td>MikroTik hEX PoE</td>\n",
       "      <td>RB960PGS</td>\n",
       "      <td>4752224003294</td>\n",
       "      <td>$ 80.17</td>\n",
       "    </tr>\n",
       "    <tr>\n",
       "      <th>3</th>\n",
       "      <td>MikroTik</td>\n",
       "      <td>MikroTik hEX PoE lite</td>\n",
       "      <td>RB750UPr2</td>\n",
       "      <td>4752224000385</td>\n",
       "      <td>$ 46.66</td>\n",
       "    </tr>\n",
       "    <tr>\n",
       "      <th>4</th>\n",
       "      <td>MikroTik</td>\n",
       "      <td>MikroTik hEX S</td>\n",
       "      <td>RB760iGS</td>\n",
       "      <td>4752224002785</td>\n",
       "      <td>$ 64.90</td>\n",
       "    </tr>\n",
       "    <tr>\n",
       "      <th>5</th>\n",
       "      <td>MikroTik</td>\n",
       "      <td>MikroTik RB4011iGS+RM</td>\n",
       "      <td>RB4011iGS+RM</td>\n",
       "      <td>4752224002730</td>\n",
       "      <td>$ 185.60</td>\n",
       "    </tr>\n",
       "    <tr>\n",
       "      <th>6</th>\n",
       "      <td>MikroTik</td>\n",
       "      <td>MikroTik L009UiGS-RM</td>\n",
       "      <td>L009UiGS-RM</td>\n",
       "      <td>4752224008589</td>\n",
       "      <td>$ 99.57</td>\n",
       "    </tr>\n",
       "    <tr>\n",
       "      <th>7</th>\n",
       "      <td>MikroTik</td>\n",
       "      <td>MikroTik RB1100AHx4</td>\n",
       "      <td>RB1100x4</td>\n",
       "      <td>4752224002662</td>\n",
       "      <td>$ 246.88</td>\n",
       "    </tr>\n",
       "    <tr>\n",
       "      <th>8</th>\n",
       "      <td>MikroTik</td>\n",
       "      <td>MikroTik RB1100AHx4 Dude Edition</td>\n",
       "      <td>RB1100Dx4</td>\n",
       "      <td>4752224002648</td>\n",
       "      <td>$ 316.94</td>\n",
       "    </tr>\n",
       "    <tr>\n",
       "      <th>9</th>\n",
       "      <td>MikroTik</td>\n",
       "      <td>MikroTik RB3011UiAS-RM</td>\n",
       "      <td>RB3011UiAS-RM</td>\n",
       "      <td>4752224002686</td>\n",
       "      <td>$ 143.03</td>\n",
       "    </tr>\n",
       "    <tr>\n",
       "      <th>10</th>\n",
       "      <td>MikroTik</td>\n",
       "      <td>MikroTik RB5009UG+S+IN</td>\n",
       "      <td>RB5009UG+S+IN</td>\n",
       "      <td>4752224007148</td>\n",
       "      <td>$ 179.53</td>\n",
       "    </tr>\n",
       "    <tr>\n",
       "      <th>11</th>\n",
       "      <td>MikroTik</td>\n",
       "      <td>MikroTik RB5009UPr+S+IN</td>\n",
       "      <td>RB5009UPr+S+IN</td>\n",
       "      <td>4752224007155</td>\n",
       "      <td>$ 236.36</td>\n",
       "    </tr>\n",
       "    <tr>\n",
       "      <th>12</th>\n",
       "      <td>MikroTik</td>\n",
       "      <td>MikroTik RB5009UPr+S+OUT</td>\n",
       "      <td>RB5009UPr+S+OUT</td>\n",
       "      <td>4752224008459</td>\n",
       "      <td>$ 263.67</td>\n",
       "    </tr>\n",
       "    <tr>\n",
       "      <th>13</th>\n",
       "      <td>MikroTik</td>\n",
       "      <td>MikroTik PowerBox Pro</td>\n",
       "      <td>RB960PGS-PB</td>\n",
       "      <td>4752224003317</td>\n",
       "      <td>$ 85.86</td>\n",
       "    </tr>\n",
       "    <tr>\n",
       "      <th>14</th>\n",
       "      <td>MikroTik</td>\n",
       "      <td>MikroTik CCR2116-12G-4S+</td>\n",
       "      <td>CCR2116-12G-4S+</td>\n",
       "      <td>4752224007919</td>\n",
       "      <td>$ 796.13</td>\n",
       "    </tr>\n",
       "    <tr>\n",
       "      <th>15</th>\n",
       "      <td>MikroTik</td>\n",
       "      <td>MikroTik CCR2004-16G-2S+</td>\n",
       "      <td>CCR2004-16G-2S+</td>\n",
       "      <td>4752224007704</td>\n",
       "      <td>$ 377.21</td>\n",
       "    </tr>\n",
       "    <tr>\n",
       "      <th>16</th>\n",
       "      <td>MikroTik</td>\n",
       "      <td>MikroTik CCR2004-16G-2S+PC</td>\n",
       "      <td>CCR2004-16G-2S+PC</td>\n",
       "      <td>4752224007810</td>\n",
       "      <td>$ 377.21</td>\n",
       "    </tr>\n",
       "    <tr>\n",
       "      <th>17</th>\n",
       "      <td>MikroTik</td>\n",
       "      <td>MikroTik CCR2004-1G-12S+2XS</td>\n",
       "      <td>CCR2004-1G-12S+2XS</td>\n",
       "      <td>4752224000019</td>\n",
       "      <td>$ 463.25</td>\n",
       "    </tr>\n",
       "    <tr>\n",
       "      <th>18</th>\n",
       "      <td>MikroTik</td>\n",
       "      <td>MikroTik CCR2004-1G-2XS-PCIe</td>\n",
       "      <td>CCR2004-1G-2XS-PCIe</td>\n",
       "      <td>4752224007926</td>\n",
       "      <td>$ 160.32</td>\n",
       "    </tr>\n",
       "    <tr>\n",
       "      <th>19</th>\n",
       "      <td>MikroTik</td>\n",
       "      <td>MikroTik CCR2216-1G-12XS-2XQ</td>\n",
       "      <td>CCR2216-1G-12XS-2XQ</td>\n",
       "      <td>4752224000026</td>\n",
       "      <td>$ 2134.38</td>\n",
       "    </tr>\n",
       "  </tbody>\n",
       "</table>\n",
       "</div>"
      ],
      "text/plain": [
       "   BRAND_NAME                         ITEM_NAME          PART_NUMBER  \\\n",
       "0    MikroTik                      MikroTik hEX             RB750Gr3   \n",
       "1    MikroTik                 MikroTik hEX lite              RB750r2   \n",
       "2    MikroTik                  MikroTik hEX PoE             RB960PGS   \n",
       "3    MikroTik             MikroTik hEX PoE lite            RB750UPr2   \n",
       "4    MikroTik                    MikroTik hEX S             RB760iGS   \n",
       "5    MikroTik             MikroTik RB4011iGS+RM         RB4011iGS+RM   \n",
       "6    MikroTik              MikroTik L009UiGS-RM          L009UiGS-RM   \n",
       "7    MikroTik               MikroTik RB1100AHx4             RB1100x4   \n",
       "8    MikroTik  MikroTik RB1100AHx4 Dude Edition            RB1100Dx4   \n",
       "9    MikroTik            MikroTik RB3011UiAS-RM        RB3011UiAS-RM   \n",
       "10   MikroTik            MikroTik RB5009UG+S+IN        RB5009UG+S+IN   \n",
       "11   MikroTik           MikroTik RB5009UPr+S+IN       RB5009UPr+S+IN   \n",
       "12   MikroTik          MikroTik RB5009UPr+S+OUT      RB5009UPr+S+OUT   \n",
       "13   MikroTik             MikroTik PowerBox Pro          RB960PGS-PB   \n",
       "14   MikroTik          MikroTik CCR2116-12G-4S+      CCR2116-12G-4S+   \n",
       "15   MikroTik          MikroTik CCR2004-16G-2S+      CCR2004-16G-2S+   \n",
       "16   MikroTik        MikroTik CCR2004-16G-2S+PC    CCR2004-16G-2S+PC   \n",
       "17   MikroTik       MikroTik CCR2004-1G-12S+2XS   CCR2004-1G-12S+2XS   \n",
       "18   MikroTik      MikroTik CCR2004-1G-2XS-PCIe  CCR2004-1G-2XS-PCIe   \n",
       "19   MikroTik      MikroTik CCR2216-1G-12XS-2XQ  CCR2216-1G-12XS-2XQ   \n",
       "\n",
       "       EAN_NUMBER PRICE WITH CURRENCY  \n",
       "0   4752224002761             $ 47.16  \n",
       "1   4752224000378             $ 33.31  \n",
       "2   4752224003294             $ 80.17  \n",
       "3   4752224000385             $ 46.66  \n",
       "4   4752224002785             $ 64.90  \n",
       "5   4752224002730            $ 185.60  \n",
       "6   4752224008589             $ 99.57  \n",
       "7   4752224002662            $ 246.88  \n",
       "8   4752224002648            $ 316.94  \n",
       "9   4752224002686            $ 143.03  \n",
       "10  4752224007148            $ 179.53  \n",
       "11  4752224007155            $ 236.36  \n",
       "12  4752224008459            $ 263.67  \n",
       "13  4752224003317             $ 85.86  \n",
       "14  4752224007919            $ 796.13  \n",
       "15  4752224007704            $ 377.21  \n",
       "16  4752224007810            $ 377.21  \n",
       "17  4752224000019            $ 463.25  \n",
       "18  4752224007926            $ 160.32  \n",
       "19  4752224000026           $ 2134.38  "
      ]
     },
     "execution_count": 18,
     "metadata": {},
     "output_type": "execute_result"
    }
   ],
   "source": [
    "df"
   ]
  },
  {
   "cell_type": "code",
   "execution_count": null,
   "id": "a1aee909",
   "metadata": {},
   "outputs": [],
   "source": []
  },
  {
   "cell_type": "code",
   "execution_count": null,
   "id": "878a64b3",
   "metadata": {},
   "outputs": [],
   "source": []
  },
  {
   "cell_type": "code",
   "execution_count": null,
   "id": "8508277f",
   "metadata": {},
   "outputs": [],
   "source": []
  },
  {
   "cell_type": "code",
   "execution_count": null,
   "id": "749548ae",
   "metadata": {},
   "outputs": [],
   "source": [
    "# Extract product name and product link from each title\n",
    "product_data = []\n",
    "for title in titles:\n",
    "    product_name = title.a.string.strip()\n",
    "    product_link = title.a['href'].strip()\n",
    "    product_links ='https://www.getic.com'+ product_link\n",
    "    product_data.append({\n",
    "        'product_name': product_name,\n",
    "        'product_link': product_link,\n",
    "        'original_link':product_links\n",
    "    })"
   ]
  },
  {
   "cell_type": "code",
   "execution_count": 131,
   "id": "4eb16849",
   "metadata": {},
   "outputs": [],
   "source": [
    "link = \"https://www.getic.com/product/MikroTik-CRS504-4XQ-IN\"\n",
    "page = requests.get(link,headers=headers)\n",
    "soup = BeautifulSoup(page.content,\"html.parser\")\n",
    "\n",
    "    "
   ]
  },
  {
   "cell_type": "code",
   "execution_count": 132,
   "id": "c962e975",
   "metadata": {},
   "outputs": [],
   "source": [
    "div_element = soup.find('div', class_='section-cell product-ean order-4')"
   ]
  },
  {
   "cell_type": "code",
   "execution_count": 133,
   "id": "f6cae47f",
   "metadata": {},
   "outputs": [
    {
     "name": "stdout",
     "output_type": "stream",
     "text": [
      "<div class=\"section-cell product-ean order-4\"><div class=\"cell-heading\"><h4>EAN</h4></div><div class=\"cell-content\"><div class=\"cell-content-value\">4752224007407</div></div><meta content=\"4752224007407\" itemprop=\"sku\"/></div>\n"
     ]
    }
   ],
   "source": [
    "print(div_element)"
   ]
  },
  {
   "cell_type": "code",
   "execution_count": 136,
   "id": "8b086569",
   "metadata": {},
   "outputs": [
    {
     "data": {
      "text/plain": [
       "'4752224007407'"
      ]
     },
     "execution_count": 136,
     "metadata": {},
     "output_type": "execute_result"
    }
   ],
   "source": [
    "div_element.find('div',class_=\"cell-content-value\").get_text()"
   ]
  },
  {
   "cell_type": "code",
   "execution_count": 137,
   "id": "827fe41a",
   "metadata": {},
   "outputs": [
    {
     "name": "stdout",
     "output_type": "stream",
     "text": [
      "https://www.example.com/existing-page returned a 404 status code.\n",
      "https://www.example.com/non-existing-page returned a 404 status code.\n",
      "https://www.example.com/another-page returned a 404 status code.\n"
     ]
    }
   ],
   "source": [
    "import requests\n",
    "\n",
    "# Sample list of URLs\n",
    "urls = [\n",
    "    'https://www.example.com/existing-page',\n",
    "    'https://www.example.com/non-existing-page',\n",
    "    'https://www.example.com/another-page'\n",
    "]\n",
    "\n",
    "for url in urls:\n",
    "    try:\n",
    "        response = requests.get(url, timeout=10)  # setting a timeout to prevent hanging indefinitely\n",
    "        \n",
    "        # Check if the URL returned a 404 status code\n",
    "        if response.status_code == 404:\n",
    "            print(f\"{url} returned a 404 status code.\")\n",
    "        else:\n",
    "            # For demonstration, printing the first 500 characters of content if not a 404.\n",
    "            # In a real use case, you might want to process or store this content differently.\n",
    "            print(f\"Content for {url}:\\n{response.content[:500]}\\n\")\n",
    "    \n",
    "    except requests.RequestException as e:\n",
    "        print(f\"Error fetching {url}. Error: {e}\")\n"
   ]
  },
  {
   "cell_type": "code",
   "execution_count": null,
   "id": "6d0a8b8b",
   "metadata": {},
   "outputs": [],
   "source": []
  },
  {
   "cell_type": "code",
   "execution_count": null,
   "id": "f5949090",
   "metadata": {},
   "outputs": [],
   "source": []
  },
  {
   "cell_type": "code",
   "execution_count": null,
   "id": "185b6ae2",
   "metadata": {},
   "outputs": [],
   "source": []
  },
  {
   "cell_type": "code",
   "execution_count": null,
   "id": "3bb1747c",
   "metadata": {},
   "outputs": [],
   "source": []
  },
  {
   "cell_type": "code",
   "execution_count": null,
   "id": "81be2662",
   "metadata": {},
   "outputs": [],
   "source": []
  },
  {
   "cell_type": "code",
   "execution_count": null,
   "id": "9fedfe7c",
   "metadata": {},
   "outputs": [],
   "source": []
  },
  {
   "cell_type": "code",
   "execution_count": null,
   "id": "20bab3ab",
   "metadata": {},
   "outputs": [],
   "source": []
  },
  {
   "cell_type": "code",
   "execution_count": null,
   "id": "d8fb2141",
   "metadata": {},
   "outputs": [],
   "source": []
  },
  {
   "cell_type": "code",
   "execution_count": 76,
   "id": "79a2e5f0",
   "metadata": {},
   "outputs": [
    {
     "name": "stdout",
     "output_type": "stream",
     "text": [
      "['AirFiber 11 (no duplexers)', 'AirFiber 11 High Band Duplexer', 'AirFiber 11 Low Band Duplexer', 'AirFiber 11FX (no duplexers)', 'AirFiber 24', 'AirFiber 5G23-S45', 'AirFiber 5G30-S45', 'AirFiber 5G34-S45', 'AirFiber 5XHD', 'AirFiber 60 HD', 'AirFiber 60 LR', 'AirFiber 60 XG', 'AirFiber 60 XR', 'AirFiber AF11-Complete-HB', 'AirFiber AF11-Complete-LB', 'AirFiber OMT RD Conversion Kit, Slant 45', 'airMAX IsoBeam 620']\n"
     ]
    }
   ],
   "source": [
    "Product_name=[title.text.strip() for title in title1]\n",
    "print(Product_name)"
   ]
  },
  {
   "cell_type": "code",
   "execution_count": 108,
   "id": "1b9e8d79",
   "metadata": {},
   "outputs": [],
   "source": [
    "import pandas as pd"
   ]
  },
  {
   "cell_type": "code",
   "execution_count": null,
   "id": "ef2044bf",
   "metadata": {},
   "outputs": [],
   "source": []
  },
  {
   "cell_type": "code",
   "execution_count": 111,
   "id": "f248863b",
   "metadata": {},
   "outputs": [],
   "source": [
    "df = pd.DataFrame(columns = Product_name )\n"
   ]
  },
  {
   "cell_type": "code",
   "execution_count": 78,
   "id": "9dfc4395",
   "metadata": {},
   "outputs": [
    {
     "ename": "AttributeError",
     "evalue": "'str' object has no attribute 'text'",
     "output_type": "error",
     "traceback": [
      "\u001b[1;31m---------------------------------------------------------------------------\u001b[0m",
      "\u001b[1;31mAttributeError\u001b[0m                            Traceback (most recent call last)",
      "Cell \u001b[1;32mIn[78], line 1\u001b[0m\n\u001b[1;32m----> 1\u001b[0m Part_Number\u001b[38;5;241m=\u001b[39m[title1\u001b[38;5;241m.\u001b[39mtext\u001b[38;5;241m.\u001b[39mstrip() \u001b[38;5;28;01mfor\u001b[39;00m title1 \u001b[38;5;129;01min\u001b[39;00m title]\n\u001b[0;32m      2\u001b[0m \u001b[38;5;28mprint\u001b[39m(Part_Number)\n",
      "Cell \u001b[1;32mIn[78], line 1\u001b[0m, in \u001b[0;36m<listcomp>\u001b[1;34m(.0)\u001b[0m\n\u001b[1;32m----> 1\u001b[0m Part_Number\u001b[38;5;241m=\u001b[39m[title1\u001b[38;5;241m.\u001b[39mtext\u001b[38;5;241m.\u001b[39mstrip() \u001b[38;5;28;01mfor\u001b[39;00m title1 \u001b[38;5;129;01min\u001b[39;00m title]\n\u001b[0;32m      2\u001b[0m \u001b[38;5;28mprint\u001b[39m(Part_Number)\n",
      "\u001b[1;31mAttributeError\u001b[0m: 'str' object has no attribute 'text'"
     ]
    }
   ],
   "source": [
    "Part_Number=[title1.text.strip() for title1 in title]\n",
    "print(Part_Number)"
   ]
  },
  {
   "cell_type": "code",
   "execution_count": 129,
   "id": "91dcafa7",
   "metadata": {},
   "outputs": [
    {
     "name": "stdout",
     "output_type": "stream",
     "text": [
      "                                Product Name       Part Number\n",
      "0                 AirFiber 11 (no duplexers)               NaN\n",
      "1             AirFiber 11 High Band Duplexer               NaN\n",
      "2              AirFiber 11 Low Band Duplexer               NaN\n",
      "3               AirFiber 11FX (no duplexers)               NaN\n",
      "4                                AirFiber 24               NaN\n",
      "5                          AirFiber 5G23-S45               NaN\n",
      "6                          AirFiber 5G30-S45               NaN\n",
      "7                          AirFiber 5G34-S45               NaN\n",
      "8                              AirFiber 5XHD               NaN\n",
      "9                             AirFiber 60 HD               NaN\n",
      "10                            AirFiber 60 LR               NaN\n",
      "11                            AirFiber 60 XG               NaN\n",
      "12                            AirFiber 60 XR               NaN\n",
      "13                 AirFiber AF11-Complete-HB               NaN\n",
      "14                 AirFiber AF11-Complete-LB               NaN\n",
      "15  AirFiber OMT RD Conversion Kit, Slant 45               NaN\n",
      "16                        airMAX IsoBeam 620               NaN\n",
      "0                                        NaN             AF-11\n",
      "1                                        NaN       AF-11-DUP-H\n",
      "2                                        NaN       AF-11-DUP-L\n",
      "3                                        NaN           AF-11FX\n",
      "4                                        NaN             AF-24\n",
      "5                                        NaN       AF-5G23-S45\n",
      "6                                        NaN       AF-5G30-S45\n",
      "7                                        NaN       AF-5G34-S45\n",
      "8                                        NaN           AF-5XHD\n",
      "9                                        NaN           AF60-HD\n",
      "10                                       NaN           AF60-LR\n",
      "11                                       NaN           AF60-XG\n",
      "12                                       NaN           AF60-XR\n",
      "13                                       NaN  AF11-Complete-HB\n",
      "14                                       NaN  AF11-Complete-LB\n",
      "15                                       NaN     AF-5G-OMT-S45\n",
      "16                                       NaN      ISO-BEAM-620\n"
     ]
    }
   ],
   "source": [
    "df = pd.DataFrame({'Product Name': Product_name})\n",
    "df1 =pd.DataFrame({'Part Number': Part_Number})\n",
    "result = pd.concat([df, df1])\n",
    "print(result)"
   ]
  },
  {
   "cell_type": "code",
   "execution_count": null,
   "id": "3c0f464b",
   "metadata": {},
   "outputs": [],
   "source": [
    "outer_class = new_soup.find(class_='cell-content')\n",
    "inner_class = outer_class.find(class_='cell-content-value')\n",
    "print(inner_class.text.strip())"
   ]
  }
 ],
 "metadata": {
  "kernelspec": {
   "display_name": "Python 3 (ipykernel)",
   "language": "python",
   "name": "python3"
  },
  "language_info": {
   "codemirror_mode": {
    "name": "ipython",
    "version": 3
   },
   "file_extension": ".py",
   "mimetype": "text/x-python",
   "name": "python",
   "nbconvert_exporter": "python",
   "pygments_lexer": "ipython3",
   "version": "3.11.4"
  }
 },
 "nbformat": 4,
 "nbformat_minor": 5
}
